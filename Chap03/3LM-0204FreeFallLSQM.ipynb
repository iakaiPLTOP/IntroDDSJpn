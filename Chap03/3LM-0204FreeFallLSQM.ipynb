{
 "cells": [
  {
   "cell_type": "code",
   "execution_count": 1,
   "metadata": {
    "executionInfo": {
     "elapsed": 338,
     "status": "ok",
     "timestamp": 1728557538044,
     "user": {
      "displayName": "赤井一郎",
      "userId": "14970386652069821665"
     },
     "user_tz": -540
    },
    "id": "ucYBLZpg4pSP"
   },
   "outputs": [],
   "source": [
    "############################################\n",
    "BaseDir      = 'IntroDDSJpn/Chap03/'\n",
    "OutputDir    = '3LM-0204FreeFallLSQM/'\n",
    "FileBaseName = '3LM-0204FreeFallLSQM'"
   ]
  },
  {
   "cell_type": "markdown",
   "metadata": {
    "id": "2QRfcoT-4u13"
   },
   "source": [
    "* Google Colabかどうかを判別し、このJupyter Notebookのあるディレクトリを特定します。"
   ]
  },
  {
   "cell_type": "code",
   "execution_count": 2,
   "metadata": {
    "colab": {
     "base_uri": "https://localhost:8080/"
    },
    "executionInfo": {
     "elapsed": 28331,
     "status": "ok",
     "timestamp": 1728557566676,
     "user": {
      "displayName": "赤井一郎",
      "userId": "14970386652069821665"
     },
     "user_tz": -540
    },
    "id": "66dzNSqz4v21",
    "outputId": "21d9dcdb-f406-4e2e-b3c0-de1ad2e5eeee"
   },
   "outputs": [
    {
     "name": "stdout",
     "output_type": "stream",
     "text": [
      "ipynb file path = d:\\home\\iakai\\CY\\Docs\\Kuma3Curriculum\\2025森北出版\\GitHubIntroDDSJpn\\IntroDDSJpn\\Chap03/\n"
     ]
    }
   ],
   "source": [
    "############################################\n",
    "import sys\n",
    "import os\n",
    "############################################\n",
    "def IsGoogleColab():\n",
    "  if 'google.colab' in sys.modules:\n",
    "    return True\n",
    "  else:\n",
    "    return False\n",
    "############################################\n",
    "if IsGoogleColab():\n",
    "  #\n",
    "  from google.colab import drive\n",
    "  drive.mount('/content/drive')\n",
    "  #\n",
    "  IpynbDir = 'drive/My Drive/Colab Notebooks/' + BaseDir\n",
    "else:\n",
    "  #\n",
    "  IpynbDir =  os.getcwd() + '/'\n",
    "############################################\n",
    "print( 'ipynb file path = %s' % IpynbDir )"
   ]
  },
  {
   "cell_type": "markdown",
   "metadata": {
    "id": "Z2rZXMQG4yCu"
   },
   "source": [
    "* 必要なパッケージを読み込み、ファイルの出力先のディレクトリを用意します。"
   ]
  },
  {
   "cell_type": "code",
   "execution_count": 3,
   "metadata": {
    "colab": {
     "base_uri": "https://localhost:8080/"
    },
    "executionInfo": {
     "elapsed": 2210,
     "status": "ok",
     "timestamp": 1728557568878,
     "user": {
      "displayName": "赤井一郎",
      "userId": "14970386652069821665"
     },
     "user_tz": -540
    },
    "id": "M-cB3W5941Q2",
    "outputId": "78ca8f05-9dca-45d7-b13d-f7c1d8c7c038"
   },
   "outputs": [
    {
     "name": "stdout",
     "output_type": "stream",
     "text": [
      "matplotlib Ver. 3.9.2\n",
      "numpy      Ver. 1.26.4\n",
      "pandas     Ver. 2.2.3\n",
      "sklearn    Ver. 1.5.2\n",
      "FilePath = d:\\home\\iakai\\CY\\Docs\\Kuma3Curriculum\\2025森北出版\\GitHubIntroDDSJpn\\IntroDDSJpn\\Chap03/3LM-0204FreeFallLSQM/\n",
      "  making d:\\home\\iakai\\CY\\Docs\\Kuma3Curriculum\\2025森北出版\\GitHubIntroDDSJpn\\IntroDDSJpn\\Chap03/3LM-0204FreeFallLSQM/\n"
     ]
    }
   ],
   "source": [
    "############################################\n",
    "import matplotlib as mpl\n",
    "import matplotlib.pyplot as plt\n",
    "%matplotlib inline\n",
    "print('matplotlib Ver.', mpl.__version__)\n",
    "#\n",
    "############################################\n",
    "import numpy as np\n",
    "import numpy.random as rd\n",
    "print('numpy      Ver.', np.__version__)\n",
    "#\n",
    "############################################\n",
    "import pandas as pd\n",
    "print('pandas     Ver.', pd.__version__)\n",
    "#\n",
    "############################################\n",
    "import sklearn as skl\n",
    "import sklearn.linear_model as lm\n",
    "import sklearn.preprocessing as prep\n",
    "print('sklearn    Ver.', skl.__version__)\n",
    "#\n",
    "############################################\n",
    "FilePath = IpynbDir + OutputDir\n",
    "print( 'FilePath = %s' % FilePath )\n",
    "#\n",
    "if( True != os.path.isdir(FilePath) ):\n",
    "    print('  making %s' % FilePath )\n",
    "    os.mkdir(FilePath)\n",
    "else:\n",
    "    print(' %s is exist.' % FilePath )"
   ]
  },
  {
   "cell_type": "markdown",
   "metadata": {
    "id": "HAIj1r-s-q_k"
   },
   "source": [
    "線形写像の最小二乗法\n",
    "\n",
    "* 線形写像:\n",
    "$$\n",
    "\\boldsymbol{y}\\approx\\mathbf{X}\\,\\boldsymbol{\\omega}\n",
    "$$\n",
    "\n",
    "* 最小二乗法型の一般化逆行列:\n",
    "$$\n",
    "\\left(\\mathbf{X}^{\\intercal}\\mathbf{X}\\right)^{-1}\n",
    "\\mathbf{X}^{\\intercal}\n",
    "$$\n",
    "\n",
    "* 最小二乗法の解:\n",
    "$$\n",
    "\\hat{\\boldsymbol{\\omega}}\n",
    "=\n",
    "\\left(\\mathbf{X}^{\\intercal}\\mathbf{X}\\right)^{-1}\n",
    "\\mathbf{X}^{\\intercal}\n",
    "\\boldsymbol{y}\n",
    "$$"
   ]
  },
  {
   "cell_type": "markdown",
   "metadata": {
    "id": "t8E1PBnxAJRP"
   },
   "source": [
    "---\n",
    "自由落下:\n",
    "$$\n",
    "    y(t)\n",
    "    =\n",
    "    v_{0}t\n",
    "    -\n",
    "    \\frac{1}{2}\n",
    "    g\n",
    "    t^{2}\n",
    "$$"
   ]
  },
  {
   "cell_type": "markdown",
   "metadata": {
    "id": "zMopfEkgANKv"
   },
   "source": [
    "自由落下計測データ"
   ]
  },
  {
   "cell_type": "code",
   "execution_count": 4,
   "metadata": {
    "colab": {
     "base_uri": "https://localhost:8080/"
    },
    "executionInfo": {
     "elapsed": 853,
     "status": "ok",
     "timestamp": 1728557569725,
     "user": {
      "displayName": "赤井一郎",
      "userId": "14970386652069821665"
     },
     "user_tz": -540
    },
    "id": "PdRIJX9tDQPv",
    "outputId": "e757f519-3892-4d77-97c7-a80a579e9823"
   },
   "outputs": [
    {
     "name": "stdout",
     "output_type": "stream",
     "text": [
      "   sec   y_m\n",
      "0    0   0.0\n",
      "1    1  34.0\n",
      "2    2  59.3\n",
      "3    3  75.9\n",
      "4    4  81.7\n",
      "5    5  77.5\n",
      "6    6  62.2\n",
      "7    7  38.7\n",
      "8    8   8.0\n",
      "[0 1 2 3 4 5 6 7 8]\n",
      "[ 0.  34.  59.3 75.9 81.7 77.5 62.2 38.7  8. ]\n"
     ]
    }
   ],
   "source": [
    "############################################\n",
    "DataFile = '3LM-0204FreeFallLSQM.xlsx'\n",
    "#\n",
    "DataPath = IpynbDir + DataFile\n",
    "df_FreeFall = pd.read_excel( DataPath )\n",
    "print( df_FreeFall )\n",
    "#\n",
    "data_t = np.array( df_FreeFall['sec'] )\n",
    "print( data_t )\n",
    "#\n",
    "data_y = np.array( df_FreeFall['y_m'] )\n",
    "print( data_y )"
   ]
  },
  {
   "cell_type": "markdown",
   "metadata": {
    "id": "hvq9DZT4wTIk"
   },
   "source": [
    "自由落下:\n",
    "$$\n",
    "    y(t)\n",
    "    =\n",
    "    v_{0}t\n",
    "    -\n",
    "    \\frac{1}{2}\n",
    "    g\n",
    "    t^{2}\n",
    "$$\n",
    "\n",
    "$$\n",
    "    \\left(\n",
    "      \\begin{array}{c}\n",
    "        y_{1}  \\\\\n",
    "        \\vdots \\\\\n",
    "        y_{n}  \\\\\n",
    "        \\vdots \\\\\n",
    "        y_{N}\n",
    "      \\end{array}\n",
    "    \\right)\n",
    "    =\n",
    "    \\left(\n",
    "      \\begin{array}{cc}\n",
    "        t_{1}  & -\\frac{1}{2}t_{1}^{2} \\\\\n",
    "        \\vdots & \\vdots                \\\\\n",
    "        t_{m}  & -\\frac{1}{2}t_{m}^{2} \\\\\n",
    "        \\vdots & \\vdots                \\\\\n",
    "        t_{M} & -\\frac{1}{2}t_{M}^{2}\n",
    "      \\end{array}\n",
    "    \\right)\n",
    "    \\left(\n",
    "      \\begin{array}{c}\n",
    "        v_{0} \\\\\n",
    "        g\n",
    "      \\end{array}\n",
    "    \\right)\n",
    "    , \\,\\,\\,\n",
    "    \\mathbf{X}=\n",
    "    \\left(\n",
    "      \\begin{array}{cc}\n",
    "        t_{1}  & -\\frac{1}{2}t_{1}^{2} \\\\\n",
    "        \\vdots & \\vdots                \\\\\n",
    "        t_{m}  & -\\frac{1}{2}t_{m}^{2} \\\\\n",
    "        \\vdots & \\vdots                \\\\\n",
    "        t_{M} & -\\frac{1}{2}t_{M}^{2}\n",
    "      \\end{array}\n",
    "    \\right)\n",
    "    , \\,\\,\\,\n",
    "    \\boldsymbol{\\omega}=\n",
    "    \\left(\n",
    "      \\begin{array}{c}\n",
    "        v_{0} \\\\\n",
    "        g\n",
    "      \\end{array}\n",
    "    \\right)\n",
    "$$"
   ]
  },
  {
   "cell_type": "code",
   "execution_count": 5,
   "metadata": {
    "colab": {
     "base_uri": "https://localhost:8080/"
    },
    "executionInfo": {
     "elapsed": 18,
     "status": "ok",
     "timestamp": 1728557569726,
     "user": {
      "displayName": "赤井一郎",
      "userId": "14970386652069821665"
     },
     "user_tz": -540
    },
    "id": "H9yTT5-2FWqi",
    "outputId": "dfdb5670-29f3-4f8c-9237-54f2db55c225"
   },
   "outputs": [
    {
     "name": "stdout",
     "output_type": "stream",
     "text": [
      "[[  0.    0. ]\n",
      " [  1.   -0.5]\n",
      " [  2.   -2. ]\n",
      " [  3.   -4.5]\n",
      " [  4.   -8. ]\n",
      " [  5.  -12.5]\n",
      " [  6.  -18. ]\n",
      " [  7.  -24.5]\n",
      " [  8.  -32. ]]\n"
     ]
    }
   ],
   "source": [
    "############################################\n",
    "XX = np.zeros( (len(data_t), 2) )\n",
    "#\n",
    "XX[:,0] = data_t\n",
    "XX[:,1] = -data_t**2 / 2\n",
    "#\n",
    "print(XX)"
   ]
  },
  {
   "cell_type": "markdown",
   "metadata": {
    "id": "bsfnzmozGLlB"
   },
   "source": [
    "最小二乗法の解:\n",
    "\n",
    "$$\n",
    "\\hat{\\boldsymbol{\\omega}}\n",
    "=\n",
    "\\left(\\mathbf{X}^{\\intercal}\\mathbf{X}\\right)^{-1}\n",
    "\\mathbf{X}^{\\intercal}\n",
    "\\boldsymbol{y}\n",
    "$$"
   ]
  },
  {
   "cell_type": "code",
   "execution_count": 6,
   "metadata": {
    "colab": {
     "base_uri": "https://localhost:8080/"
    },
    "executionInfo": {
     "elapsed": 14,
     "status": "ok",
     "timestamp": 1728557569726,
     "user": {
      "displayName": "赤井一郎",
      "userId": "14970386652069821665"
     },
     "user_tz": -540
    },
    "id": "4FQOh69gGOSw",
    "outputId": "6f521000-5774-4363-cdf4-497cb1575375"
   },
   "outputs": [
    {
     "name": "stdout",
     "output_type": "stream",
     "text": [
      "[39.57532765  9.676955  ]\n"
     ]
    }
   ],
   "source": [
    "############################################\n",
    "XX_inv = np.linalg.inv( XX.T @ XX ) @ XX.T\n",
    "#\n",
    "omega_hat = XX_inv @ data_y\n",
    "#\n",
    "print( omega_hat )"
   ]
  },
  {
   "cell_type": "markdown",
   "metadata": {
    "id": "gRnU1lr6HekZ"
   },
   "source": [
    "回帰用のデータを用意"
   ]
  },
  {
   "cell_type": "code",
   "execution_count": 7,
   "metadata": {
    "colab": {
     "base_uri": "https://localhost:8080/"
    },
    "executionInfo": {
     "elapsed": 10,
     "status": "ok",
     "timestamp": 1728557569726,
     "user": {
      "displayName": "赤井一郎",
      "userId": "14970386652069821665"
     },
     "user_tz": -540
    },
    "id": "bkQx7eA2GxqK",
    "outputId": "7c2ccc96-3dee-4b8c-fb4f-3aee1602feae"
   },
   "outputs": [
    {
     "name": "stdout",
     "output_type": "stream",
     "text": [
      "[ 0.          6.33230566 12.40666666 18.223083   23.78155469 29.08208172\n",
      " 34.12466409 38.90930181 43.43599487 47.70474327 51.71554702 55.46840611\n",
      " 58.96332055 62.20029033 65.17931545 67.90039591 70.36353172 72.56872288\n",
      " 74.51596937 76.20527121 77.6366284  78.81004092 79.72550879 80.38303201\n",
      " 80.78261057 80.92424447 80.80793371 80.4336783  79.80147823 78.91133351\n",
      " 77.76324413 76.35721009 74.6932314  72.77130804 70.59144004 68.15362737\n",
      " 65.45787006 62.50416808 59.29252145 55.82293016 52.09539421 48.10991361\n",
      " 43.86648835 39.36511844 34.60580387 29.58854464 24.31334075 18.78019221\n",
      " 12.98909902  6.94006116]\n"
     ]
    }
   ],
   "source": [
    "############################################\n",
    "data_t_min = np.amin( data_t )\n",
    "data_t_max = np.amax( data_t )\n",
    "#\n",
    "data_t_reg = np.linspace( data_t_min, data_t_max, num=50 )\n",
    "XX_reg     = np.zeros( (len(data_t_reg), 2) )\n",
    "#\n",
    "XX_reg[:,0] = data_t_reg\n",
    "XX_reg[:,1] = -data_t_reg**2 / 2\n",
    "#\n",
    "data_y_reg  = XX_reg @ omega_hat\n",
    "print( data_y_reg )"
   ]
  },
  {
   "cell_type": "code",
   "execution_count": 8,
   "metadata": {
    "colab": {
     "base_uri": "https://localhost:8080/",
     "height": 502
    },
    "executionInfo": {
     "elapsed": 1793,
     "status": "ok",
     "timestamp": 1728557571512,
     "user": {
      "displayName": "赤井一郎",
      "userId": "14970386652069821665"
     },
     "user_tz": -540
    },
    "id": "B3b4FMo4HiiZ",
    "outputId": "4a6f5219-ec15-4f60-8649-987ccbdbc5de"
   },
   "outputs": [
    {
     "data": {
      "image/png": "[encoded data removed]",
      "text/plain": [
       "<Figure size 600x500 with 1 Axes>"
      ]
     },
     "metadata": {},
     "output_type": "display_data"
    }
   ],
   "source": [
    "############################################\n",
    "plt.rcParams['font.size'] = 18\n",
    "#\n",
    "fig = plt.figure( figsize=(6,5) )\n",
    "fig.subplots_adjust( left=0.15, right=0.95, top=0.95,  bottom=0.15 )\n",
    "#\n",
    "########\n",
    "ax1 = fig.add_subplot(1,1,1)\n",
    "#\n",
    "ax1.scatter( data_t, data_y, label='Measured', color='black', s=40 )\n",
    "#\n",
    "ax1.plot( data_t_reg, data_y_reg, label='Regression (LSQM)', color='red', linestyle='solid',  linewidth=2 )\n",
    "#\n",
    "y_bot, y_top = ax1.set_ylim()\n",
    "y_center = (y_top + y_bot) / 2.0\n",
    "y_diff   = (y_top - y_bot) / 2.0\n",
    "#\n",
    "y_top = y_center + 1.2 * y_diff\n",
    "y_bot = 0.0 - 0.05 * y_diff\n",
    "#\n",
    "ax1.set_ylim( y_bot, y_top )\n",
    "#\n",
    "########\n",
    "omega_str = r'$v_{0}=$%.1f m/s, $g=$%.2f m/s$^{2}$' % (omega_hat[0], omega_hat[1])\n",
    "ax1.text( 0.0, y_top, omega_str, horizontalalignment='left', verticalalignment='top', color='red'  )\n",
    "########\n",
    "# 座標軸\n",
    "ax1.axhline( y=0.0, color='black', linestyle='dashed', linewidth=0.5 )\n",
    "ax1.axvline( x=0.0, color='black', linestyle='dashed', linewidth=0.5 )\n",
    "#\n",
    "ax1.set_xlabel( r'$t$ (sec)' )\n",
    "ax1.set_ylabel( r'$y$ (m)' )\n",
    "#\n",
    "##############################\n",
    "ax1.legend( fontsize=14 )\n",
    "#\n",
    "plt.show()\n",
    "#\n",
    "##############################\n",
    "fig.savefig( FilePath + FileBaseName + '.pdf' )"
   ]
  }
 ],
 "metadata": {
  "colab": {
   "provenance": []
  },
  "kernelspec": {
   "display_name": "Python 3",
   "language": "python",
   "name": "python3"
  },
  "language_info": {
   "codemirror_mode": {
    "name": "ipython",
    "version": 3
   },
   "file_extension": ".py",
   "mimetype": "text/x-python",
   "name": "python",
   "nbconvert_exporter": "python",
   "pygments_lexer": "ipython3",
   "version": "3.12.4"
  }
 },
 "nbformat": 4,
 "nbformat_minor": 0
}
