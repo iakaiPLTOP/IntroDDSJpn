{
 "cells": [
  {
   "cell_type": "code",
   "execution_count": 1,
   "metadata": {
    "executionInfo": {
     "elapsed": 472,
     "status": "ok",
     "timestamp": 1728557214398,
     "user": {
      "displayName": "赤井一郎",
      "userId": "14970386652069821665"
     },
     "user_tz": -540
    },
    "id": "ucYBLZpg4pSP"
   },
   "outputs": [],
   "source": [
    "############################################\n",
    "BaseDir      = 'IntroDDSJpn/Chap03/'\n",
    "OutputDir    = '3prep-0506StandardScalar2D/'\n",
    "FileBaseName = '3prep-0506StandardScalar2D'"
   ]
  },
  {
   "cell_type": "markdown",
   "metadata": {
    "id": "2QRfcoT-4u13"
   },
   "source": [
    "* Google Colabかどうかを判別し、このJupyter Notebookのあるディレクトリを特定します。"
   ]
  },
  {
   "cell_type": "code",
   "execution_count": 2,
   "metadata": {
    "colab": {
     "base_uri": "https://localhost:8080/"
    },
    "executionInfo": {
     "elapsed": 21172,
     "status": "ok",
     "timestamp": 1728557235933,
     "user": {
      "displayName": "赤井一郎",
      "userId": "14970386652069821665"
     },
     "user_tz": -540
    },
    "id": "66dzNSqz4v21",
    "outputId": "d509ccf8-127b-4057-a6d6-b33bb09d50b8"
   },
   "outputs": [
    {
     "name": "stdout",
     "output_type": "stream",
     "text": [
      "ipynb file path = d:\\home\\iakai\\CY\\Docs\\Kuma3Curriculum\\2025森北出版\\GitHubIntroDDSJpn\\IntroDDSJpn\\Chap03/\n"
     ]
    }
   ],
   "source": [
    "############################################\n",
    "import sys\n",
    "import os\n",
    "############################################\n",
    "def IsGoogleColab():\n",
    "  if 'google.colab' in sys.modules:\n",
    "    return True\n",
    "  else:\n",
    "    return False\n",
    "############################################\n",
    "if IsGoogleColab():\n",
    "  #\n",
    "  from google.colab import drive\n",
    "  drive.mount('/content/drive')\n",
    "  #\n",
    "  IpynbDir = 'drive/My Drive/Colab Notebooks/' + BaseDir\n",
    "else:\n",
    "  #\n",
    "  IpynbDir =  os.getcwd() + '/'\n",
    "############################################\n",
    "print( 'ipynb file path = %s' % IpynbDir )"
   ]
  },
  {
   "cell_type": "markdown",
   "metadata": {
    "id": "Z2rZXMQG4yCu"
   },
   "source": [
    "* 必要なパッケージを読み込み、ファイルの出力先のディレクトリを用意します。"
   ]
  },
  {
   "cell_type": "code",
   "execution_count": 3,
   "metadata": {
    "colab": {
     "base_uri": "https://localhost:8080/"
    },
    "executionInfo": {
     "elapsed": 3106,
     "status": "ok",
     "timestamp": 1728557239034,
     "user": {
      "displayName": "赤井一郎",
      "userId": "14970386652069821665"
     },
     "user_tz": -540
    },
    "id": "M-cB3W5941Q2",
    "outputId": "c84879e9-bce4-4afe-ec4c-146fab1c863d"
   },
   "outputs": [
    {
     "name": "stdout",
     "output_type": "stream",
     "text": [
      "matplotlib Ver. 3.9.2\n",
      "numpy      Ver. 1.26.4\n",
      "sklearn    Ver. 1.5.2\n",
      "FilePath = d:\\home\\iakai\\CY\\Docs\\Kuma3Curriculum\\2025森北出版\\GitHubIntroDDSJpn\\IntroDDSJpn\\Chap03/3prep-0506StandardScalar2D/\n",
      "  making d:\\home\\iakai\\CY\\Docs\\Kuma3Curriculum\\2025森北出版\\GitHubIntroDDSJpn\\IntroDDSJpn\\Chap03/3prep-0506StandardScalar2D/\n"
     ]
    }
   ],
   "source": [
    "############################################\n",
    "import matplotlib as mpl\n",
    "import matplotlib.pyplot as plt\n",
    "%matplotlib inline\n",
    "print('matplotlib Ver.', mpl.__version__)\n",
    "#\n",
    "############################################\n",
    "import numpy as np\n",
    "import numpy.random as rd\n",
    "from numpy import linalg as LA\n",
    "print('numpy      Ver.', np.__version__)\n",
    "#\n",
    "############################################\n",
    "import sklearn as skl\n",
    "import sklearn.linear_model as lm\n",
    "import sklearn.preprocessing as prep\n",
    "print('sklearn    Ver.', skl.__version__)\n",
    "#\n",
    "############################################\n",
    "FilePath = IpynbDir + OutputDir\n",
    "print( 'FilePath = %s' % FilePath )\n",
    "#\n",
    "if( True != os.path.isdir(FilePath) ):\n",
    "    print('  making %s' % FilePath )\n",
    "    os.mkdir(FilePath)\n",
    "else:\n",
    "    print(' %s is exist.' % FilePath )"
   ]
  },
  {
   "cell_type": "markdown",
   "metadata": {
    "id": "POXYKNkfV9Rx"
   },
   "source": [
    "多項式回帰を線形モデル\n",
    "$$\n",
    "y_{i}\n",
    "=\n",
    "a_{0}\n",
    "+\n",
    "\\sum_{k=1}^{K}\n",
    "a_k\n",
    "x_i^k\n",
    "$$\n",
    "* $\\boldsymbol{\\omega}=(a_1, \\cdots, a_k, \\cdots, a_K)$\n",
    "* 計画行列 $\\boldsymbol{X}$\n",
    "$$\n",
    "\\boldsymbol{X}\n",
    "=\n",
    "\\left(\n",
    "  \\begin{array}{ccccc}\n",
    "  x_1 & \\cdots & x_1^k & \\cdots & x_1^K \\\\\n",
    "  \\vdots & \\ddots & \\vdots & \\ddots & \\vdots \\\\\n",
    "  x_m & \\cdots & x_m^k & \\cdots & x_m^K \\\\\n",
    "  \\vdots & \\ddots & \\vdots & \\ddots & \\vdots \\\\\n",
    "  x_M & \\cdots & x_M^k & \\cdots & x_M^K\n",
    "  \\end{array}\n",
    "\\right)\n",
    "$$\n",
    "* 線形写像\n",
    "$$\n",
    "\\boldsymbol{y}=\\boldsymbol{X}\\boldsymbol{\\omega}+a_{0},\n",
    "$$\n",
    "$$\n",
    "\\left(\n",
    "  \\begin{array}{c}\n",
    "  y_1\\\\\n",
    "  \\vdots \\\\\n",
    "  y_m \\\\\n",
    "  \\vdots \\\\\n",
    "  y_M\n",
    "  \\end{array}\n",
    "\\right)\n",
    "=\n",
    "\\left(\n",
    "  \\begin{array}{c}\n",
    "  a_0\\\\\n",
    "  \\vdots \\\\\n",
    "  a_0 \\\\\n",
    "  \\vdots \\\\\n",
    "  a_0\n",
    "  \\end{array}\n",
    "\\right)\n",
    "+\n",
    "\\left(\n",
    "  \\begin{array}{ccccc}\n",
    "  x_1 & \\cdots & x_1^k & \\cdots & x_1^K \\\\\n",
    "  \\vdots & \\ddots & \\vdots & \\ddots & \\vdots \\\\\n",
    "  x_m & \\cdots & x_m^k & \\cdots & x_m^K \\\\\n",
    "  \\vdots & \\ddots & \\vdots & \\ddots & \\vdots \\\\\n",
    "  x_M & \\cdots & x_M^k & \\cdots & x_M^K\n",
    "  \\end{array}\n",
    "\\right)\n",
    "\\left(\n",
    "  \\begin{array}{c}\n",
    "  a_1\\\\\n",
    "  \\vdots \\\\\n",
    "  a_k \\\\\n",
    "  \\vdots \\\\\n",
    "  a_K\n",
    "  \\end{array}\n",
    "\\right)\n",
    "$$"
   ]
  },
  {
   "cell_type": "markdown",
   "metadata": {
    "id": "o3EV99i5WJNI"
   },
   "source": [
    "真値を準備する\n",
    "* $K=11$とする。\n",
    "* $a_0=0.2,\\,a_1=1.0,\\,a_2=0.2,\\,a_3=-0.3$ として、それ以外は0とする。\n",
    "$$\n",
    "y=0.2+1.0x+0.2x^2-0.3x^3\n",
    "$$"
   ]
  },
  {
   "cell_type": "code",
   "execution_count": 4,
   "metadata": {
    "colab": {
     "base_uri": "https://localhost:8080/"
    },
    "executionInfo": {
     "elapsed": 14,
     "status": "ok",
     "timestamp": 1728557239034,
     "user": {
      "displayName": "赤井一郎",
      "userId": "14970386652069821665"
     },
     "user_tz": -540
    },
    "id": "qAX5ItxrWD24",
    "outputId": "08eb714e-996e-4d40-9d90-3cff6f69556f"
   },
   "outputs": [
    {
     "name": "stdout",
     "output_type": "stream",
     "text": [
      "[ 1.   0.2 -0.3  0.   0.   0.   0.   0.   0.   0. ]\n"
     ]
    }
   ],
   "source": [
    "############################################\n",
    "# y=0.2+1.0X+0.2X^{2}-0.3X^{3}\n",
    "#\n",
    "a_0 = 0.2\n",
    "#\n",
    "w_K = 11 - 1\n",
    "#\n",
    "w_true = np.zeros((w_K,))\n",
    "# a_1\n",
    "w_true[0] = 1.0\n",
    "# a_2\n",
    "w_true[1] = 0.2\n",
    "# a_3\n",
    "w_true[2] = -0.3\n",
    "#\n",
    "print(w_true)"
   ]
  },
  {
   "cell_type": "markdown",
   "metadata": {
    "id": "RRh0MeB1WU0g"
   },
   "source": [
    "解析データの準備\n",
    "* データ点数: $M=51$\n",
    "* $x$値の範囲: $x=[-2.0, +2.0]$"
   ]
  },
  {
   "cell_type": "code",
   "execution_count": 5,
   "metadata": {
    "colab": {
     "base_uri": "https://localhost:8080/"
    },
    "executionInfo": {
     "elapsed": 9,
     "status": "ok",
     "timestamp": 1728557239034,
     "user": {
      "displayName": "赤井一郎",
      "userId": "14970386652069821665"
     },
     "user_tz": -540
    },
    "id": "gsGvPUt_WE9_",
    "outputId": "2b9a1d56-4226-4417-e53d-4fa9f0ae47e4"
   },
   "outputs": [
    {
     "name": "stdout",
     "output_type": "stream",
     "text": [
      "[-2.   -1.92 -1.84 -1.76 -1.68 -1.6  -1.52 -1.44 -1.36 -1.28 -1.2  -1.12\n",
      " -1.04 -0.96 -0.88 -0.8  -0.72 -0.64 -0.56 -0.48 -0.4  -0.32 -0.24 -0.16\n",
      " -0.08  0.    0.08  0.16  0.24  0.32  0.4   0.48  0.56  0.64  0.72  0.8\n",
      "  0.88  0.96  1.04  1.12  1.2   1.28  1.36  1.44  1.52  1.6   1.68  1.76\n",
      "  1.84  1.92  2.  ]\n"
     ]
    }
   ],
   "source": [
    "############################################\n",
    "M = 51 # 201\n",
    "#\n",
    "x = np.linspace(-2.0,+2.0, num=M, endpoint=True)\n",
    "#\n",
    "print(x)"
   ]
  },
  {
   "cell_type": "markdown",
   "metadata": {
    "id": "mBvWdfMYWden"
   },
   "source": [
    "計画行列$X$の準備\n",
    "$$\n",
    "\\boldsymbol{X}\n",
    "=\n",
    "\\left(\n",
    "  \\begin{array}{ccccc}\n",
    "  x_1 & \\cdots & x_1^k & \\cdots & x_1^K \\\\\n",
    "  \\vdots & \\ddots & \\vdots & \\ddots & \\vdots \\\\\n",
    "  x_m & \\cdots & x_m^k & \\cdots & x_m^K \\\\\n",
    "  \\vdots & \\ddots & \\vdots & \\ddots & \\vdots \\\\\n",
    "  x_M & \\cdots & x_M^k & \\cdots & x_M^K\n",
    "  \\end{array}\n",
    "\\right)\n",
    "$$"
   ]
  },
  {
   "cell_type": "code",
   "execution_count": 6,
   "metadata": {
    "colab": {
     "base_uri": "https://localhost:8080/"
    },
    "executionInfo": {
     "elapsed": 382,
     "status": "ok",
     "timestamp": 1728557239410,
     "user": {
      "displayName": "赤井一郎",
      "userId": "14970386652069821665"
     },
     "user_tz": -540
    },
    "id": "UbN1Cr1lWE5f",
    "outputId": "28562409-ca2b-46bd-f431-0e2f42280988"
   },
   "outputs": [
    {
     "name": "stdout",
     "output_type": "stream",
     "text": [
      "[[-2.00000000e+00  4.00000000e+00 -8.00000000e+00  1.60000000e+01\n",
      "  -3.20000000e+01  6.40000000e+01 -1.28000000e+02  2.56000000e+02\n",
      "  -5.12000000e+02  1.02400000e+03]\n",
      " [-1.92000000e+00  3.68640000e+00 -7.07788800e+00  1.35895450e+01\n",
      "  -2.60919263e+01  5.00964985e+01 -9.61852772e+01  1.84675732e+02\n",
      "  -3.54577406e+02  6.80788619e+02]\n",
      " [-1.84000000e+00  3.38560000e+00 -6.22950400e+00  1.14622874e+01\n",
      "  -2.10906087e+01  3.88067201e+01 -7.14043650e+01  1.31384032e+02\n",
      "  -2.41746618e+02  4.44813777e+02]\n",
      " [-1.76000000e+00  3.09760000e+00 -5.45177600e+00  9.59512576e+00\n",
      "  -1.68874213e+01  2.97218616e+01 -5.23104763e+01  9.20664384e+01\n",
      "  -1.62036931e+02  2.85184999e+02]\n",
      " [-1.68000000e+00  2.82240000e+00 -4.74163200e+00  7.96594176e+00\n",
      "  -1.33827822e+01  2.24830740e+01 -3.77715644e+01  6.34562281e+01\n",
      "  -1.06606463e+02  1.79098858e+02]\n",
      " [-1.60000000e+00  2.56000000e+00 -4.09600000e+00  6.55360000e+00\n",
      "  -1.04857600e+01  1.67772160e+01 -2.68435456e+01  4.29496730e+01\n",
      "  -6.87194767e+01  1.09951163e+02]\n",
      " [-1.52000000e+00  2.31040000e+00 -3.51180800e+00  5.33794816e+00\n",
      "  -8.11368120e+00  1.23327954e+01 -1.87458491e+01  2.84936906e+01\n",
      "  -4.33104096e+01  6.58318227e+01]\n",
      " [-1.44000000e+00  2.07360000e+00 -2.98598400e+00  4.29981696e+00\n",
      "  -6.19173642e+00  8.91610045e+00 -1.28391846e+01  1.84884259e+01\n",
      "  -2.66233333e+01  3.83375999e+01]\n",
      " [-1.36000000e+00  1.84960000e+00 -2.51545600e+00  3.42102016e+00\n",
      "  -4.65258742e+00  6.32751889e+00 -8.60542569e+00  1.17033789e+01\n",
      "  -1.59165954e+01  2.16465697e+01]\n",
      " [-1.28000000e+00  1.63840000e+00 -2.09715200e+00  2.68435456e+00\n",
      "  -3.43597384e+00  4.39804651e+00 -5.62949953e+00  7.20575940e+00\n",
      "  -9.22337204e+00  1.18059162e+01]\n",
      " [-1.20000000e+00  1.44000000e+00 -1.72800000e+00  2.07360000e+00\n",
      "  -2.48832000e+00  2.98598400e+00 -3.58318080e+00  4.29981696e+00\n",
      "  -5.15978035e+00  6.19173642e+00]\n",
      " [-1.12000000e+00  1.25440000e+00 -1.40492800e+00  1.57351936e+00\n",
      "  -1.76234168e+00  1.97382269e+00 -2.21068141e+00  2.47596318e+00\n",
      "  -2.77307876e+00  3.10584821e+00]\n",
      " [-1.04000000e+00  1.08160000e+00 -1.12486400e+00  1.16985856e+00\n",
      "  -1.21665290e+00  1.26531902e+00 -1.31593178e+00  1.36856905e+00\n",
      "  -1.42331181e+00  1.48024428e+00]\n",
      " [-9.60000000e-01  9.21600000e-01 -8.84736000e-01  8.49346560e-01\n",
      "  -8.15372698e-01  7.82757790e-01 -7.51447478e-01  7.21389579e-01\n",
      "  -6.92533996e-01  6.64832636e-01]\n",
      " [-8.80000000e-01  7.74400000e-01 -6.81472000e-01  5.99695360e-01\n",
      "  -5.27731917e-01  4.64404087e-01 -4.08675596e-01  3.59634525e-01\n",
      "  -3.16478382e-01  2.78500976e-01]\n",
      " [-8.00000000e-01  6.40000000e-01 -5.12000000e-01  4.09600000e-01\n",
      "  -3.27680000e-01  2.62144000e-01 -2.09715200e-01  1.67772160e-01\n",
      "  -1.34217728e-01  1.07374182e-01]\n",
      " [-7.20000000e-01  5.18400000e-01 -3.73248000e-01  2.68738560e-01\n",
      "  -1.93491763e-01  1.39314070e-01 -1.00306130e-01  7.22204136e-02\n",
      "  -5.19986978e-02  3.74390624e-02]\n",
      " [-6.40000000e-01  4.09600000e-01 -2.62144000e-01  1.67772160e-01\n",
      "  -1.07374182e-01  6.87194767e-02 -4.39804651e-02  2.81474977e-02\n",
      "  -1.80143985e-02  1.15292150e-02]\n",
      " [-5.60000000e-01  3.13600000e-01 -1.75616000e-01  9.83449600e-02\n",
      "  -5.50731776e-02  3.08409795e-02 -1.72709485e-02  9.67173116e-03\n",
      "  -5.41616945e-03  3.03305489e-03]\n",
      " [-4.80000000e-01  2.30400000e-01 -1.10592000e-01  5.30841600e-02\n",
      "  -2.54803968e-02  1.22305905e-02 -5.87068342e-03  2.81792804e-03\n",
      "  -1.35260546e-03  6.49250621e-04]\n",
      " [-4.00000000e-01  1.60000000e-01 -6.40000000e-02  2.56000000e-02\n",
      "  -1.02400000e-02  4.09600000e-03 -1.63840000e-03  6.55360000e-04\n",
      "  -2.62144000e-04  1.04857600e-04]\n",
      " [-3.20000000e-01  1.02400000e-01 -3.27680000e-02  1.04857600e-02\n",
      "  -3.35544320e-03  1.07374182e-03 -3.43597384e-04  1.09951163e-04\n",
      "  -3.51843721e-05  1.12589991e-05]\n",
      " [-2.40000000e-01  5.76000000e-02 -1.38240000e-02  3.31776000e-03\n",
      "  -7.96262400e-04  1.91102976e-04 -4.58647142e-05  1.10075314e-05\n",
      "  -2.64180754e-06  6.34033810e-07]\n",
      " [-1.60000000e-01  2.56000000e-02 -4.09600000e-03  6.55360000e-04\n",
      "  -1.04857600e-04  1.67772160e-05 -2.68435456e-06  4.29496730e-07\n",
      "  -6.87194767e-08  1.09951163e-08]\n",
      " [-8.00000000e-02  6.40000000e-03 -5.12000000e-04  4.09600000e-05\n",
      "  -3.27680000e-06  2.62144000e-07 -2.09715200e-08  1.67772160e-09\n",
      "  -1.34217728e-10  1.07374182e-11]\n",
      " [ 0.00000000e+00  0.00000000e+00  0.00000000e+00  0.00000000e+00\n",
      "   0.00000000e+00  0.00000000e+00  0.00000000e+00  0.00000000e+00\n",
      "   0.00000000e+00  0.00000000e+00]\n",
      " [ 8.00000000e-02  6.40000000e-03  5.12000000e-04  4.09600000e-05\n",
      "   3.27680000e-06  2.62144000e-07  2.09715200e-08  1.67772160e-09\n",
      "   1.34217728e-10  1.07374182e-11]\n",
      " [ 1.60000000e-01  2.56000000e-02  4.09600000e-03  6.55360000e-04\n",
      "   1.04857600e-04  1.67772160e-05  2.68435456e-06  4.29496730e-07\n",
      "   6.87194767e-08  1.09951163e-08]\n",
      " [ 2.40000000e-01  5.76000000e-02  1.38240000e-02  3.31776000e-03\n",
      "   7.96262400e-04  1.91102976e-04  4.58647142e-05  1.10075314e-05\n",
      "   2.64180754e-06  6.34033810e-07]\n",
      " [ 3.20000000e-01  1.02400000e-01  3.27680000e-02  1.04857600e-02\n",
      "   3.35544320e-03  1.07374182e-03  3.43597384e-04  1.09951163e-04\n",
      "   3.51843721e-05  1.12589991e-05]\n",
      " [ 4.00000000e-01  1.60000000e-01  6.40000000e-02  2.56000000e-02\n",
      "   1.02400000e-02  4.09600000e-03  1.63840000e-03  6.55360000e-04\n",
      "   2.62144000e-04  1.04857600e-04]\n",
      " [ 4.80000000e-01  2.30400000e-01  1.10592000e-01  5.30841600e-02\n",
      "   2.54803968e-02  1.22305905e-02  5.87068342e-03  2.81792804e-03\n",
      "   1.35260546e-03  6.49250621e-04]\n",
      " [ 5.60000000e-01  3.13600000e-01  1.75616000e-01  9.83449600e-02\n",
      "   5.50731776e-02  3.08409795e-02  1.72709485e-02  9.67173116e-03\n",
      "   5.41616945e-03  3.03305489e-03]\n",
      " [ 6.40000000e-01  4.09600000e-01  2.62144000e-01  1.67772160e-01\n",
      "   1.07374182e-01  6.87194767e-02  4.39804651e-02  2.81474977e-02\n",
      "   1.80143985e-02  1.15292150e-02]\n",
      " [ 7.20000000e-01  5.18400000e-01  3.73248000e-01  2.68738560e-01\n",
      "   1.93491763e-01  1.39314070e-01  1.00306130e-01  7.22204136e-02\n",
      "   5.19986978e-02  3.74390624e-02]\n",
      " [ 8.00000000e-01  6.40000000e-01  5.12000000e-01  4.09600000e-01\n",
      "   3.27680000e-01  2.62144000e-01  2.09715200e-01  1.67772160e-01\n",
      "   1.34217728e-01  1.07374182e-01]\n",
      " [ 8.80000000e-01  7.74400000e-01  6.81472000e-01  5.99695360e-01\n",
      "   5.27731917e-01  4.64404087e-01  4.08675596e-01  3.59634525e-01\n",
      "   3.16478382e-01  2.78500976e-01]\n",
      " [ 9.60000000e-01  9.21600000e-01  8.84736000e-01  8.49346560e-01\n",
      "   8.15372698e-01  7.82757790e-01  7.51447478e-01  7.21389579e-01\n",
      "   6.92533996e-01  6.64832636e-01]\n",
      " [ 1.04000000e+00  1.08160000e+00  1.12486400e+00  1.16985856e+00\n",
      "   1.21665290e+00  1.26531902e+00  1.31593178e+00  1.36856905e+00\n",
      "   1.42331181e+00  1.48024428e+00]\n",
      " [ 1.12000000e+00  1.25440000e+00  1.40492800e+00  1.57351936e+00\n",
      "   1.76234168e+00  1.97382269e+00  2.21068141e+00  2.47596318e+00\n",
      "   2.77307876e+00  3.10584821e+00]\n",
      " [ 1.20000000e+00  1.44000000e+00  1.72800000e+00  2.07360000e+00\n",
      "   2.48832000e+00  2.98598400e+00  3.58318080e+00  4.29981696e+00\n",
      "   5.15978035e+00  6.19173642e+00]\n",
      " [ 1.28000000e+00  1.63840000e+00  2.09715200e+00  2.68435456e+00\n",
      "   3.43597384e+00  4.39804651e+00  5.62949953e+00  7.20575940e+00\n",
      "   9.22337204e+00  1.18059162e+01]\n",
      " [ 1.36000000e+00  1.84960000e+00  2.51545600e+00  3.42102016e+00\n",
      "   4.65258742e+00  6.32751889e+00  8.60542569e+00  1.17033789e+01\n",
      "   1.59165954e+01  2.16465697e+01]\n",
      " [ 1.44000000e+00  2.07360000e+00  2.98598400e+00  4.29981696e+00\n",
      "   6.19173642e+00  8.91610045e+00  1.28391846e+01  1.84884259e+01\n",
      "   2.66233333e+01  3.83375999e+01]\n",
      " [ 1.52000000e+00  2.31040000e+00  3.51180800e+00  5.33794816e+00\n",
      "   8.11368120e+00  1.23327954e+01  1.87458491e+01  2.84936906e+01\n",
      "   4.33104096e+01  6.58318227e+01]\n",
      " [ 1.60000000e+00  2.56000000e+00  4.09600000e+00  6.55360000e+00\n",
      "   1.04857600e+01  1.67772160e+01  2.68435456e+01  4.29496730e+01\n",
      "   6.87194767e+01  1.09951163e+02]\n",
      " [ 1.68000000e+00  2.82240000e+00  4.74163200e+00  7.96594176e+00\n",
      "   1.33827822e+01  2.24830740e+01  3.77715644e+01  6.34562281e+01\n",
      "   1.06606463e+02  1.79098858e+02]\n",
      " [ 1.76000000e+00  3.09760000e+00  5.45177600e+00  9.59512576e+00\n",
      "   1.68874213e+01  2.97218616e+01  5.23104763e+01  9.20664384e+01\n",
      "   1.62036931e+02  2.85184999e+02]\n",
      " [ 1.84000000e+00  3.38560000e+00  6.22950400e+00  1.14622874e+01\n",
      "   2.10906087e+01  3.88067201e+01  7.14043650e+01  1.31384032e+02\n",
      "   2.41746618e+02  4.44813777e+02]\n",
      " [ 1.92000000e+00  3.68640000e+00  7.07788800e+00  1.35895450e+01\n",
      "   2.60919263e+01  5.00964985e+01  9.61852772e+01  1.84675732e+02\n",
      "   3.54577406e+02  6.80788619e+02]\n",
      " [ 2.00000000e+00  4.00000000e+00  8.00000000e+00  1.60000000e+01\n",
      "   3.20000000e+01  6.40000000e+01  1.28000000e+02  2.56000000e+02\n",
      "   5.12000000e+02  1.02400000e+03]]\n"
     ]
    }
   ],
   "source": [
    "############################################\n",
    "X = np.zeros((M, w_K))\n",
    "#\n",
    "for k in range(w_K):\n",
    "    X[:,k] = x**(k+1)\n",
    "#\n",
    "print(X)"
   ]
  },
  {
   "cell_type": "markdown",
   "metadata": {
    "id": "Mr1AixYsYAPq"
   },
   "source": [
    "真値データの準備。\n",
    "$$\\boldsymbol{y}=\\boldsymbol{X}\\boldsymbol{\\omega}+a_0$$"
   ]
  },
  {
   "cell_type": "code",
   "execution_count": 7,
   "metadata": {
    "colab": {
     "base_uri": "https://localhost:8080/"
    },
    "executionInfo": {
     "elapsed": 9,
     "status": "ok",
     "timestamp": 1728557239411,
     "user": {
      "displayName": "赤井一郎",
      "userId": "14970386652069821665"
     },
     "user_tz": -540
    },
    "id": "xSQ3xWshYEfR",
    "outputId": "237f439c-137a-498b-f270-315d944d7dc0"
   },
   "outputs": [
    {
     "name": "stdout",
     "output_type": "stream",
     "text": [
      "[ 1.4        1.1406464  0.9059712  0.6950528  0.5069696  0.3408\n",
      "  0.1956224  0.0705152 -0.0354432 -0.1231744 -0.1936    -0.2476416\n",
      " -0.2862208 -0.3102592 -0.3206784 -0.3184    -0.3043456 -0.2794368\n",
      " -0.2445952 -0.2007424 -0.1488    -0.0896896 -0.0243328  0.0463488\n",
      "  0.1214336  0.2        0.2811264  0.3638912  0.4473728  0.5306496\n",
      "  0.6128     0.6929024  0.7700352  0.8432768  0.9117056  0.9744\n",
      "  1.0304384  1.0788992  1.1188608  1.1494016  1.1696     1.1785344\n",
      "  1.1752832  1.1589248  1.1285376  1.0832     1.0219904  0.9439872\n",
      "  0.8482688  0.7339136  0.6      ]\n"
     ]
    }
   ],
   "source": [
    "############################################\n",
    "y_true = X @ w_true + a_0\n",
    "#\n",
    "print(y_true)"
   ]
  },
  {
   "cell_type": "markdown",
   "metadata": {
    "id": "sUZ7ma9UYJ0I"
   },
   "source": [
    "誤差を重畳させたデータの準備。\n",
    "* $\\boldsymbol{y}_{\\rm wn}=\\boldsymbol{y}_{\\rm true}+{\\cal N}(0,\\sigma_{0});\\;(\\sigma_{0}=0.2)$"
   ]
  },
  {
   "cell_type": "code",
   "execution_count": 8,
   "metadata": {
    "colab": {
     "base_uri": "https://localhost:8080/"
    },
    "executionInfo": {
     "elapsed": 5,
     "status": "ok",
     "timestamp": 1728557239411,
     "user": {
      "displayName": "赤井一郎",
      "userId": "14970386652069821665"
     },
     "user_tz": -540
    },
    "id": "TXemrwumYMGW",
    "outputId": "c5dd6aec-d16a-4732-cc24-6fd32345956e"
   },
   "outputs": [
    {
     "name": "stdout",
     "output_type": "stream",
     "text": [
      "[ 1.47147362  1.20626289  0.84699655  0.78188282  0.73794658  0.20000538\n",
      "  0.87535947  0.09847584 -0.84913934 -0.27738356 -0.15551476 -0.37394375\n",
      " -0.22726961 -0.24982968 -0.18618437 -0.34759368 -0.36875292 -0.1829343\n",
      " -0.09521896 -0.39250175 -0.22405231 -0.27278924  0.39772169  0.19288599\n",
      " -0.04408311  0.42705232  0.29723811  0.42158185  0.71640729  0.1958459\n",
      "  0.80225079  0.59212286  0.97651152  0.92288764  0.76460632  0.77978487\n",
      "  1.24828963  1.24342643  1.08922462  1.12065336  0.92159649  1.11468195\n",
      "  1.40435507  1.07677974  1.1756935   1.03005275  1.07674397  0.90112347\n",
      "  0.79834114  0.42119712  0.76029056]\n"
     ]
    }
   ],
   "source": [
    "############################################\n",
    "#\n",
    "sigma0 = 0.2\n",
    "#\n",
    "y_wn = y_true + sigma0 * rd.randn(M).reshape(M,)\n",
    "#\n",
    "print(y_wn)"
   ]
  },
  {
   "cell_type": "markdown",
   "metadata": {
    "id": "aGStf98BYPXe"
   },
   "source": [
    "グラフを描く関数"
   ]
  },
  {
   "cell_type": "code",
   "execution_count": 9,
   "metadata": {
    "executionInfo": {
     "elapsed": 4,
     "status": "ok",
     "timestamp": 1728557239411,
     "user": {
      "displayName": "赤井一郎",
      "userId": "14970386652069821665"
     },
     "user_tz": -540
    },
    "id": "uAUywtitYQSH"
   },
   "outputs": [],
   "source": [
    "############################################\n",
    "def Grf_data( x_data, y_sets, memo=None, title=None ):\n",
    "  #\n",
    "  plt.rcParams['font.size'] = 16\n",
    "  #\n",
    "  fig = plt.figure( figsize=(7,7) )\n",
    "  fig.subplots_adjust(left=0.18, right=0.97, top=0.85, bottom=0.1)\n",
    "  #\n",
    "  ax1 = fig.add_subplot(1,1,1)\n",
    "  #\n",
    "  x_left, x_right = ax1.set_xlim( -2.2, 2.2 )\n",
    "  ax1.set_xlabel( r'$x$' )\n",
    "  #\n",
    "  y_bot, y_top = ax1.set_ylim( -2.0, 2.0 )\n",
    "  ax1.set_ylabel( r'$y$' )\n",
    "  #\n",
    "  for y_set in y_sets:\n",
    "    # [y_data, plottype, label, 'color', size/linewidth, marker/linestyle]\n",
    "    #   plottype = 0 -> plot\n",
    "    #   plottype = 1 -> scatter\n",
    "    if   y_set[1] == 0:\n",
    "      #\n",
    "      ax1.plot( x_data, y_set[0], label=y_set[2], color=y_set[3], linewidth=y_set[4], linestyle=y_set[5] )\n",
    "      #\n",
    "    elif y_set[1] == 1:\n",
    "      #\n",
    "      ax1.scatter( x_data, y_set[0], label=y_set[2], color=y_set[3], s=y_set[4], marker=y_set[5] )\n",
    "      #\n",
    "  #\n",
    "  if title is not None:\n",
    "    plt.title( title + r': $y_m=a_0 + \\sum_{n=1}^{N}a_n x_m^n$' )\n",
    "  else:\n",
    "    plt.title( r'$y_m=a_0 + \\sum_{n=1}^{N}a_n x_m^n$' )\n",
    "  #\n",
    "  plt.legend(loc='lower right')\n",
    "  #\n",
    "  if memo is not None:\n",
    "    plt.text(x_left, y_bot, memo, fontsize=16,\n",
    "             horizontalalignment='left',\n",
    "             verticalalignment='bottom')\n",
    "\n",
    "  #\n",
    "  plt.show()\n",
    "  #\n",
    "  return fig"
   ]
  },
  {
   "cell_type": "markdown",
   "metadata": {
    "id": "GCd49GizYWom"
   },
   "source": [
    "データのグラフ描画"
   ]
  },
  {
   "cell_type": "code",
   "execution_count": 10,
   "metadata": {
    "colab": {
     "base_uri": "https://localhost:8080/",
     "height": 695
    },
    "executionInfo": {
     "elapsed": 2021,
     "status": "ok",
     "timestamp": 1728557241428,
     "user": {
      "displayName": "赤井一郎",
      "userId": "14970386652069821665"
     },
     "user_tz": -540
    },
    "id": "72NTUDtMYXj-",
    "outputId": "975a4742-f0b2-4e2e-d734-5a824c8d21e0"
   },
   "outputs": [
    {
     "data": {
      "image/png": "[encoded data removed]",
      "text/plain": [
       "<Figure size 700x700 with 1 Axes>"
      ]
     },
     "metadata": {},
     "output_type": "display_data"
    }
   ],
   "source": [
    "############################################\n",
    "y_true_set = [ y_true, 0, r'$\\vec{y}_{\\rm true}$', 'red',  2, 'solid' ]\n",
    "y_wn_set   = [ y_wn,   1, r'$\\vec{y}_{\\rm wn}$',    'blue', 10, 'o' ]\n",
    "#\n",
    "############################################\n",
    "y_sets     = [ y_true_set, y_wn_set ]\n",
    "fig = Grf_data( x, y_sets )\n",
    "#\n",
    "fig.savefig( FilePath + FileBaseName + '-data0.pdf' )"
   ]
  },
  {
   "cell_type": "markdown",
   "metadata": {
    "id": "4yiSbyK2WrfI"
   },
   "source": [
    "計画行列の各基底列の平均値と標準偏差"
   ]
  },
  {
   "cell_type": "code",
   "execution_count": 11,
   "metadata": {
    "colab": {
     "base_uri": "https://localhost:8080/"
    },
    "executionInfo": {
     "elapsed": 23,
     "status": "ok",
     "timestamp": 1728557241428,
     "user": {
      "displayName": "赤井一郎",
      "userId": "14970386652069821665"
     },
     "user_tz": -540
    },
    "id": "VNButt8sWE1g",
    "outputId": "516f3386-98ff-4471-abc8-086ff5084690"
   },
   "outputs": [
    {
     "name": "stdout",
     "output_type": "stream",
     "text": [
      "k= 1: min=-2.000E+00, max=2.000E+00, mean=3.483E-17, std=1.178E+00\n",
      "k= 2: min=0.000E+00, max=4.000E+00, mean=1.387E+00, std=1.240E+00\n",
      "k= 3: min=-8.000E+00, max=8.000E+00, mean=8.708E-17, std=3.204E+00\n",
      "k= 4: min=0.000E+00, max=1.600E+01, mean=3.459E+00, std=4.605E+00\n",
      "k= 5: min=-3.200E+01, max=3.200E+01, mean=4.876E-16, std=1.062E+01\n",
      "k= 6: min=0.000E+00, max=6.400E+01, mean=1.027E+01, std=1.703E+01\n",
      "k= 7: min=-1.280E+02, max=1.280E+02, mean=0.000E+00, std=3.771E+01\n",
      "k= 8: min=0.000E+00, max=2.560E+02, mean=3.317E+01, std=6.403E+01\n",
      "k= 9: min=-5.120E+02, max=5.120E+02, mean=2.229E-15, std=1.388E+02\n",
      "k=10: min=0.000E+00, max=1.024E+03, mean=1.127E+02, std=2.440E+02\n"
     ]
    }
   ],
   "source": [
    "############################################\n",
    "for k in range(w_K):\n",
    "  #\n",
    "  mean  = np.mean( X[:,k] )\n",
    "  std   = np.std( X[:,k] )\n",
    "  v_max = np.amax( X[:,k] )\n",
    "  v_min = np.amin( X[:,k] )\n",
    "  #\n",
    "  print( 'k=%2d: min=%.3E, max=%.3E, mean=%.3E, std=%.3E' % (k+1, v_min, v_max, mean, std) )\n",
    "  #"
   ]
  },
  {
   "cell_type": "markdown",
   "metadata": {
    "id": "Ov0DPhTEYfgz"
   },
   "source": [
    "データの標準化\n",
    "* sklearn.preprocessing.StandardScaler\n",
    "* https://scikit-learn.org/stable/modules/generated/sklearn.preprocessing.StandardScaler.html\n",
    "\n",
    "データに対し、以下の前処理を行う\n",
    "1. 平均値$\\mu$を差し引き\n",
    "2. 単位分散にスケーリング\n",
    "\n",
    "して、特徴を標準化する。サンプル$x$の標準化は以下の式で計算される。\n",
    "$$\n",
    " z = \\frac{x - \\mu}{s}\n",
    "$$\n",
    "* $\\mu$: サンプルの平均値。但し with_mean=False の場合は 0\n",
    "* $s$学習サンプルの標準偏差。但しwith_std=False の場合は 1\n",
    "\n",
    "$\\bullet$ 多次元配列 (n_samples, n_features) を想定しているため、(n_samples)] である1次元データに適用する場合は、reshapeしておく必要がある。"
   ]
  },
  {
   "cell_type": "markdown",
   "metadata": {
    "id": "2FsxQb9xXlAJ"
   },
   "source": [
    "計画行列$X$を標準化する\n",
    "* 元行列:\n",
    "$$\n",
    "\\boldsymbol{X}\n",
    "=\n",
    "\\left(\n",
    "  \\begin{array}{ccccc}\n",
    "  X_{11} & \\cdots & X_{1n} & \\cdots & X_{1N} \\\\\n",
    "  \\vdots & \\ddots & \\vdots & \\ddots & \\vdots \\\\\n",
    "  X_{m1} & \\cdots & X_{mn} & \\cdots & X_{mN} \\\\\n",
    "  \\vdots & \\ddots & \\vdots & \\ddots & \\vdots \\\\\n",
    "  X_{M1} & \\cdots & X_{Mn} & \\cdots & X_{MN}\n",
    "  \\end{array}\n",
    "\\right)\n",
    "$$\n",
    "\n",
    "* 標準化\n",
    "```\n",
    "scalerX = prep.StandardScaler()\n",
    "scalerX.fit( X )\n",
    "X_ss = scalerX.transform( X )\n",
    "```\n",
    "$$\n",
    "\\tilde{X_{mn}}=\\frac{\n",
    "  X_{mn}-\\mu_n\n",
    "}{\n",
    "  s_n\n",
    "}\n",
    "$$\n",
    "1. $\\mu_n$:  scalerX.mean_[n]\n",
    "2. $s_n$:    scalerX.scale_[n]\n",
    "\n",
    "* 標準化された行列:\n",
    "$$\n",
    "\\tilde{\\boldsymbol{X}}\n",
    "=\n",
    "\\left(\n",
    "  \\begin{array}{ccccc}\n",
    "  \\tilde{X_{11}} & \\cdots & \\tilde{X_{1n}} & \\cdots & \\tilde{X_{1N}} \\\\\n",
    "  \\vdots & \\ddots & \\vdots & \\ddots & \\vdots \\\\\n",
    "  \\tilde{X_{m1}} & \\cdots & \\tilde{X_{mn}} & \\cdots & \\tilde{X_{mN}} \\\\\n",
    "  \\vdots & \\ddots & \\vdots & \\ddots & \\vdots \\\\\n",
    "  \\tilde{X_{M1}} & \\cdots & \\tilde{X_{Mn}} & \\cdots & \\tilde{X_{MN}}\n",
    "  \\end{array}\n",
    "\\right)\n",
    "$$\n",
    "1. $\\tilde{X_{1n}},\\cdots, \\tilde{X_{mn}}, \\cdots, \\tilde{X_{Mn}}$の平均値が0\n",
    "2. $\\tilde{X_{1n}},\\cdots, \\tilde{X_{mn}}, \\cdots, \\tilde{X_{Mn}}$の標準偏差が1\n",
    "\n",
    "に標準化される。\n"
   ]
  },
  {
   "cell_type": "code",
   "execution_count": 12,
   "metadata": {
    "colab": {
     "base_uri": "https://localhost:8080/"
    },
    "executionInfo": {
     "elapsed": 20,
     "status": "ok",
     "timestamp": 1728557241428,
     "user": {
      "displayName": "赤井一郎",
      "userId": "14970386652069821665"
     },
     "user_tz": -540
    },
    "id": "b428EkhqWExf",
    "outputId": "aa19de4c-723e-43b3-c2cd-b6210a713a44"
   },
   "outputs": [
    {
     "name": "stdout",
     "output_type": "stream",
     "text": [
      "k= 1: mean=+1.742E-17, std=1.000E+00\n",
      "k= 2: mean=-8.708E-18, std=1.000E+00\n",
      "k= 3: mean=+8.708E-18, std=1.000E+00\n",
      "k= 4: mean=+1.132E-16, std=1.000E+00\n",
      "k= 5: mean=+2.612E-17, std=1.000E+00\n",
      "k= 6: mean=+1.219E-16, std=1.000E+00\n",
      "k= 7: mean=-4.354E-17, std=1.000E+00\n",
      "k= 8: mean=-1.306E-16, std=1.000E+00\n",
      "k= 9: mean=+8.708E-18, std=1.000E+00\n",
      "k=10: mean=+2.612E-17, std=1.000E+00\n"
     ]
    }
   ],
   "source": [
    "############################################\n",
    "scalerX = prep.StandardScaler()\n",
    "scalerX.fit( X )\n",
    "#\n",
    "X_ss = scalerX.transform( X )\n",
    "#\n",
    "############################################\n",
    "for k in range(w_K):\n",
    "  #\n",
    "  mean = np.mean( X_ss[:,k] )\n",
    "  std  = np.std( X_ss[:,k] )\n",
    "  #\n",
    "  print( 'k=%2d: mean=%+.3E, std=%.3E' % (k+1, mean, std) )\n",
    "  #"
   ]
  },
  {
   "cell_type": "markdown",
   "metadata": {
    "id": "jEUxoSEKSyWd"
   },
   "source": [
    "* 標準化したものをもとに戻す\n",
    "```\n",
    "X_ss_inv = scalerX.inverse_transform( X_ss )\n",
    "```"
   ]
  },
  {
   "cell_type": "code",
   "execution_count": 13,
   "metadata": {
    "colab": {
     "base_uri": "https://localhost:8080/"
    },
    "executionInfo": {
     "elapsed": 16,
     "status": "ok",
     "timestamp": 1728557241429,
     "user": {
      "displayName": "赤井一郎",
      "userId": "14970386652069821665"
     },
     "user_tz": -540
    },
    "id": "dkosCFk-Raap",
    "outputId": "1cc48dd8-4e54-4505-be15-dde0d1369fab"
   },
   "outputs": [
    {
     "name": "stdout",
     "output_type": "stream",
     "text": [
      "[0. 0. 0. 0. 0. 0. 0. 0. 0. 0.]\n",
      "[0. 0. 0. 0. 0. 0. 0. 0. 0. 0.]\n",
      "[0. 0. 0. 0. 0. 0. 0. 0. 0. 0.]\n",
      "[0. 0. 0. 0. 0. 0. 0. 0. 0. 0.]\n",
      "[0. 0. 0. 0. 0. 0. 0. 0. 0. 0.]\n",
      "[0. 0. 0. 0. 0. 0. 0. 0. 0. 0.]\n",
      "[0. 0. 0. 0. 0. 0. 0. 0. 0. 0.]\n",
      "[0. 0. 0. 0. 0. 0. 0. 0. 0. 0.]\n",
      "[0. 0. 0. 0. 0. 0. 0. 0. 0. 0.]\n",
      "[0. 0. 0. 0. 0. 0. 0. 0. 0. 0.]\n",
      "[0. 0. 0. 0. 0. 0. 0. 0. 0. 0.]\n",
      "[0. 0. 0. 0. 0. 0. 0. 0. 0. 0.]\n",
      "[0. 0. 0. 0. 0. 0. 0. 0. 0. 0.]\n",
      "[0. 0. 0. 0. 0. 0. 0. 0. 0. 0.]\n",
      "[0. 0. 0. 0. 0. 0. 0. 0. 0. 0.]\n",
      "[0. 0. 0. 0. 0. 0. 0. 0. 0. 0.]\n",
      "[0. 0. 0. 0. 0. 0. 0. 0. 0. 0.]\n",
      "[0. 0. 0. 0. 0. 0. 0. 0. 0. 0.]\n",
      "[0. 0. 0. 0. 0. 0. 0. 0. 0. 0.]\n",
      "[0. 0. 0. 0. 0. 0. 0. 0. 0. 0.]\n",
      "[0. 0. 0. 0. 0. 0. 0. 0. 0. 0.]\n",
      "[0. 0. 0. 0. 0. 0. 0. 0. 0. 0.]\n",
      "[0. 0. 0. 0. 0. 0. 0. 0. 0. 0.]\n",
      "[0. 0. 0. 0. 0. 0. 0. 0. 0. 0.]\n",
      "[0. 0. 0. 0. 0. 0. 0. 0. 0. 0.]\n",
      "[0. 0. 0. 0. 0. 0. 0. 0. 0. 0.]\n",
      "[0. 0. 0. 0. 0. 0. 0. 0. 0. 0.]\n",
      "[0. 0. 0. 0. 0. 0. 0. 0. 0. 0.]\n",
      "[0. 0. 0. 0. 0. 0. 0. 0. 0. 0.]\n",
      "[0. 0. 0. 0. 0. 0. 0. 0. 0. 0.]\n",
      "[0. 0. 0. 0. 0. 0. 0. 0. 0. 0.]\n",
      "[0. 0. 0. 0. 0. 0. 0. 0. 0. 0.]\n",
      "[0. 0. 0. 0. 0. 0. 0. 0. 0. 0.]\n",
      "[0. 0. 0. 0. 0. 0. 0. 0. 0. 0.]\n",
      "[0. 0. 0. 0. 0. 0. 0. 0. 0. 0.]\n",
      "[0. 0. 0. 0. 0. 0. 0. 0. 0. 0.]\n",
      "[0. 0. 0. 0. 0. 0. 0. 0. 0. 0.]\n",
      "[0. 0. 0. 0. 0. 0. 0. 0. 0. 0.]\n",
      "[0. 0. 0. 0. 0. 0. 0. 0. 0. 0.]\n",
      "[0. 0. 0. 0. 0. 0. 0. 0. 0. 0.]\n",
      "[0. 0. 0. 0. 0. 0. 0. 0. 0. 0.]\n",
      "[0. 0. 0. 0. 0. 0. 0. 0. 0. 0.]\n",
      "[0. 0. 0. 0. 0. 0. 0. 0. 0. 0.]\n",
      "[0. 0. 0. 0. 0. 0. 0. 0. 0. 0.]\n",
      "[0. 0. 0. 0. 0. 0. 0. 0. 0. 0.]\n",
      "[0. 0. 0. 0. 0. 0. 0. 0. 0. 0.]\n",
      "[0. 0. 0. 0. 0. 0. 0. 0. 0. 0.]\n",
      "[0. 0. 0. 0. 0. 0. 0. 0. 0. 0.]\n",
      "[0. 0. 0. 0. 0. 0. 0. 0. 0. 0.]\n",
      "[0. 0. 0. 0. 0. 0. 0. 0. 0. 0.]\n",
      "[0. 0. 0. 0. 0. 0. 0. 0. 0. 0.]\n"
     ]
    }
   ],
   "source": [
    "############################################\n",
    "X_ss_inv = scalerX.inverse_transform( X_ss )\n",
    "############################################\n",
    "# もとに戻っているか確認\n",
    "for m in range(M):\n",
    "    print((X_ss_inv[m]-X_ss_inv[m]) )"
   ]
  },
  {
   "cell_type": "markdown",
   "metadata": {
    "id": "BTHKioCQkkcX"
   },
   "source": [
    "データの標準化\n",
    "* sklearn.preprocessing.StandardScaler\n",
    "* https://scikit-learn.org/stable/modules/generated/sklearn.preprocessing.StandardScaler.html\n",
    "* 属性(Attributes):\n",
    "  * scale_: (n_features,), 分散の平方根\n",
    "  * mean_: (n_features,), 平均値\n",
    "  * var_: (n_features,), 分散"
   ]
  },
  {
   "cell_type": "markdown",
   "metadata": {
    "id": "4DGBX5Uchm-G"
   },
   "source": [
    "1. $\\mu_n$:  scalerX.mean_[n]\n",
    "2. $s_n$:    scalerX.scale_[n]\n",
    "\n",
    "を使って、もとに戻るか確認。\n",
    "$$\n",
    "X_{mn}\n",
    "=\n",
    "\\tilde{X_{mn}}\\,s_n+\\mu_n\n",
    "\\quad\n",
    "\\because\\;\n",
    "\\tilde{X_{mn}}=\\frac{\n",
    "  X_{mn}-\\mu_n\n",
    "}{\n",
    "  s_n\n",
    "}\n",
    "$$\n"
   ]
  },
  {
   "cell_type": "code",
   "execution_count": 14,
   "metadata": {
    "colab": {
     "base_uri": "https://localhost:8080/"
    },
    "executionInfo": {
     "elapsed": 13,
     "status": "ok",
     "timestamp": 1728557241429,
     "user": {
      "displayName": "赤井一郎",
      "userId": "14970386652069821665"
     },
     "user_tz": -540
    },
    "id": "2qEj3_BxbhW5",
    "outputId": "73f17cf8-7671-4c1e-fccd-5975606a74bb"
   },
   "outputs": [
    {
     "name": "stdout",
     "output_type": "stream",
     "text": [
      "scalerX.scale_ = 3.204E+00\n",
      "scalerX.mean_  = 8.708E-17\n",
      "m=  0: X_mk=+-8.000E+00, X_ss_mk=+-2.497E+00; X_ss_mk * scale_ + mean_ =+-8.000E+00: residueal =+0.000E+00\n",
      "m=  1: X_mk=+-7.078E+00, X_ss_mk=+-2.209E+00; X_ss_mk * scale_ + mean_ =+-7.078E+00: residueal =+0.000E+00\n",
      "m=  2: X_mk=+-6.230E+00, X_ss_mk=+-1.944E+00; X_ss_mk * scale_ + mean_ =+-6.230E+00: residueal =+0.000E+00\n",
      "m=  3: X_mk=+-5.452E+00, X_ss_mk=+-1.701E+00; X_ss_mk * scale_ + mean_ =+-5.452E+00: residueal =+0.000E+00\n",
      "m=  4: X_mk=+-4.742E+00, X_ss_mk=+-1.480E+00; X_ss_mk * scale_ + mean_ =+-4.742E+00: residueal =+0.000E+00\n",
      "m=  5: X_mk=+-4.096E+00, X_ss_mk=+-1.278E+00; X_ss_mk * scale_ + mean_ =+-4.096E+00: residueal =+0.000E+00\n",
      "m=  6: X_mk=+-3.512E+00, X_ss_mk=+-1.096E+00; X_ss_mk * scale_ + mean_ =+-3.512E+00: residueal =-4.441E-16\n",
      "m=  7: X_mk=+-2.986E+00, X_ss_mk=+-9.318E-01; X_ss_mk * scale_ + mean_ =+-2.986E+00: residueal =+0.000E+00\n",
      "m=  8: X_mk=+-2.515E+00, X_ss_mk=+-7.850E-01; X_ss_mk * scale_ + mean_ =+-2.515E+00: residueal =+0.000E+00\n",
      "m=  9: X_mk=+-2.097E+00, X_ss_mk=+-6.544E-01; X_ss_mk * scale_ + mean_ =+-2.097E+00: residueal =+0.000E+00\n",
      "m= 10: X_mk=+-1.728E+00, X_ss_mk=+-5.392E-01; X_ss_mk * scale_ + mean_ =+-1.728E+00: residueal =-2.220E-16\n",
      "m= 11: X_mk=+-1.405E+00, X_ss_mk=+-4.384E-01; X_ss_mk * scale_ + mean_ =+-1.405E+00: residueal =+0.000E+00\n",
      "m= 12: X_mk=+-1.125E+00, X_ss_mk=+-3.510E-01; X_ss_mk * scale_ + mean_ =+-1.125E+00: residueal =+0.000E+00\n",
      "m= 13: X_mk=+-8.847E-01, X_ss_mk=+-2.761E-01; X_ss_mk * scale_ + mean_ =+-8.847E-01: residueal =+0.000E+00\n",
      "m= 14: X_mk=+-6.815E-01, X_ss_mk=+-2.127E-01; X_ss_mk * scale_ + mean_ =+-6.815E-01: residueal =+0.000E+00\n",
      "m= 15: X_mk=+-5.120E-01, X_ss_mk=+-1.598E-01; X_ss_mk * scale_ + mean_ =+-5.120E-01: residueal =+0.000E+00\n",
      "m= 16: X_mk=+-3.732E-01, X_ss_mk=+-1.165E-01; X_ss_mk * scale_ + mean_ =+-3.732E-01: residueal =+0.000E+00\n",
      "m= 17: X_mk=+-2.621E-01, X_ss_mk=+-8.181E-02; X_ss_mk * scale_ + mean_ =+-2.621E-01: residueal =+0.000E+00\n",
      "m= 18: X_mk=+-1.756E-01, X_ss_mk=+-5.480E-02; X_ss_mk * scale_ + mean_ =+-1.756E-01: residueal =+0.000E+00\n",
      "m= 19: X_mk=+-1.106E-01, X_ss_mk=+-3.451E-02; X_ss_mk * scale_ + mean_ =+-1.106E-01: residueal =+0.000E+00\n",
      "m= 20: X_mk=+-6.400E-02, X_ss_mk=+-1.997E-02; X_ss_mk * scale_ + mean_ =+-6.400E-02: residueal =+0.000E+00\n",
      "m= 21: X_mk=+-3.277E-02, X_ss_mk=+-1.023E-02; X_ss_mk * scale_ + mean_ =+-3.277E-02: residueal =+0.000E+00\n",
      "m= 22: X_mk=+-1.382E-02, X_ss_mk=+-4.314E-03; X_ss_mk * scale_ + mean_ =+-1.382E-02: residueal =-1.735E-18\n",
      "m= 23: X_mk=+-4.096E-03, X_ss_mk=+-1.278E-03; X_ss_mk * scale_ + mean_ =+-4.096E-03: residueal =+0.000E+00\n",
      "m= 24: X_mk=+-5.120E-04, X_ss_mk=+-1.598E-04; X_ss_mk * scale_ + mean_ =+-5.120E-04: residueal =+0.000E+00\n",
      "m= 25: X_mk=+0.000E+00, X_ss_mk=+-2.717E-17; X_ss_mk * scale_ + mean_ =+0.000E+00: residueal =+0.000E+00\n",
      "m= 26: X_mk=+5.120E-04, X_ss_mk=+1.598E-04; X_ss_mk * scale_ + mean_ =+5.120E-04: residueal =+0.000E+00\n",
      "m= 27: X_mk=+4.096E-03, X_ss_mk=+1.278E-03; X_ss_mk * scale_ + mean_ =+4.096E-03: residueal =+0.000E+00\n",
      "m= 28: X_mk=+1.382E-02, X_ss_mk=+4.314E-03; X_ss_mk * scale_ + mean_ =+1.382E-02: residueal =+0.000E+00\n",
      "m= 29: X_mk=+3.277E-02, X_ss_mk=+1.023E-02; X_ss_mk * scale_ + mean_ =+3.277E-02: residueal =+0.000E+00\n",
      "m= 30: X_mk=+6.400E-02, X_ss_mk=+1.997E-02; X_ss_mk * scale_ + mean_ =+6.400E-02: residueal =+0.000E+00\n",
      "m= 31: X_mk=+1.106E-01, X_ss_mk=+3.451E-02; X_ss_mk * scale_ + mean_ =+1.106E-01: residueal =+1.388E-17\n",
      "m= 32: X_mk=+1.756E-01, X_ss_mk=+5.480E-02; X_ss_mk * scale_ + mean_ =+1.756E-01: residueal =+0.000E+00\n",
      "m= 33: X_mk=+2.621E-01, X_ss_mk=+8.181E-02; X_ss_mk * scale_ + mean_ =+2.621E-01: residueal =+0.000E+00\n",
      "m= 34: X_mk=+3.732E-01, X_ss_mk=+1.165E-01; X_ss_mk * scale_ + mean_ =+3.732E-01: residueal =+0.000E+00\n",
      "m= 35: X_mk=+5.120E-01, X_ss_mk=+1.598E-01; X_ss_mk * scale_ + mean_ =+5.120E-01: residueal =+0.000E+00\n",
      "m= 36: X_mk=+6.815E-01, X_ss_mk=+2.127E-01; X_ss_mk * scale_ + mean_ =+6.815E-01: residueal =+0.000E+00\n",
      "m= 37: X_mk=+8.847E-01, X_ss_mk=+2.761E-01; X_ss_mk * scale_ + mean_ =+8.847E-01: residueal =+1.110E-16\n",
      "m= 38: X_mk=+1.125E+00, X_ss_mk=+3.510E-01; X_ss_mk * scale_ + mean_ =+1.125E+00: residueal =+0.000E+00\n",
      "m= 39: X_mk=+1.405E+00, X_ss_mk=+4.384E-01; X_ss_mk * scale_ + mean_ =+1.405E+00: residueal =+0.000E+00\n",
      "m= 40: X_mk=+1.728E+00, X_ss_mk=+5.392E-01; X_ss_mk * scale_ + mean_ =+1.728E+00: residueal =-2.220E-16\n",
      "m= 41: X_mk=+2.097E+00, X_ss_mk=+6.544E-01; X_ss_mk * scale_ + mean_ =+2.097E+00: residueal =+0.000E+00\n",
      "m= 42: X_mk=+2.515E+00, X_ss_mk=+7.850E-01; X_ss_mk * scale_ + mean_ =+2.515E+00: residueal =+0.000E+00\n",
      "m= 43: X_mk=+2.986E+00, X_ss_mk=+9.318E-01; X_ss_mk * scale_ + mean_ =+2.986E+00: residueal =+0.000E+00\n",
      "m= 44: X_mk=+3.512E+00, X_ss_mk=+1.096E+00; X_ss_mk * scale_ + mean_ =+3.512E+00: residueal =+4.441E-16\n",
      "m= 45: X_mk=+4.096E+00, X_ss_mk=+1.278E+00; X_ss_mk * scale_ + mean_ =+4.096E+00: residueal =+0.000E+00\n",
      "m= 46: X_mk=+4.742E+00, X_ss_mk=+1.480E+00; X_ss_mk * scale_ + mean_ =+4.742E+00: residueal =+0.000E+00\n",
      "m= 47: X_mk=+5.452E+00, X_ss_mk=+1.701E+00; X_ss_mk * scale_ + mean_ =+5.452E+00: residueal =+0.000E+00\n",
      "m= 48: X_mk=+6.230E+00, X_ss_mk=+1.944E+00; X_ss_mk * scale_ + mean_ =+6.230E+00: residueal =+0.000E+00\n",
      "m= 49: X_mk=+7.078E+00, X_ss_mk=+2.209E+00; X_ss_mk * scale_ + mean_ =+7.078E+00: residueal =+0.000E+00\n",
      "m= 50: X_mk=+8.000E+00, X_ss_mk=+2.497E+00; X_ss_mk * scale_ + mean_ =+8.000E+00: residueal =+0.000E+00\n"
     ]
    }
   ],
   "source": [
    "############################################\n",
    "# k=2の場合について確認する\n",
    "k=2\n",
    "scale_ = scalerX.scale_[k]\n",
    "mean_  = scalerX.mean_[k]\n",
    "#\n",
    "print( 'scalerX.scale_ = %.3E' % scale_ )\n",
    "print( 'scalerX.mean_  = %.3E' % mean_ )\n",
    "############################################\n",
    "for m in range(M):\n",
    "  #\n",
    "  #\n",
    "  X_mk    = X[m,k]\n",
    "  X_ss_mk = X_ss[m,k]\n",
    "  #\n",
    "  X_mk_inv = X_ss_mk * scale_ + mean_\n",
    "  print( 'm=%3d: X_mk=+%.3E, X_ss_mk=+%.3E; X_ss_mk * scale_ + mean_ =+%.3E: residueal =%+.3E'\n",
    "         % (m, X_mk, X_ss_mk, X_mk_inv, (X_mk-X_mk_inv)  ) )"
   ]
  },
  {
   "cell_type": "markdown",
   "metadata": {
    "id": "caGIyLOh3xGo"
   },
   "source": [
    "解析対象のデータは、\n",
    "$\\boldsymbol{y}=\\boldsymbol{X}\\boldsymbol{\\omega}+a_0$\n",
    "\n",
    "* この両辺の平均を取ると、 $\\overline{\\boldsymbol{y}}=\\overline{\\boldsymbol{X}\\boldsymbol{\\omega}}+a_0$。"
   ]
  },
  {
   "cell_type": "markdown",
   "metadata": {
    "id": "bbVp3JXD6Kz0"
   },
   "source": [
    "一方標準化した$\\tilde{\\boldsymbol{X}}$\n",
    "$$\n",
    "\\tilde{\\boldsymbol{X}}\n",
    "=\n",
    "\\left(\n",
    "  \\begin{array}{ccccc}\n",
    "  \\tilde{X_{11}} & \\cdots & \\tilde{X_{1n}} & \\cdots & \\tilde{X_{1N}} \\\\\n",
    "  \\vdots & \\ddots & \\vdots & \\ddots & \\vdots \\\\\n",
    "  \\tilde{X_{m1}} & \\cdots & \\tilde{X_{mn}} & \\cdots & \\tilde{X_{mN}} \\\\\n",
    "  \\vdots & \\ddots & \\vdots & \\ddots & \\vdots \\\\\n",
    "  \\tilde{X_{M1}} & \\cdots & \\tilde{X_{Mn}} & \\cdots & \\tilde{X_{MN}}\n",
    "  \\end{array}\n",
    "\\right)\n",
    "$$\n",
    "の各列ベクトルの平均値が0になるように標準化されている。よって、どのような $\\tilde{\\boldsymbol{\\omega}}$ を乗じても、その平均は\n",
    "$$\n",
    "\\overline{\\tilde{\\boldsymbol{X}}\\,\\tilde{\\boldsymbol{\\omega}}}\n",
    "=\\boldsymbol{0}\n",
    "$$\n",
    "ゼロベクトルなる。"
   ]
  },
  {
   "cell_type": "markdown",
   "metadata": {
    "id": "e07IF5WX7dhl"
   },
   "source": [
    "よって、解析対象のデータは、\n",
    "$$\n",
    "\\boldsymbol{y}\n",
    "=\n",
    "\\boldsymbol{X}\\,\\boldsymbol{\\omega}+a_0\n",
    "=\n",
    "\\tilde{\\boldsymbol{X}}\\,\\tilde{\\boldsymbol{\\omega}}\n",
    "+\n",
    "\\overline{\\boldsymbol{y}}\n",
    "$$\n"
   ]
  }
 ],
 "metadata": {
  "colab": {
   "provenance": []
  },
  "kernelspec": {
   "display_name": "Python 3",
   "language": "python",
   "name": "python3"
  },
  "language_info": {
   "codemirror_mode": {
    "name": "ipython",
    "version": 3
   },
   "file_extension": ".py",
   "mimetype": "text/x-python",
   "name": "python",
   "nbconvert_exporter": "python",
   "pygments_lexer": "ipython3",
   "version": "3.12.4"
  }
 },
 "nbformat": 4,
 "nbformat_minor": 0
}
