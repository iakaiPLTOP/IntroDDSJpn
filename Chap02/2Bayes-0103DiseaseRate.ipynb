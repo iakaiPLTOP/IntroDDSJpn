{
 "cells": [
  {
   "cell_type": "markdown",
   "metadata": {
    "id": "e3qhuSUCl0Cs"
   },
   "source": [
    "*   ベースディレクトリと、出力ディレクトリを設定します。"
   ]
  },
  {
   "cell_type": "code",
   "execution_count": 25,
   "metadata": {
    "executionInfo": {
     "elapsed": 336,
     "status": "ok",
     "timestamp": 1727420749231,
     "user": {
      "displayName": "赤井一郎",
      "userId": "14970386652069821665"
     },
     "user_tz": -540
    },
    "id": "XCmWFe7Vk-rk"
   },
   "outputs": [],
   "source": [
    "############################################\n",
    "BaseDir      = 'IntroDDSJpn/Chap02/'\n",
    "OutputDir    = '2Bayes-0202DiseaseRate/'\n",
    "FileBaseName = '2Bayes-0202DiseaseRate'"
   ]
  },
  {
   "cell_type": "markdown",
   "metadata": {
    "id": "ufVbq5HOl3Mr"
   },
   "source": [
    "*   Google Colabかどうかを判別し、このJupyter Notebookのあるディレクトリを特定します。"
   ]
  },
  {
   "cell_type": "code",
   "execution_count": 26,
   "metadata": {
    "colab": {
     "base_uri": "https://localhost:8080/"
    },
    "executionInfo": {
     "elapsed": 23617,
     "status": "ok",
     "timestamp": 1727420773191,
     "user": {
      "displayName": "赤井一郎",
      "userId": "14970386652069821665"
     },
     "user_tz": -540
    },
    "id": "1PppyzBOl6ED",
    "outputId": "cd550f73-f800-4034-99bc-24840f2862c0"
   },
   "outputs": [
    {
     "name": "stdout",
     "output_type": "stream",
     "text": [
      "ipynb file path = d:\\home\\iakai\\CY\\Docs\\Kuma3Curriculum\\2025森北出版\\GitHubIntroDDSJpn\\IntroDDSJpn\\Chap02/\n"
     ]
    }
   ],
   "source": [
    "############################################\n",
    "import sys\n",
    "import os\n",
    "############################################\n",
    "def IsGoogleColab():\n",
    "  if 'google.colab' in sys.modules:\n",
    "    return True\n",
    "  else:\n",
    "    return False\n",
    "############################################\n",
    "if IsGoogleColab():\n",
    "  #\n",
    "  from google.colab import drive\n",
    "  drive.mount('/content/drive')\n",
    "  #\n",
    "  IpynbDir = 'drive/My Drive/Colab Notebooks/' + BaseDir\n",
    "else:\n",
    "  #\n",
    "  IpynbDir =  os.getcwd() + '/'\n",
    "############################################\n",
    "print( 'ipynb file path = %s' % IpynbDir )"
   ]
  },
  {
   "cell_type": "markdown",
   "metadata": {
    "id": "-LIMZjCLl9Ts"
   },
   "source": [
    "*   必要なパッケージを読み込み、ファイルの出力先のディレクトリを用意します。"
   ]
  },
  {
   "cell_type": "code",
   "execution_count": 27,
   "metadata": {
    "colab": {
     "base_uri": "https://localhost:8080/"
    },
    "executionInfo": {
     "elapsed": 398,
     "status": "ok",
     "timestamp": 1727420773583,
     "user": {
      "displayName": "赤井一郎",
      "userId": "14970386652069821665"
     },
     "user_tz": -540
    },
    "id": "RvufAUCyl_rr",
    "outputId": "f4960d85-4749-4b19-e151-98c65aa14234"
   },
   "outputs": [
    {
     "name": "stdout",
     "output_type": "stream",
     "text": [
      "matplotlib Ver. 3.9.2\n",
      "numpy      Ver. 1.26.4\n",
      "FilePath = d:\\home\\iakai\\CY\\Docs\\Kuma3Curriculum\\2025森北出版\\GitHubIntroDDSJpn\\IntroDDSJpn\\Chap02/2Bayes-0202DiseaseRate/\n",
      " d:\\home\\iakai\\CY\\Docs\\Kuma3Curriculum\\2025森北出版\\GitHubIntroDDSJpn\\IntroDDSJpn\\Chap02/2Bayes-0202DiseaseRate/ is exist.\n"
     ]
    }
   ],
   "source": [
    "############################################\n",
    "import matplotlib as mpl\n",
    "import matplotlib.pyplot as plt\n",
    "%matplotlib inline\n",
    "print('matplotlib Ver.', mpl.__version__)\n",
    "#\n",
    "############################################\n",
    "import numpy as np\n",
    "print('numpy      Ver.', np.__version__)\n",
    "#\n",
    "############################################\n",
    "# import pandas as pd\n",
    "# print('pandas     Ver.', pd.__version__)\n",
    "#\n",
    "############################################\n",
    "FilePath = IpynbDir + OutputDir\n",
    "print( 'FilePath = %s' % FilePath )\n",
    "#\n",
    "if( True != os.path.isdir(FilePath) ):\n",
    "    print('  making %s' % FilePath )\n",
    "    os.mkdir(FilePath)\n",
    "else:\n",
    "    print(' %s is exist.' % FilePath )"
   ]
  },
  {
   "cell_type": "markdown",
   "metadata": {
    "id": "aXmoajQ605XL"
   },
   "source": [
    "* 検査の信頼性\n",
    "\n",
    "\n",
    " 検査結果 | 陽性 ( ${\\sf C}$ ) | 陰性 ( $\\overline{{\\sf C}}$ )\n",
    "---|:---:|:---:\n",
    "罹患している( ${\\sf A}$ ) | 95% | 5%\n",
    "罹患していない( $\\overline{{\\sf A}}$ ) | 5% | 95%\n",
    "\n",
    "\n",
    "* 検査の信頼性の確率\n",
    "\n",
    "  * $P({\\sf C}|{\\sf A})=0.95$, $P(\\overline{{\\sf C}}|{\\sf A})=0.05$\n",
    "  * $P(\\overline{{\\sf C}}|{\\sf A})=0.05$, $P(\\overline{{\\sf C}}|\\overline{{\\sf A}})=0.95$\n",
    "\n",
    "* 全人口に対する統計から、病気の罹患率を0.5%とする。\n",
    "  $$\n",
    "  P({\\sf A})=0.005\n",
    "  $$\n",
    "\n",
    "* 検査で陽性となったとき、本当に罹患している確率$P({\\sf A}|{\\sf C})$は?\n",
    "  $$\n",
    "  P({\\sf A}|{\\sf C})\n",
    "  =\n",
    "  \\frac{P({\\sf C}|{\\sf A})}{P({\\sf C})}\n",
    "  P({\\sf A})\n",
    "  $$\n",
    "\n",
    "* $P({\\sf C})=\\underbrace{P({\\sf C}|{\\sf A})P({\\sf A})}_{正しい検診}+\\underbrace{P({\\sf C}|\\overline{{\\sf A}})P(\\overline{{\\sf A}})}_{誤診}$\n",
    "\n",
    "* $\\therefore$\n",
    "  $$\n",
    "  P({\\sf A}|{\\sf C})\n",
    "  =\n",
    "  \\frac{\n",
    "    0.95\n",
    "  }{\n",
    "    0.95\\times0.005\n",
    "    +\n",
    "    0.05\\times0.995\n",
    "  }\n",
    "  \\times\n",
    "  0.005\n",
    "  \\approx\n",
    "  0.087\n",
    "  =8.7\\%{}\n",
    "$$"
   ]
  },
  {
   "cell_type": "markdown",
   "metadata": {
    "id": "gmOPVfBIOOwq"
   },
   "source": [
    "\n",
    "\n",
    "---\n",
    "\n"
   ]
  },
  {
   "cell_type": "markdown",
   "metadata": {
    "id": "PGpUDBVEORgq"
   },
   "source": [
    "* 全人口に対する統計から、病気の罹患率を0.5%とする。\n",
    "    $$\n",
    "    P({\\sf A})=0.005\n",
    "    $$"
   ]
  },
  {
   "cell_type": "code",
   "execution_count": 28,
   "metadata": {
    "executionInfo": {
     "elapsed": 6,
     "status": "ok",
     "timestamp": 1727420773583,
     "user": {
      "displayName": "赤井一郎",
      "userId": "14970386652069821665"
     },
     "user_tz": -540
    },
    "id": "ggvK7OnLOJab"
   },
   "outputs": [],
   "source": [
    "############################################\n",
    "P_A = 0.005"
   ]
  },
  {
   "cell_type": "markdown",
   "metadata": {
    "id": "fs9VVIxBOldi"
   },
   "source": [
    "検査の信頼性: Credibility (45% $\\sim$ 100%の等差数列で用意)"
   ]
  },
  {
   "cell_type": "code",
   "execution_count": 29,
   "metadata": {
    "executionInfo": {
     "elapsed": 5,
     "status": "ok",
     "timestamp": 1727420773583,
     "user": {
      "displayName": "赤井一郎",
      "userId": "14970386652069821665"
     },
     "user_tz": -540
    },
    "id": "fZ0fY-2aOv1D"
   },
   "outputs": [],
   "source": [
    "############################################\n",
    "Credibility =np.linspace(0.45,1.0, num=1101)"
   ]
  },
  {
   "cell_type": "markdown",
   "metadata": {
    "id": "HIrQqNg-RSpz"
   },
   "source": [
    "罹患率(%)をベイズ推定で計算する"
   ]
  },
  {
   "cell_type": "code",
   "execution_count": 30,
   "metadata": {
    "executionInfo": {
     "elapsed": 5,
     "status": "ok",
     "timestamp": 1727420773583,
     "user": {
      "displayName": "赤井一郎",
      "userId": "14970386652069821665"
     },
     "user_tz": -540
    },
    "id": "b_W4yDIvPlgD"
   },
   "outputs": [],
   "source": [
    "############################################\n",
    "def DiseaseRate( Credibility, P_A ):\n",
    "  #\n",
    "  P_notA      = 1.0 - P_A\n",
    "  #\n",
    "  P_C_A       = Credibility\n",
    "  P_notC_A    = 1.0 - P_C_A\n",
    "  P_notC_notA = Credibility\n",
    "  P_C_notA    = 1.0 - P_notC_notA\n",
    "  #\n",
    "  P_C = P_C_A * P_A + P_C_notA * P_notA\n",
    "  #\n",
    "  return P_C_A / P_C * P_A * 100"
   ]
  },
  {
   "cell_type": "markdown",
   "metadata": {
    "id": "k9MDwiaEW_Yt"
   },
   "source": [
    "検査の信頼性が50%の場合"
   ]
  },
  {
   "cell_type": "code",
   "execution_count": 31,
   "metadata": {
    "colab": {
     "base_uri": "https://localhost:8080/"
    },
    "executionInfo": {
     "elapsed": 4,
     "status": "ok",
     "timestamp": 1727420773583,
     "user": {
      "displayName": "赤井一郎",
      "userId": "14970386652069821665"
     },
     "user_tz": -540
    },
    "id": "VKXbGhQBXGl2",
    "outputId": "b69479e8-42e3-424e-ee73-5b190c592d05"
   },
   "outputs": [
    {
     "name": "stdout",
     "output_type": "stream",
     "text": [
      "0.5\n"
     ]
    }
   ],
   "source": [
    "############################################\n",
    "Disease050 = DiseaseRate( 0.5, P_A )\n",
    "print( Disease050 )"
   ]
  },
  {
   "cell_type": "markdown",
   "metadata": {
    "id": "Ez99BFmkXRVP"
   },
   "source": [
    "検査の信頼性が95%の場合"
   ]
  },
  {
   "cell_type": "code",
   "execution_count": 32,
   "metadata": {
    "colab": {
     "base_uri": "https://localhost:8080/"
    },
    "executionInfo": {
     "elapsed": 10,
     "status": "ok",
     "timestamp": 1727420773932,
     "user": {
      "displayName": "赤井一郎",
      "userId": "14970386652069821665"
     },
     "user_tz": -540
    },
    "id": "jA6yb8YZXVZm",
    "outputId": "9b93cd2c-1b12-4061-d345-ac0ec1fb181b"
   },
   "outputs": [
    {
     "name": "stdout",
     "output_type": "stream",
     "text": [
      "8.715596330275222\n"
     ]
    }
   ],
   "source": [
    "############################################\n",
    "Disease095 = DiseaseRate( 0.95, P_A )\n",
    "print( Disease095 )"
   ]
  },
  {
   "cell_type": "markdown",
   "metadata": {
    "id": "Qq5Cx-JIWmuP"
   },
   "source": [
    "検査の信頼性: Credibility (45% $\\sim$ 100%の等差数列で用意)"
   ]
  },
  {
   "cell_type": "code",
   "execution_count": 33,
   "metadata": {
    "executionInfo": {
     "elapsed": 8,
     "status": "ok",
     "timestamp": 1727420773933,
     "user": {
      "displayName": "赤井一郎",
      "userId": "14970386652069821665"
     },
     "user_tz": -540
    },
    "id": "LqJKyWaHWi_g"
   },
   "outputs": [],
   "source": [
    "############################################\n",
    "Credibility =np.linspace(0.45,1.0, num=1101)"
   ]
  },
  {
   "cell_type": "markdown",
   "metadata": {
    "id": "IKFdsh5HWh8G"
   },
   "source": [
    "検査の信頼性による罹患率の変化を計算する。"
   ]
  },
  {
   "cell_type": "code",
   "execution_count": 34,
   "metadata": {
    "executionInfo": {
     "elapsed": 8,
     "status": "ok",
     "timestamp": 1727420773934,
     "user": {
      "displayName": "赤井一郎",
      "userId": "14970386652069821665"
     },
     "user_tz": -540
    },
    "id": "nhP1YEh3R9qL"
   },
   "outputs": [],
   "source": [
    "############################################\n",
    "DiseasePercent = DiseaseRate( Credibility, P_A )"
   ]
  },
  {
   "cell_type": "markdown",
   "metadata": {
    "id": "6lmsufz_RZa8"
   },
   "source": [
    "グラフを描く"
   ]
  },
  {
   "cell_type": "code",
   "execution_count": 35,
   "metadata": {
    "colab": {
     "base_uri": "https://localhost:8080/",
     "height": 798
    },
    "executionInfo": {
     "elapsed": 1407,
     "status": "ok",
     "timestamp": 1727420775334,
     "user": {
      "displayName": "赤井一郎",
      "userId": "14970386652069821665"
     },
     "user_tz": -540
    },
    "id": "TOTlTfjcRcAU",
    "outputId": "fee81916-d5b0-4ace-a44e-792583e1f90e"
   },
   "outputs": [
    {
     "data": {
      "image/png": "[encoded data removed]",
      "text/plain": [
       "<Figure size 800x800 with 1 Axes>"
      ]
     },
     "metadata": {},
     "output_type": "display_data"
    }
   ],
   "source": [
    "############################################\n",
    "plt.rcParams['font.size'] = 24\n",
    "#\n",
    "fig = plt.figure( figsize=(8,8) )\n",
    "#\n",
    "fig.subplots_adjust(left=0.15, right=0.97, top=0.97, bottom=0.12)\n",
    "#\n",
    "ax1 = fig.add_subplot(1,1,1)\n",
    "#\n",
    "ax1.set_xlabel( 'Credibility (%)' )\n",
    "ax1.set_xticks([50,60, 70, 80, 90, 100])\n",
    "#\n",
    "ax1.set_yscale('log')\n",
    "ax1.set_ylabel( 'Disease Rate(%)' )\n",
    "#\n",
    "ax1.plot( Credibility*100, DiseasePercent, color='red', label=r'$P({\\sf A}|{\\sf C})$' )\n",
    "#\n",
    "# 信頼性 50%\n",
    "ax1.axhline( Disease050, 0, 1.0, color='blue', linestyle='dotted', label='Credibility=50%' )\n",
    "ax1.axvline( 50, 0, 1.0, color='blue', linestyle='dotted' )\n",
    "ax1.text(75, Disease050, '%.1f%%' % Disease050, color='blue' )\n",
    "#\n",
    "# 信頼性 95%\n",
    "ax1.axhline( Disease095, 0, 1.0, color='green', linestyle='dotted', label='Credibility=95%' )\n",
    "ax1.axvline( 95, 0, 1.0, color='green', linestyle='dotted' )\n",
    "ax1.text(75, Disease095, '%.1f%%' % Disease095, color='green' )\n",
    "#\n",
    "plt.legend()\n",
    "#\n",
    "plt.show()"
   ]
  },
  {
   "cell_type": "code",
   "execution_count": null,
   "metadata": {
    "executionInfo": {
     "elapsed": 986,
     "status": "ok",
     "timestamp": 1727420776313,
     "user": {
      "displayName": "赤井一郎",
      "userId": "14970386652069821665"
     },
     "user_tz": -540
    },
    "id": "JUftODASQlZs"
   },
   "outputs": [
    {
     "ename": "",
     "evalue": "",
     "output_type": "error",
     "traceback": [
      "\u001b[1;31m現在のセルまたは前のセルでコードを実行中に、カーネル (Kernel) がクラッシュしました。\n",
      "\u001b[1;31mエラーの原因を特定するには、セル内のコードを確認してください。\n",
      "\u001b[1;31m詳細については<a href='https://aka.ms/vscodeJupyterKernelCrash'>こちら</a>をクリックします。\n",
      "\u001b[1;31m詳細については、Jupyter <a href='command:jupyter.viewOutput'>ログ</a> を参照してください。"
     ]
    }
   ],
   "source": [
    "############################################\n",
    "# 図をpdfに保存\n",
    "pdfName = FilePath + FileBaseName + '.pdf'\n",
    "fig.savefig( pdfName )"
   ]
  }
 ],
 "metadata": {
  "colab": {
   "authorship_tag": "ABX9TyPjPS8qZ/063HXYQWzpbsou",
   "provenance": []
  },
  "kernelspec": {
   "display_name": "Python 3",
   "name": "python3"
  },
  "language_info": {
   "codemirror_mode": {
    "name": "ipython",
    "version": 3
   },
   "file_extension": ".py",
   "mimetype": "text/x-python",
   "name": "python",
   "nbconvert_exporter": "python",
   "pygments_lexer": "ipython3",
   "version": "3.12.4"
  }
 },
 "nbformat": 4,
 "nbformat_minor": 0
}
