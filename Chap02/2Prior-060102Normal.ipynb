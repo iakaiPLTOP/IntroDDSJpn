{
 "cells": [
  {
   "cell_type": "markdown",
   "metadata": {},
   "source": [
    "このPython コードは、PyMC を使ってMCMCサンプリングを行います。\n",
    "* 2025年8月時点では、Google Colaboratory環境では PyMC がそのまま使えますので、実行可能です。\n",
    "* ローカルな計算機環境では、PyMC パッケージが含まれていないのが一般的です。\n",
    "    * 例えば、Anaconda などの Distribution では、以下の例の様に、PyMC環境を用意する必要があります。\n",
    "        ```\n",
    "        conda create -c conda-forge -n pymc_env pymc\n",
    "        conda activate pymc_env\n",
    "        conda install conda-forge::ipywidgets\n",
    "        conda install scikit-learn\n",
    "        ```\n",
    "        * これで VS codeの実行時のPython環境に、```pymc_env```を選択します。"
   ]
  },
  {
   "cell_type": "code",
   "execution_count": 1,
   "metadata": {
    "executionInfo": {
     "elapsed": 14,
     "status": "ok",
     "timestamp": 1723521520862,
     "user": {
      "displayName": "赤井一郎",
      "userId": "14970386652069821665"
     },
     "user_tz": -540
    },
    "id": "oK0KmwgADdve"
   },
   "outputs": [],
   "source": [
    "############################################\n",
    "BaseDir      = 'IntroDDSJpn/Chap02/'\n",
    "OutputDir    = '2Prior-060102Normal/'\n",
    "FileBaseName = '2Prior-060102Normal'"
   ]
  },
  {
   "cell_type": "markdown",
   "metadata": {
    "id": "oDjtHvyTUBzh"
   },
   "source": [
    "* Google Colabかどうかを判別し、このJupyter Notebookのあるディレクトリを特定します。"
   ]
  },
  {
   "cell_type": "code",
   "execution_count": 2,
   "metadata": {
    "colab": {
     "base_uri": "https://localhost:8080/"
    },
    "executionInfo": {
     "elapsed": 23171,
     "status": "ok",
     "timestamp": 1723521544021,
     "user": {
      "displayName": "赤井一郎",
      "userId": "14970386652069821665"
     },
     "user_tz": -540
    },
    "id": "Vzn1BJoUT90_",
    "outputId": "5e48090c-bdf8-4ae3-ed76-6e1c8a001d0a"
   },
   "outputs": [
    {
     "name": "stdout",
     "output_type": "stream",
     "text": [
      "ipynb file path = d:\\home\\iakai\\CY\\Docs\\Kuma3Curriculum\\2025森北出版\\GitHubIntroDDSJpn\\IntroDDSJpn\\Chap02/\n"
     ]
    }
   ],
   "source": [
    "############################################\n",
    "import sys\n",
    "import os\n",
    "############################################\n",
    "def IsGoogleColab():\n",
    "  if 'google.colab' in sys.modules:\n",
    "    return True\n",
    "  else:\n",
    "    return False\n",
    "############################################\n",
    "if IsGoogleColab():\n",
    "  #\n",
    "  from google.colab import drive\n",
    "  drive.mount('/content/drive')\n",
    "  #\n",
    "  IpynbDir = 'drive/My Drive/Colab Notebooks/' + BaseDir\n",
    "else:\n",
    "  #\n",
    "  IpynbDir =  os.getcwd() + '/'\n",
    "############################################\n",
    "print( 'ipynb file path = %s' % IpynbDir )"
   ]
  },
  {
   "cell_type": "markdown",
   "metadata": {
    "id": "N9urxWx4ULl2"
   },
   "source": [
    "* 必要なパッケージを読み込み、ファイルの出力先のディレクトリを用意します。"
   ]
  },
  {
   "cell_type": "code",
   "execution_count": 3,
   "metadata": {
    "colab": {
     "base_uri": "https://localhost:8080/"
    },
    "executionInfo": {
     "elapsed": 7572,
     "status": "ok",
     "timestamp": 1723521551583,
     "user": {
      "displayName": "赤井一郎",
      "userId": "14970386652069821665"
     },
     "user_tz": -540
    },
    "id": "NELLsyOxUO_C",
    "outputId": "523602a1-42a4-4b47-b84a-c32f78fbc949"
   },
   "outputs": [
    {
     "name": "stdout",
     "output_type": "stream",
     "text": [
      "matplotlib Ver. 3.10.0\n",
      "numpy      Ver. 1.26.4\n"
     ]
    },
    {
     "name": "stderr",
     "output_type": "stream",
     "text": [
      "WARNING (pytensor.tensor.blas): Using NumPy C-API based implementation for BLAS functions.\n"
     ]
    },
    {
     "name": "stdout",
     "output_type": "stream",
     "text": [
      "pymc       Ver. 5.16.1\n",
      "FilePath = d:\\home\\iakai\\CY\\Docs\\Kuma3Curriculum\\2025森北出版\\GitHubIntroDDSJpn\\IntroDDSJpn\\Chap02/2Prior-060102Normal/\n",
      "  making d:\\home\\iakai\\CY\\Docs\\Kuma3Curriculum\\2025森北出版\\GitHubIntroDDSJpn\\IntroDDSJpn\\Chap02/2Prior-060102Normal/\n"
     ]
    }
   ],
   "source": [
    "############################################\n",
    "import matplotlib as mpl\n",
    "import matplotlib.pyplot as plt\n",
    "%matplotlib inline\n",
    "print('matplotlib Ver.', mpl.__version__)\n",
    "#\n",
    "############################################\n",
    "import numpy as np\n",
    "print('numpy      Ver.', np.__version__)\n",
    "#\n",
    "############################################\n",
    "# https://docs.pymc.io/\n",
    "import pymc as pm\n",
    "import time\n",
    "print('pymc       Ver.', pm.__version__)\n",
    "#\n",
    "############################################\n",
    "FilePath = IpynbDir + OutputDir\n",
    "print( 'FilePath = %s' % FilePath )\n",
    "#\n",
    "if( True != os.path.isdir(FilePath) ):\n",
    "    print('  making %s' % FilePath )\n",
    "    os.mkdir(FilePath)\n",
    "else:\n",
    "    print(' %s is exist.' % FilePath )"
   ]
  },
  {
   "cell_type": "markdown",
   "metadata": {
    "id": "7NeR8-NtkfIy"
   },
   "source": [
    "---\n",
    "正規分布\n",
    "$$\n",
    "{\\rm PNormal}(x;\\mu,\\sigma)=\\frac{1}{\\sigma\\sqrt{2\\pi}}\n",
    "\\exp\\left[-\\frac{(x-\\mu)^2}{2\\sigma^2}\\right],\n",
    "\\;\\;\\;\n",
    "x\\in[-\\infty,\\infty]\n",
    "$$"
   ]
  },
  {
   "cell_type": "code",
   "execution_count": 4,
   "metadata": {
    "executionInfo": {
     "elapsed": 11,
     "status": "ok",
     "timestamp": 1723521551583,
     "user": {
      "displayName": "赤井一郎",
      "userId": "14970386652069821665"
     },
     "user_tz": -540
    },
    "id": "WuqZi-oukgBa"
   },
   "outputs": [],
   "source": [
    "############################################\n",
    "sqrt2pi = np.sqrt( 2 * np.pi )\n",
    "############################################\n",
    "# ##1. 正規分布\n",
    "def PNormal(x, mu, sigma):\n",
    "  return np.exp( - (x - mu)**2 / (2*sigma**2) ) / (sigma * sqrt2pi )"
   ]
  },
  {
   "cell_type": "code",
   "execution_count": 5,
   "metadata": {
    "executionInfo": {
     "elapsed": 10,
     "status": "ok",
     "timestamp": 1723521551584,
     "user": {
      "displayName": "赤井一郎",
      "userId": "14970386652069821665"
     },
     "user_tz": -540
    },
    "id": "CdB-DN4HkxPu"
   },
   "outputs": [],
   "source": [
    "############################################\n",
    "xx = np.linspace(-100,+100,num=201)\n",
    "PNormal1 = PNormal(xx, 0, 20)"
   ]
  },
  {
   "cell_type": "markdown",
   "metadata": {
    "id": "y_RI-OLOUrjO"
   },
   "source": [
    "PyMCで用いる正規分布の例"
   ]
  },
  {
   "cell_type": "code",
   "execution_count": 6,
   "metadata": {
    "executionInfo": {
     "elapsed": 2478,
     "status": "ok",
     "timestamp": 1723521554053,
     "user": {
      "displayName": "赤井一郎",
      "userId": "14970386652069821665"
     },
     "user_tz": -540
    },
    "id": "WtPZCqbqDWaG"
   },
   "outputs": [],
   "source": [
    "############################################\n",
    "with pm.Model() as  model:\n",
    "    alpha = pm.Normal('alpha', mu=0, sigma=20 )\n",
    "    Normal1 = pm.draw( alpha, draws=100000)"
   ]
  },
  {
   "cell_type": "code",
   "execution_count": 7,
   "metadata": {
    "colab": {
     "base_uri": "https://localhost:8080/"
    },
    "executionInfo": {
     "elapsed": 10,
     "status": "ok",
     "timestamp": 1723521554054,
     "user": {
      "displayName": "赤井一郎",
      "userId": "14970386652069821665"
     },
     "user_tz": -540
    },
    "id": "2oPQXSpHDWaJ",
    "outputId": "53dc2a53-7263-4353-aeda-0fe824caeea6"
   },
   "outputs": [
    {
     "name": "stdout",
     "output_type": "stream",
     "text": [
      "Normal1_mean =    0.019520\n",
      "Normal1_std  =   20.028140\n"
     ]
    }
   ],
   "source": [
    "############################################\n",
    "Normal1_mean = np.mean( Normal1 )\n",
    "Normal1_std  = np.std( Normal1 )\n",
    "print('Normal1_mean = ', '%10.6f' % Normal1_mean )\n",
    "print('Normal1_std  = ', '%10.6f' % Normal1_std )"
   ]
  },
  {
   "cell_type": "code",
   "execution_count": 8,
   "metadata": {
    "colab": {
     "base_uri": "https://localhost:8080/",
     "height": 644
    },
    "executionInfo": {
     "elapsed": 1464,
     "status": "ok",
     "timestamp": 1723521555511,
     "user": {
      "displayName": "赤井一郎",
      "userId": "14970386652069821665"
     },
     "user_tz": -540
    },
    "id": "1eSk7Ek3DWaM",
    "outputId": "bb5afbd2-cf4b-48dd-f5a8-f64859862b9e"
   },
   "outputs": [
    {
     "data": {
      "image/png": "[encoded data removed]",
      "text/plain": [
       "<Figure size 600x600 with 1 Axes>"
      ]
     },
     "metadata": {},
     "output_type": "display_data"
    },
    {
     "name": "stdout",
     "output_type": "stream",
     "text": [
      "d:\\home\\iakai\\CY\\Docs\\Kuma3Curriculum\\2025森北出版\\GitHubIntroDDSJpn\\IntroDDSJpn\\Chap02/2Prior-060102Normal/2Prior-060102Normal.pdf\n"
     ]
    }
   ],
   "source": [
    "############################################\n",
    "x_lim  = max( np.abs(np.amax(Normal1)),\n",
    "              np.abs(np.amin(Normal1)) )\n",
    "############################################\n",
    "plt.rcParams['font.size'] = 16\n",
    "#\n",
    "fig = plt.figure( figsize=(6,6) )\n",
    "fig.subplots_adjust(left=0.18, right=0.97,\n",
    "                    top=0.94, bottom=0.1)\n",
    "#\n",
    "ax1 = fig.add_subplot(1,1,1)\n",
    "ax1.set_xlabel(r'$\\alpha$')\n",
    "ax1.set_xlim( -x_lim, +x_lim )\n",
    "ax1.set_ylabel(\n",
    "    r'Normal($\\mu=0$, $\\sigma=20$)')\n",
    "(x_left, x_right) = ax1.set_xlim((-x_lim,\n",
    "                                  +x_lim))\n",
    "#\n",
    "bin_values, bins, patches = ax1.hist(\n",
    "        Normal1,\n",
    "        bins=100, density=True,\n",
    "        label=r'$\\hat{\\mu}=%.3f$, $\\hat{\\sigma}=%.3f$'\n",
    "        % (Normal1_mean, Normal1_std))\n",
    "#\n",
    "bin_values_max = np.amax( bin_values )\n",
    "#\n",
    "(y_bot, y_top) = ax1.set_ylim((0,bin_values_max * 1.3))\n",
    "#\n",
    "ax1.plot(xx, PNormal1, label=r'$\\mathcal{N}(0.0,+20.0)$' )\n",
    "#\n",
    "plt.title(\n",
    "    r'pm.Normal( foo, $\\mu$=0, $\\sigma$=20 )')\n",
    "#\n",
    "plt.legend()\n",
    "#\n",
    "plt.grid(True)\n",
    "#\n",
    "plt.show()\n",
    "#\n",
    "######################################\n",
    "pdfName = FilePath + FileBaseName + '.pdf'\n",
    "fig.savefig( pdfName )\n",
    "print( pdfName )"
   ]
  }
 ],
 "metadata": {
  "colab": {
   "provenance": []
  },
  "kernelspec": {
   "display_name": "pymc_env",
   "language": "python",
   "name": "python3"
  },
  "language_info": {
   "codemirror_mode": {
    "name": "ipython",
    "version": 3
   },
   "file_extension": ".py",
   "mimetype": "text/x-python",
   "name": "python",
   "nbconvert_exporter": "python",
   "pygments_lexer": "ipython3",
   "version": "3.12.11"
  }
 },
 "nbformat": 4,
 "nbformat_minor": 0
}
