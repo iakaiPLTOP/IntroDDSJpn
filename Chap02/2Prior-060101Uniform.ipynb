{
 "cells": [
  {
   "cell_type": "markdown",
   "metadata": {},
   "source": [
    "このPython コードは、PyMC を使ってMCMCサンプリングを行います。\n",
    "* 2025年8月時点では、Google Colaboratory環境では PyMC がそのまま使えますので、実行可能です。\n",
    "* ローカルな計算機環境では、PyMC パッケージが含まれていないのが一般的です。\n",
    "    * 例えば、Anaconda などの Distribution では、以下の例の様に、PyMC環境を用意する必要があります。\n",
    "        ```\n",
    "        conda create -c conda-forge -n pymc_env pymc\n",
    "        conda activate pymc_env\n",
    "        conda install conda-forge::ipywidgets\n",
    "        conda install scikit-learn\n",
    "        ```\n",
    "        * これで VS codeの実行時のPython環境に、```pymc_env```を選択します。"
   ]
  },
  {
   "cell_type": "code",
   "execution_count": 1,
   "metadata": {
    "id": "S-Sltpv4E1pI"
   },
   "outputs": [],
   "source": [
    "############################################\n",
    "BaseDir      = 'IntroDDSJpn/Chap02/'\n",
    "OutputDir    = '2Prior-060101Uniform/'\n",
    "FileBaseName = '2Prior-060101Uniform'"
   ]
  },
  {
   "cell_type": "markdown",
   "metadata": {
    "id": "PDrLVMsvtTtK"
   },
   "source": [
    "* Google Colabかどうかを判別し、このJupyter Notebookのあるディレクトリを特定します。"
   ]
  },
  {
   "cell_type": "code",
   "execution_count": 2,
   "metadata": {
    "colab": {
     "base_uri": "https://localhost:8080/"
    },
    "executionInfo": {
     "elapsed": 20921,
     "status": "ok",
     "timestamp": 1728015869671,
     "user": {
      "displayName": "赤井一郎",
      "userId": "14970386652069821665"
     },
     "user_tz": -540
    },
    "id": "WHTnBkiVtU1Z",
    "outputId": "aee60020-5a8c-4403-d761-2787458f4ddb"
   },
   "outputs": [
    {
     "name": "stdout",
     "output_type": "stream",
     "text": [
      "ipynb file path = d:\\home\\iakai\\CY\\Docs\\Kuma3Curriculum\\2025森北出版\\GitHubIntroDDSJpn\\IntroDDSJpn\\Chap02/\n"
     ]
    }
   ],
   "source": [
    "############################################\n",
    "import sys\n",
    "import os\n",
    "############################################\n",
    "def IsGoogleColab():\n",
    "  if 'google.colab' in sys.modules:\n",
    "    return True\n",
    "  else:\n",
    "    return False\n",
    "############################################\n",
    "if IsGoogleColab():\n",
    "  #\n",
    "  from google.colab import drive\n",
    "  drive.mount('/content/drive')\n",
    "  #\n",
    "  IpynbDir = 'drive/My Drive/Colab Notebooks/' + BaseDir\n",
    "else:\n",
    "  #\n",
    "  IpynbDir =  os.getcwd() + '/'\n",
    "############################################\n",
    "print( 'ipynb file path = %s' % IpynbDir )"
   ]
  },
  {
   "cell_type": "markdown",
   "metadata": {
    "id": "Fpnnp0cftXgZ"
   },
   "source": [
    "* 必要なパッケージを読み込み、ファイルの出力先のディレクトリを用意します。"
   ]
  },
  {
   "cell_type": "code",
   "execution_count": 3,
   "metadata": {
    "colab": {
     "base_uri": "https://localhost:8080/"
    },
    "executionInfo": {
     "elapsed": 9197,
     "status": "ok",
     "timestamp": 1728015878862,
     "user": {
      "displayName": "赤井一郎",
      "userId": "14970386652069821665"
     },
     "user_tz": -540
    },
    "id": "veuOjA_0taRa",
    "outputId": "5dc12fa6-8739-42ea-ef42-ac77a0bd9750"
   },
   "outputs": [
    {
     "name": "stdout",
     "output_type": "stream",
     "text": [
      "matplotlib Ver. 3.10.0\n",
      "numpy      Ver. 1.26.4\n"
     ]
    },
    {
     "name": "stderr",
     "output_type": "stream",
     "text": [
      "WARNING (pytensor.tensor.blas): Using NumPy C-API based implementation for BLAS functions.\n"
     ]
    },
    {
     "name": "stdout",
     "output_type": "stream",
     "text": [
      "pymc       Ver. 5.16.1\n",
      "FilePath = d:\\home\\iakai\\CY\\Docs\\Kuma3Curriculum\\2025森北出版\\GitHubIntroDDSJpn\\IntroDDSJpn\\Chap02/2Prior-060101Uniform/\n",
      "  making d:\\home\\iakai\\CY\\Docs\\Kuma3Curriculum\\2025森北出版\\GitHubIntroDDSJpn\\IntroDDSJpn\\Chap02/2Prior-060101Uniform/\n"
     ]
    }
   ],
   "source": [
    "############################################\n",
    "import matplotlib as mpl\n",
    "import matplotlib.pyplot as plt\n",
    "%matplotlib inline\n",
    "print('matplotlib Ver.', mpl.__version__)\n",
    "#\n",
    "############################################\n",
    "import numpy as np\n",
    "print('numpy      Ver.', np.__version__)\n",
    "#\n",
    "############################################\n",
    "# https://docs.pymc.io/\n",
    "import pymc as pm\n",
    "import time\n",
    "print('pymc       Ver.', pm.__version__)\n",
    "#\n",
    "############################################\n",
    "FilePath = IpynbDir + OutputDir\n",
    "print( 'FilePath = %s' % FilePath )\n",
    "#\n",
    "if( True != os.path.isdir(FilePath) ):\n",
    "    print('  making %s' % FilePath )\n",
    "    os.mkdir(FilePath)\n",
    "else:\n",
    "    print(' %s is exist.' % FilePath )"
   ]
  },
  {
   "cell_type": "markdown",
   "metadata": {
    "id": "8Ys-TM6ObIrI"
   },
   "source": [
    "---\n",
    "一様分布 $\\mathcal{U}(\\theta;a,b)$\n",
    "$$\n",
    "  \\mathcal{U}(\\theta;a,b)\n",
    "    =\n",
    "    \\left\\{\n",
    "        \\begin{array}{cl}\n",
    "            \\displaystyle\n",
    "            \\frac{1}{b-a}, &\n",
    "            (a\\leq\\theta\\leq{}b)\n",
    "            \\\\[1.5em]\n",
    "            0, &\n",
    "            (\\textrm{otherwise})\n",
    "        \\end{array}\n",
    "    \\right.\n",
    "$$"
   ]
  },
  {
   "cell_type": "code",
   "execution_count": 4,
   "metadata": {
    "id": "HkEWIknYbh79"
   },
   "outputs": [],
   "source": [
    "############################################\n",
    "def PUniform(x,a,b):\n",
    "  rtn = np.zeros_like(x)\n",
    "  rtn[ (x-b)*(x-a)<=0 ] = 1 /(b-a)\n",
    "  return rtn"
   ]
  },
  {
   "cell_type": "code",
   "execution_count": 5,
   "metadata": {
    "id": "41TEFHWZee9L"
   },
   "outputs": [],
   "source": [
    "############################################\n",
    "xx = np.linspace( -2.2, 2.2, num=221)\n",
    "PUnfirm1 = PUniform(xx, -2.0, +2.0)"
   ]
  },
  {
   "cell_type": "markdown",
   "metadata": {
    "id": "8PGrx3r6tgaR"
   },
   "source": [
    "PyMC で用いる一様分布の例"
   ]
  },
  {
   "cell_type": "code",
   "execution_count": 6,
   "metadata": {
    "id": "Yk1FV8zmEw5h"
   },
   "outputs": [],
   "source": [
    "############################################\n",
    "with pm.Model() as  model:\n",
    "    alpha = pm.Uniform('alpha', lower=-2, upper=2 )\n",
    "    Uniform1 = pm.draw( alpha, draws=100000)"
   ]
  },
  {
   "cell_type": "code",
   "execution_count": 7,
   "metadata": {
    "colab": {
     "base_uri": "https://localhost:8080/"
    },
    "executionInfo": {
     "elapsed": 6,
     "status": "ok",
     "timestamp": 1728015882489,
     "user": {
      "displayName": "赤井一郎",
      "userId": "14970386652069821665"
     },
     "user_tz": -540
    },
    "id": "8IzCst3NEw5j",
    "outputId": "916992fa-97ac-4b22-d33d-7d9a1e03d11b"
   },
   "outputs": [
    {
     "name": "stdout",
     "output_type": "stream",
     "text": [
      "Uniform1_mean =    0.004949\n",
      "Uniform1_std  =    1.154077\n"
     ]
    }
   ],
   "source": [
    "############################################\n",
    "Uniform1_mean = np.mean( Uniform1 )\n",
    "Uniform1_std  = np.std( Uniform1 )\n",
    "print('Uniform1_mean = ',\n",
    "           '%10.6f' % Uniform1_mean )\n",
    "print('Uniform1_std  = ',\n",
    "           '%10.6f' % Uniform1_std )"
   ]
  },
  {
   "cell_type": "code",
   "execution_count": 8,
   "metadata": {
    "colab": {
     "base_uri": "https://localhost:8080/",
     "height": 642
    },
    "executionInfo": {
     "elapsed": 2137,
     "status": "ok",
     "timestamp": 1728015884621,
     "user": {
      "displayName": "赤井一郎",
      "userId": "14970386652069821665"
     },
     "user_tz": -540
    },
    "id": "NymlvdNcEw5n",
    "outputId": "c6513353-c15b-454b-e08b-f561c14ba7b0",
    "scrolled": true
   },
   "outputs": [
    {
     "data": {
      "image/png": "[encoded data removed]",
      "text/plain": [
       "<Figure size 600x600 with 1 Axes>"
      ]
     },
     "metadata": {},
     "output_type": "display_data"
    },
    {
     "name": "stdout",
     "output_type": "stream",
     "text": [
      "d:\\home\\iakai\\CY\\Docs\\Kuma3Curriculum\\2025森北出版\\GitHubIntroDDSJpn\\IntroDDSJpn\\Chap02/2Prior-060101Uniform/2Prior-060101Uniform.pdf\n"
     ]
    }
   ],
   "source": [
    "############################################\n",
    "x_lim  = 1.1 * max( np.abs(np.amax(Uniform1)),\n",
    "                np.abs(np.amin(Uniform1)) )\n",
    "############################################\n",
    "plt.rcParams['font.size'] = 16\n",
    "#\n",
    "fig = plt.figure( figsize=(6,6) )\n",
    "fig.subplots_adjust(left=0.18, right=0.97,\n",
    "                    top=0.94, bottom=0.1)\n",
    "#\n",
    "ax1 = fig.add_subplot(1,1,1)\n",
    "ax1.set_xlabel(r'$\\alpha$')\n",
    "ax1.set_xlim( -x_lim, +x_lim )\n",
    "ax1.set_ylabel(\n",
    "    'Uniform(lower=-2, upper=2)')\n",
    "(x_left, x_right) = ax1.set_xlim((-x_lim,\n",
    "                                  +x_lim))\n",
    "#\n",
    "bin_values, bins, patches = ax1.hist(\n",
    "        Uniform1,\n",
    "        bins=100, density=True,\n",
    "        label=r'$\\hat{\\mu}=%.3f$, $\\hat{\\sigma}=%.3f$'\n",
    "        % (Uniform1_mean, Uniform1_std))\n",
    "#\n",
    "bin_values_max = np.amax( bin_values )\n",
    "#\n",
    "(y_bot, y_top) = ax1.set_ylim((0,bin_values_max * 1.2))\n",
    "#\n",
    "ax1.plot(xx, PUnfirm1, label=r'$\\mathcal{U}(-2.0,+2.0)$' )\n",
    "#\n",
    "plt.title(\n",
    "    'pm.Uniform( foo, lower=-2, upper=2 )')\n",
    "#\n",
    "plt.legend()\n",
    "#\n",
    "plt.grid(True)\n",
    "#\n",
    "plt.show()\n",
    "#\n",
    "######################################\n",
    "######################################\n",
    "pdfName = FilePath + FileBaseName + '.pdf'\n",
    "fig.savefig( pdfName )\n",
    "print( pdfName )"
   ]
  }
 ],
 "metadata": {
  "colab": {
   "provenance": []
  },
  "kernelspec": {
   "display_name": "pymc_env",
   "language": "python",
   "name": "python3"
  },
  "language_info": {
   "codemirror_mode": {
    "name": "ipython",
    "version": 3
   },
   "file_extension": ".py",
   "mimetype": "text/x-python",
   "name": "python",
   "nbconvert_exporter": "python",
   "pygments_lexer": "ipython3",
   "version": "3.12.11"
  }
 },
 "nbformat": 4,
 "nbformat_minor": 0
}
