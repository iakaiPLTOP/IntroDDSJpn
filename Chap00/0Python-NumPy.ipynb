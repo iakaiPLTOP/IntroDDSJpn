{
 "cells": [
  {
   "cell_type": "markdown",
   "metadata": {
    "id": "eo0uMXG2LMR3"
   },
   "source": [
    "ベースディレクトリと、出力ディレクトリを設定します。"
   ]
  },
  {
   "cell_type": "code",
   "execution_count": 1,
   "metadata": {
    "executionInfo": {
     "elapsed": 364,
     "status": "ok",
     "timestamp": 1726206329513,
     "user": {
      "displayName": "赤井一郎",
      "userId": "14970386652069821665"
     },
     "user_tz": -540
    },
    "id": "dW8sr9RqKbgE"
   },
   "outputs": [],
   "source": [
    "############################################\n",
    "BaseDir   = 'IntroDDSJpn/Chap00/'\n",
    "OutputDir = '0Python-NumPy/'"
   ]
  },
  {
   "cell_type": "markdown",
   "metadata": {
    "id": "chBAUUE4LYtF"
   },
   "source": [
    "Google Colabかどうかを判別し、このJupyter Notebookのあるディレクトリを特定します。"
   ]
  },
  {
   "cell_type": "code",
   "execution_count": null,
   "metadata": {
    "colab": {
     "base_uri": "https://localhost:8080/"
    },
    "executionInfo": {
     "elapsed": 18179,
     "status": "ok",
     "timestamp": 1726206348019,
     "user": {
      "displayName": "赤井一郎",
      "userId": "14970386652069821665"
     },
     "user_tz": -540
    },
    "id": "pXTpCCcCLcA9",
    "outputId": "a50c0c93-327e-43ce-c84c-6d265ec1fa68"
   },
   "outputs": [
    {
     "name": "stdout",
     "output_type": "stream",
     "text": [
      "ipynb file path = d:\\home\\iakai\\CY\\Docs\\Kuma3Curriculum\\2025森北出版\\GitHubIntroDDSJpn\\IntroDDSJpn\\Chap00\n"
     ]
    }
   ],
   "source": [
    "############################################\n",
    "import sys\n",
    "import os\n",
    "############################################\n",
    "def IsGoogleColab():\n",
    "  if 'google.colab' in sys.modules:\n",
    "    return True\n",
    "  else:\n",
    "    return False\n",
    "############################################\n",
    "if IsGoogleColab():\n",
    "  #\n",
    "  from google.colab import drive\n",
    "  drive.mount('/content/drive')\n",
    "  #\n",
    "  IpynbDir = 'drive/My Drive/Colab Notebooks/' + BaseDir\n",
    "else:\n",
    "  #\n",
    "  IpynbDir =  os.getcwd() + '/'\n",
    "############################################\n",
    "print( 'ipynb file path = %s' % IpynbDir )"
   ]
  },
  {
   "cell_type": "markdown",
   "metadata": {
    "id": "0FPQ4WbCgVAe"
   },
   "source": [
    "Pythonで数値計算や配列を効率的に行うためのパッケージ\n",
    "* https://numpy.org/\n",
    "* NumPy Reference: https://numpy.org/doc/stable/reference/index.html"
   ]
  },
  {
   "cell_type": "code",
   "execution_count": 3,
   "metadata": {
    "colab": {
     "base_uri": "https://localhost:8080/"
    },
    "executionInfo": {
     "elapsed": 20,
     "status": "ok",
     "timestamp": 1726206348020,
     "user": {
      "displayName": "赤井一郎",
      "userId": "14970386652069821665"
     },
     "user_tz": -540
    },
    "id": "tcxwujELhDKm",
    "outputId": "78faddff-d196-47da-fad8-819c817598ac"
   },
   "outputs": [
    {
     "name": "stdout",
     "output_type": "stream",
     "text": [
      "numpy      Ver. 1.26.4\n"
     ]
    }
   ],
   "source": [
    "############################################\n",
    "import numpy as np\n",
    "print('numpy      Ver.', np.__version__)\n",
    "############################################\n",
    "# 1 次元配列\n",
    "a = np.array([1, 2, 3])\n",
    "b = np.array([2, 2, 0])\n",
    "# 2 次元配列\n",
    "bb = np.array([[1, 2, 3], [4, 5, 6]])\n",
    "# 3 次元配列\n",
    "ddd = np.array([ [ [1,  2, 3],\n",
    "                   [4,  5, 6],\n",
    "                   [7,  8, 9],\n",
    "                   [10,11,12] ],\n",
    "                 [ [13,14,15],\n",
    "                   [16,17,18],\n",
    "                   [19,20,21],\n",
    "                   [22,23,24] ] ] )"
   ]
  },
  {
   "cell_type": "markdown",
   "metadata": {
    "id": "bzeJLqIkmM0H"
   },
   "source": [
    "ベクトル・行列演算\n",
    "* $\\boldsymbol{a}=(a_{1},\\cdots,a_{i},\\cdots,a_{n})$, $\\boldsymbol{b}=(b_{1},\\cdots,b_{i},\\cdots,b_{n})$\n",
    "\n",
    "* アダマール(Hadamard)積:\n",
    "  $$\n",
    "  (a_{1}b_{1},\\cdots,a_{i}b_{i},\\cdots,a_{n}b_{n})\n",
    "  $$\n",
    "\n",
    "* 内積:  \n",
    "  $$\n",
    "  \\boldsymbol{a}\\cdot\\boldsymbol{b}\n",
    "  =\n",
    "  \\sum_{i=1}^{n}a_{i}b_{i}\n",
    "  $$\n",
    "\n",
    "* 外積($n=3$の場合):  \n",
    "  $$\\boldsymbol{a}\\times\\boldsymbol{b}\n",
    "  =\n",
    "  \\left|\n",
    "  \\begin{array}{ccc}\n",
    "    \\boldsymbol{e}_{x}&\\boldsymbol{e}_{y}&\\boldsymbol{e}_{z} \\\\\n",
    "    a_{x} & a_{y} & a_{z} \\\\\n",
    "    b_{x} & b_{y} & b_{z}\n",
    "  \\end{array}\n",
    "  \\right|\n",
    "  $$\n",
    "\n",
    "* 直積($n=3$の場合)\n",
    "  $$\n",
    "  \\boldsymbol{a}\\otimes\\boldsymbol{b}\n",
    "  =\n",
    "  \\boldsymbol{a}\\boldsymbol{b}^{T}\n",
    "  =\n",
    "  \\left(\n",
    "    \\begin{array}{c}\n",
    "      a_{1}\\\\\n",
    "      a_{2}\\\\\n",
    "      a_{3}\n",
    "    \\end{array}\n",
    "  \\right)\n",
    "  \\left(\n",
    "    \\begin{array}{ccc}\n",
    "      b_{1} & b_{2} & b_{3}\n",
    "    \\end{array}\n",
    "  \\right)\n",
    "  $$\n",
    "\n",
    "* 行列積\n",
    "  $$\n",
    "  \\left(\n",
    "    \\begin{array}{ccc}\n",
    "      c_{11} & \\cdots & c_{1n} \\\\\n",
    "      \\vdots & \\ddots & \\vdots \\\\\n",
    "      c_{11} & \\cdots & c_{1n}\n",
    "    \\end{array}\n",
    "  \\right)\n",
    "  \\left(\n",
    "    \\begin{array}{c}\n",
    "      d_{1} \\\\\n",
    "      \\vdots \\\\\n",
    "      d_{n}\n",
    "    \\end{array}\n",
    "  \\right),\n",
    "  \\left(\n",
    "    \\begin{array}{ccc}\n",
    "      d_{1} & \\cdots d_{n}\n",
    "    \\end{array}\n",
    "  \\right)\n",
    "  \\left(\n",
    "    \\begin{array}{ccc}\n",
    "      c_{11} & \\cdots & c_{1n} \\\\\n",
    "      \\vdots & \\ddots & \\vdots \\\\\n",
    "      c_{11} & \\cdots & c_{1n}\n",
    "    \\end{array}\n",
    "  \\right)$$"
   ]
  },
  {
   "cell_type": "code",
   "execution_count": 4,
   "metadata": {
    "colab": {
     "base_uri": "https://localhost:8080/"
    },
    "executionInfo": {
     "elapsed": 14,
     "status": "ok",
     "timestamp": 1726206348020,
     "user": {
      "displayName": "赤井一郎",
      "userId": "14970386652069821665"
     },
     "user_tz": -540
    },
    "id": "CytZe83kdpjn",
    "outputId": "ef7e5494-7fc9-47bb-9c06-3d55dd91e529"
   },
   "outputs": [
    {
     "name": "stdout",
     "output_type": "stream",
     "text": [
      "a= [1 2 3] , b= [2 2 0]\n",
      "a*b= [2 4 0]\n",
      "a@b= 6\n",
      "np.dot( a, b )= 6\n",
      "np.cross( a, b )= [-6  6 -2]\n",
      "np.outer( a, b )= [[2 2 0]\n",
      " [4 4 0]\n",
      " [6 6 0]]\n",
      "[[ 5]\n",
      " [11]]\n",
      "[[ 7 10]]\n"
     ]
    }
   ],
   "source": [
    "############################################\n",
    "print( 'a=', a, ', b=', b )\n",
    "# アダマール(Hadamard)積\n",
    "print( 'a*b=', a*b )\n",
    "# 内積\n",
    "print( 'a@b=', a@b )\n",
    "print( 'np.dot( a, b )=', np.dot( a, b ) )\n",
    "# 外積\n",
    "print( 'np.cross( a, b )=', np.cross( a, b ) )\n",
    "# 直積\n",
    "c = np.outer( a, b )\n",
    "print( 'np.outer( a, b )=', np.outer( a, b ) )\n",
    "############################################\n",
    "# 行列積\n",
    "c = np.array( [ [1, 2], [3, 4] ] )\n",
    "d = np.array( [ [1], [2] ] )\n",
    "print( c @ d )\n",
    "print( d.T @ c )"
   ]
  },
  {
   "cell_type": "markdown",
   "metadata": {
    "id": "dsNOxMzE40YF"
   },
   "source": [
    "統計処理\n",
    "* データ: $\\boldsymbol{X}=\\{x_1,\\cdots,x_n\\}$,  荷重: $\\boldsymbol{W}=\\{w_1,\\cdots,w_n\\}$\n",
    "\n",
    "* 最大値、最小値: ${\\rm max}(\\boldsymbol{X})$,  ${\\rm min}(\\boldsymbol{X})$,\n",
    "\n",
    "* 最大値、最小値のインデックス: ${\\rm argmax}(\\boldsymbol{X})$,  ${\\rm argmin}(\\boldsymbol{X})$,\n",
    "\n",
    "* 平均値:\n",
    "    $$\\overline{X}=\\frac{1}{n}\\sum_{i=1}^{n}x_{i}$$\n",
    "\n",
    "* 荷重平均値:\n",
    "    $$\\frac{\\sum_{i=1}^{n}w_{i}x_{i}}{\\sum_{i=1}^{n}w_{i}}$$\n",
    "\n",
    "* 分散:\n",
    "    $$\\sigma^{2}=\\frac{1}{n-{\\rm{ddof}}}\\sum_{i=1}^{n}\\left(x_{i}-\\overline{X}\\right)^2$$"
   ]
  },
  {
   "cell_type": "code",
   "execution_count": 5,
   "metadata": {
    "colab": {
     "base_uri": "https://localhost:8080/"
    },
    "executionInfo": {
     "elapsed": 11,
     "status": "ok",
     "timestamp": 1726206348020,
     "user": {
      "displayName": "赤井一郎",
      "userId": "14970386652069821665"
     },
     "user_tz": -540
    },
    "id": "E-A_0ntavZU-",
    "outputId": "ed2cf638-de7e-4223-9953-d8703486b3e1"
   },
   "outputs": [
    {
     "name": "stdout",
     "output_type": "stream",
     "text": [
      "[-0.80060496  2.90939191  0.81468051 -4.49246468  1.29955249 -0.86856057\n",
      " -2.89844614  4.29114895 -1.08042396  4.66469303]\n",
      "[7.2350637  1.75695614 8.20268971 3.71543891 4.72594856 3.3797481\n",
      " 4.8544861  9.14710077 5.44999891 0.95899704]\n",
      "amax =  4.6646930254647\n",
      "amin =  -4.492464675142339\n",
      "argmax =  9\n",
      "argmin =  3\n",
      "mean    =  0.3838966573764601\n",
      "average =  0.32943235260670906\n",
      "median  =  0.007037772682603971\n",
      "std =  2.9937447141074416\n",
      "var =  8.962507413246247\n"
     ]
    }
   ],
   "source": [
    "############################################\n",
    "Xs = np.random.normal( scale=3.0,size=10 )\n",
    "print( Xs )\n",
    "Ws = np.random.gamma( 5.0, size=10 )\n",
    "print( Ws )\n",
    "# 最大値、最小値\n",
    "print( 'amax = ', np.amax(Xs) )\n",
    "print( 'amin = ', np.amin(Xs) )\n",
    "# 最大値、最小値のインデックス\n",
    "print( 'argmax = ', np.argmax(Xs) )\n",
    "print( 'argmin = ', np.argmin(Xs) )\n",
    "# 平均値、中央値\n",
    "print( 'mean    = ', np.mean(Xs) )\n",
    "print( 'average = ', np.average(Xs,\n",
    "                     weights=Ws) )\n",
    "print( 'median  = ', np.median(Xs) )\n",
    "# 標準偏差、分散\n",
    "print( 'std = ', np.std(Xs, ddof=1) )\n",
    "print( 'var = ', np.var(Xs, ddof=1) )"
   ]
  },
  {
   "cell_type": "markdown",
   "metadata": {
    "id": "uCqmbEGHClV4"
   },
   "source": [
    "共分散\n",
    "\n",
    "$$\n",
    "s_{xy} = \\frac{1}{n - 1} \\displaystyle \\sum_{i = 1}^n\n",
    "{(x_i - \\overline{x})(y_{i} - \\overline{y})},\\;\\;\\;({\\rm{}bias=False: default})\n",
    "$$\n",
    "\n",
    "$$s_{xy} = \\frac{1}{n} \\displaystyle \\sum_{i = 1}^n\n",
    "{(x_i - \\overline{x})(y_{i} - \\overline{y})},\\;\\;\\;({\\rm{}bias=True})$$\n",
    "\n",
    "$$\\Sigma\n",
    "=\n",
    "\\left(\n",
    "\\begin{array}{ccc}\n",
    "  s_{11} & \\cdots & s_{1n} \\\\\n",
    "  \\vdots & \\ddots & \\vdots \\\\\n",
    "  s_{n1} & \\cdots & s_{nn}\n",
    "\\end{array}\n",
    "\\right)\n",
    "$$\n",
    "\n",
    "* テストの相関関係\n",
    "  $$\n",
    "  \\begin{array}{c|cccc}\n",
    "    & 学生A & 学生B & 学生C & 学生D \\\\\n",
    "    \\hline\n",
    "    数学 & 78 & 57 & 37 & 42 \\\\\n",
    "    国語 & 46 & 73 & 51 & 80 \\\\\n",
    "    物理 & 63 & 44 & 48 & 23\n",
    "  \\end{array}\n",
    "  $$\n",
    "  $$\n",
    "  \\begin{array}{c|ccc}\n",
    "    & 数学 & 国語 & 物理 \\\\\n",
    "    \\hline\n",
    "    数学 & 254.25 &  -94.75 &  160.25 \\\\\n",
    "    国語 & -94.75 &  205.25 & -181.75 \\\\\n",
    "    物理 & 160.25 & -181.75 &  204.25\n",
    "  \\end{array}\n",
    "  $$"
   ]
  },
  {
   "cell_type": "code",
   "execution_count": 6,
   "metadata": {
    "colab": {
     "base_uri": "https://localhost:8080/"
    },
    "executionInfo": {
     "elapsed": 7,
     "status": "ok",
     "timestamp": 1726206348020,
     "user": {
      "displayName": "赤井一郎",
      "userId": "14970386652069821665"
     },
     "user_tz": -540
    },
    "id": "9ioLjowXCpkP",
    "outputId": "23fa0bbf-6565-40e7-d4c9-5312359e07fe"
   },
   "outputs": [
    {
     "name": "stdout",
     "output_type": "stream",
     "text": [
      "[[ 254.25  -94.75  160.25]\n",
      " [ -94.75  205.25 -181.75]\n",
      " [ 160.25 -181.75  204.25]]\n"
     ]
    }
   ],
   "source": [
    "############################################\n",
    "math = np.array([78,57,37,42])\n",
    "jpn  = np.array([46,73,51,80])\n",
    "phys = np.array([63,44,48,23])\n",
    "# テストの点\n",
    "test = np.array( [math, jpn, phys] )\n",
    "# 共分散\n",
    "print( np.cov( test, bias=True ))"
   ]
  }
 ],
 "metadata": {
  "colab": {
   "authorship_tag": "ABX9TyOmugIsrWxyhVhHMpgw864P",
   "provenance": []
  },
  "kernelspec": {
   "display_name": "Python 3",
   "name": "python3"
  },
  "language_info": {
   "codemirror_mode": {
    "name": "ipython",
    "version": 3
   },
   "file_extension": ".py",
   "mimetype": "text/x-python",
   "name": "python",
   "nbconvert_exporter": "python",
   "pygments_lexer": "ipython3",
   "version": "3.12.4"
  }
 },
 "nbformat": 4,
 "nbformat_minor": 0
}
