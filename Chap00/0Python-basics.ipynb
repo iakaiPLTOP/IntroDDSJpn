{
 "cells": [
  {
   "cell_type": "markdown",
   "metadata": {
    "id": "eo0uMXG2LMR3"
   },
   "source": [
    "ベースディレクトリと、出力ディレクトリを設定します。"
   ]
  },
  {
   "cell_type": "code",
   "execution_count": 1,
   "metadata": {
    "executionInfo": {
     "elapsed": 333,
     "status": "ok",
     "timestamp": 1726207388062,
     "user": {
      "displayName": "赤井一郎",
      "userId": "14970386652069821665"
     },
     "user_tz": -540
    },
    "id": "dW8sr9RqKbgE"
   },
   "outputs": [],
   "source": [
    "############################################\n",
    "BaseDir   = 'IntroDDSJpn/Chap00/'\n",
    "OutputDir = '0Python-basics/'"
   ]
  },
  {
   "cell_type": "markdown",
   "metadata": {
    "id": "chBAUUE4LYtF"
   },
   "source": [
    "Google Colabかどうかを判別し、このJupyter Notebookのあるディレクトリを特定します。"
   ]
  },
  {
   "cell_type": "code",
   "execution_count": null,
   "metadata": {
    "colab": {
     "base_uri": "https://localhost:8080/"
    },
    "executionInfo": {
     "elapsed": 17812,
     "status": "ok",
     "timestamp": 1726207406215,
     "user": {
      "displayName": "赤井一郎",
      "userId": "14970386652069821665"
     },
     "user_tz": -540
    },
    "id": "pXTpCCcCLcA9",
    "outputId": "172e247f-1e7f-4f34-d2d8-a493814319df"
   },
   "outputs": [
    {
     "name": "stdout",
     "output_type": "stream",
     "text": [
      "ipynb file path = d:\\home\\iakai\\CY\\Docs\\Kuma3Curriculum\\2025森北出版\\GitHubIntroDDSJpn\\IntroDDSJpn\\Chap00\n"
     ]
    }
   ],
   "source": [
    "############################################\n",
    "import sys\n",
    "import os\n",
    "############################################\n",
    "def IsGoogleColab():\n",
    "  if 'google.colab' in sys.modules:\n",
    "    return True\n",
    "  else:\n",
    "    return False\n",
    "############################################\n",
    "if IsGoogleColab():\n",
    "  #\n",
    "  from google.colab import drive\n",
    "  drive.mount('/content/drive')\n",
    "  #\n",
    "  IpynbDir = 'drive/My Drive/Colab Notebooks/' + BaseDir\n",
    "else:\n",
    "  #\n",
    "  IpynbDir =  os.getcwd() + '/'\n",
    "############################################\n",
    "print( 'ipynb file path = %s' % IpynbDir )"
   ]
  },
  {
   "cell_type": "markdown",
   "metadata": {
    "id": "2yj82uo0L6Ge"
   },
   "source": [
    "変数や関数の定義"
   ]
  },
  {
   "cell_type": "code",
   "execution_count": 3,
   "metadata": {
    "id": "batCZkyxLe1e"
   },
   "outputs": [
    {
     "name": "stdout",
     "output_type": "stream",
     "text": [
      "Hello  Ichiro AKAI !!\n"
     ]
    }
   ],
   "source": [
    "############################################\n",
    "## 変数の定義\n",
    "your_name = 'Jupyter'\n",
    "#\n",
    "## 関数の定義\n",
    "def hello( name ):\n",
    "  print( 'Hello ', name, '!!' )\n",
    "#\n",
    "############################################\n",
    "## ユーザーからの入力\n",
    "my_name = input( 'Your name ? ' )\n",
    "#\n",
    "hello( my_name )"
   ]
  },
  {
   "cell_type": "markdown",
   "metadata": {
    "id": "YDUUqDpQNiOR"
   },
   "source": [
    "演算"
   ]
  },
  {
   "cell_type": "code",
   "execution_count": 4,
   "metadata": {
    "id": "LgpIBAJLNklG"
   },
   "outputs": [
    {
     "name": "stdout",
     "output_type": "stream",
     "text": [
      "3+2= 5 , 3*2= 6\n",
      "3-2= 1 , 3/2= 1.5\n",
      "3//2= 1 , 3%2= 1\n",
      "3**2= 9\n",
      "3 < 2 False , 3==3 True\n",
      "(3>2)and(4>3) True\n"
     ]
    }
   ],
   "source": [
    "############################################\n",
    "# 四則演算\n",
    "print( '3+2=', 3+2, ', 3*2=', 3*2 )\n",
    "print( '3-2=', 3-2, ', 3/2=', 3/2 )\n",
    "#\n",
    "# 整数除算, 剰余算\n",
    "print( '3//2=', 3//2, ', 3%2=', 3%2 )\n",
    "#\n",
    "# べき乗\n",
    "print( '3**2=', 3**2 )\n",
    "#\n",
    "# 比較演算子\n",
    "print( '3 < 2', 3<2, ', 3==3', 3==3 )\n",
    "#\n",
    "# 論理演算\n",
    "print( '(3>2)and(4>3)', (3>2)and(4>3) )"
   ]
  },
  {
   "cell_type": "markdown",
   "metadata": {
    "id": "v-aXxXZXQS2o"
   },
   "source": [
    "基本的なデータ型"
   ]
  },
  {
   "cell_type": "code",
   "execution_count": 5,
   "metadata": {
    "id": "aLP8jMGOQNd8"
   },
   "outputs": [
    {
     "name": "stdout",
     "output_type": "stream",
     "text": [
      "<class 'bool'>\n",
      "<class 'int'>\n",
      "<class 'float'>\n",
      "<class 'str'>\n",
      "<class 'tuple'>\n",
      "<class 'range'>\n",
      "<class 'list'>\n",
      "<class 'dict'>\n"
     ]
    }
   ],
   "source": [
    "############################################\n",
    "# bool型\n",
    "print( type(True) )\n",
    "# int型\n",
    "print( type(1234) )\n",
    "# float型\n",
    "print( type(1.602E-12) )\n",
    "# 文字列\n",
    "print( type('string') )\n",
    "# Tuple型\n",
    "print( type( (1,2,3) ) )\n",
    "# Range型\n",
    "print( type( range(0,12) ) )\n",
    "# list型\n",
    "print( type( [1, 'I', 3] ) )\n",
    "# dict型\n",
    "print( type( {'Jan':1, 'Feb':2}) )"
   ]
  },
  {
   "cell_type": "markdown",
   "metadata": {
    "id": "31CvBdXEX3RG"
   },
   "source": [
    "制御文 例外処理 / while, break, if, else"
   ]
  },
  {
   "cell_type": "code",
   "execution_count": 6,
   "metadata": {
    "id": "KV2s-GJOYBuV"
   },
   "outputs": [
    {
     "name": "stdout",
     "output_type": "stream",
     "text": [
      "X= 1  X**2= 1\n",
      "X= 2  X**2= 4\n",
      "X= 3  X**2= 9\n",
      "5\n"
     ]
    }
   ],
   "source": [
    "############################################\n",
    "Xs = [1,2,3]\n",
    "# for\n",
    "for X in Xs:\n",
    "  print( 'X=', X, ' X**2=', X**2 )\n",
    "############################################\n",
    "# 整数? の診断 / 例外処理\n",
    "def is_integer( str ):\n",
    "  try:\n",
    "    rtn = int( str )\n",
    "  except ValueError:\n",
    "    return False, 0\n",
    "  else:\n",
    "    return True, rtn\n",
    "############################################\n",
    "# 整数の入力関数 / while, break, if, else\n",
    "def InputInteger():\n",
    "  while True:\n",
    "    is_int, rtn = is_integer( input( 'Integer ? ' ) )\n",
    "    if is_int:\n",
    "      return rtn\n",
    "      break\n",
    "    else:\n",
    "      print( 'Not integer!' )\n",
    "  #\n",
    "#\n",
    "############################################\n",
    "print( InputInteger() )"
   ]
  }
 ],
 "metadata": {
  "colab": {
   "authorship_tag": "ABX9TyNHSg6agrkgWvwhFIXjI8iJ",
   "provenance": []
  },
  "kernelspec": {
   "display_name": "Python 3",
   "name": "python3"
  },
  "language_info": {
   "codemirror_mode": {
    "name": "ipython",
    "version": 3
   },
   "file_extension": ".py",
   "mimetype": "text/x-python",
   "name": "python",
   "nbconvert_exporter": "python",
   "pygments_lexer": "ipython3",
   "version": "3.12.4"
  }
 },
 "nbformat": 4,
 "nbformat_minor": 0
}
