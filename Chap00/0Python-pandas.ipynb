{
 "cells": [
  {
   "cell_type": "markdown",
   "metadata": {
    "id": "eo0uMXG2LMR3"
   },
   "source": [
    "ベースディレクトリと、出力ディレクトリを設定します。"
   ]
  },
  {
   "cell_type": "code",
   "execution_count": 1,
   "metadata": {
    "executionInfo": {
     "elapsed": 465,
     "status": "ok",
     "timestamp": 1726206745473,
     "user": {
      "displayName": "赤井一郎",
      "userId": "14970386652069821665"
     },
     "user_tz": -540
    },
    "id": "dW8sr9RqKbgE"
   },
   "outputs": [],
   "source": [
    "############################################\n",
    "BaseDir   = 'IntroDDSJpn/Chap00/'\n",
    "OutputDir = '0Python-pandas/'"
   ]
  },
  {
   "cell_type": "markdown",
   "metadata": {
    "id": "chBAUUE4LYtF"
   },
   "source": [
    "Google Colabかどうかを判別し、このJupyter Notebookのあるディレクトリを特定します。"
   ]
  },
  {
   "cell_type": "code",
   "execution_count": 2,
   "metadata": {
    "colab": {
     "base_uri": "https://localhost:8080/"
    },
    "executionInfo": {
     "elapsed": 18344,
     "status": "ok",
     "timestamp": 1726206763808,
     "user": {
      "displayName": "赤井一郎",
      "userId": "14970386652069821665"
     },
     "user_tz": -540
    },
    "id": "pXTpCCcCLcA9",
    "outputId": "c481f1db-5ee4-49f1-dfbc-c79bcdabd69f"
   },
   "outputs": [
    {
     "name": "stdout",
     "output_type": "stream",
     "text": [
      "ipynb file path = d:\\home\\iakai\\CY\\Docs\\Kuma3Curriculum\\2025森北出版\\GitHubIntroDDSJpn\\IntroDDSJpn\\Chap00/\n"
     ]
    }
   ],
   "source": [
    "############################################\n",
    "import sys\n",
    "import os\n",
    "############################################\n",
    "def IsGoogleColab():\n",
    "  if 'google.colab' in sys.modules:\n",
    "    return True\n",
    "  else:\n",
    "    return False\n",
    "############################################\n",
    "if IsGoogleColab():\n",
    "  #\n",
    "  from google.colab import drive\n",
    "  drive.mount('/content/drive')\n",
    "  #\n",
    "  IpynbDir = 'drive/My Drive/Colab Notebooks/' + BaseDir\n",
    "else:\n",
    "  #\n",
    "  IpynbDir =  os.getcwd() + '/'\n",
    "############################################\n",
    "print( 'ipynb file path = %s' % IpynbDir )"
   ]
  },
  {
   "cell_type": "markdown",
   "metadata": {
    "id": "0FPQ4WbCgVAe"
   },
   "source": [
    "NumPy: Pythonで数値計算や配列を効率的に行うためのパッケージ\n",
    "* https://numpy.org/\n",
    "* NumPy Reference: https://numpy.org/doc/stable/reference/index.html"
   ]
  },
  {
   "cell_type": "code",
   "execution_count": 3,
   "metadata": {
    "colab": {
     "base_uri": "https://localhost:8080/"
    },
    "executionInfo": {
     "elapsed": 6,
     "status": "ok",
     "timestamp": 1726206763808,
     "user": {
      "displayName": "赤井一郎",
      "userId": "14970386652069821665"
     },
     "user_tz": -540
    },
    "id": "tcxwujELhDKm",
    "outputId": "19b24a4a-74f4-4ff0-a7ab-c8e33fe97509"
   },
   "outputs": [
    {
     "name": "stdout",
     "output_type": "stream",
     "text": [
      "numpy      Ver. 1.26.4\n"
     ]
    }
   ],
   "source": [
    "############################################\n",
    "import numpy as np\n",
    "print('numpy      Ver.', np.__version__)\n",
    "############################################"
   ]
  },
  {
   "cell_type": "markdown",
   "metadata": {
    "id": "zW_TMsQEMHOb"
   },
   "source": [
    "pandas: Pythonでデータ解析を支援するパッケージ\n",
    "* https://pandas.pydata.org/\n",
    "* pnadas User Guide: https://pandas.pydata.org/docs/user_guide/index.html\n",
    "* Excelファイルからデータをデータフレームに読み込む。"
   ]
  },
  {
   "cell_type": "code",
   "execution_count": 4,
   "metadata": {
    "colab": {
     "base_uri": "https://localhost:8080/"
    },
    "executionInfo": {
     "elapsed": 1637,
     "status": "ok",
     "timestamp": 1726206765441,
     "user": {
      "displayName": "赤井一郎",
      "userId": "14970386652069821665"
     },
     "user_tz": -540
    },
    "id": "HxG1-Wm0MttM",
    "outputId": "afb53a18-cc50-4380-9382-a04f900e5ddc"
   },
   "outputs": [
    {
     "name": "stdout",
     "output_type": "stream",
     "text": [
      "pandas     Ver. 2.2.3\n"
     ]
    }
   ],
   "source": [
    "############################################\n",
    "import pandas as pd\n",
    "print('pandas     Ver.', pd.__version__)\n",
    "############################################\n",
    "# Excelファイルからデータを\n",
    "# データフレームに読み込む。\n",
    "#\n",
    "df_Rdata = pd.read_excel( IpynbDir +\n",
    "                    'LSQMdata05.xlsx' )"
   ]
  },
  {
   "cell_type": "markdown",
   "metadata": {
    "id": "kqrZN0-_Rxni"
   },
   "source": [
    "* データフレームの列をNumPyのarrayに変換"
   ]
  },
  {
   "cell_type": "code",
   "execution_count": 5,
   "metadata": {
    "colab": {
     "base_uri": "https://localhost:8080/"
    },
    "executionInfo": {
     "elapsed": 21,
     "status": "ok",
     "timestamp": 1726206765442,
     "user": {
      "displayName": "赤井一郎",
      "userId": "14970386652069821665"
     },
     "user_tz": -540
    },
    "id": "QRqWtOu8OU8M",
    "outputId": "78d332b8-63c8-41c8-f232-a58c24514a4f"
   },
   "outputs": [
    {
     "name": "stdout",
     "output_type": "stream",
     "text": [
      "[0.0419 0.0628 0.0898 0.1014 0.1429 0.1445 0.1698 0.1841]\n",
      "[0.0084 0.0094 0.0105 0.0046 0.007  0.0079 0.0112 0.0049]\n",
      "[0.074 0.105 0.089 0.14  0.16  0.182 0.214 0.234]\n",
      "[0.067 0.025 0.031 0.047 0.011 0.01  0.011 0.01 ]\n"
     ]
    }
   ],
   "source": [
    "############################################\n",
    "# データフレームの列をNumPyのarrayに変換\n",
    "x_i      = np.array( df_Rdata['x_length'    ] )\n",
    "sigma_xi = np.array( df_Rdata['x_sigma'     ] )\n",
    "print( x_i )\n",
    "print( sigma_xi )\n",
    "#\n",
    "y_i      = np.array( df_Rdata['y_resistance'] )\n",
    "sigma_yi = np.array( df_Rdata['y_sigma'     ] )\n",
    "print( y_i )\n",
    "print( sigma_yi )"
   ]
  },
  {
   "cell_type": "markdown",
   "metadata": {
    "id": "IWBB4rhLRvEM"
   },
   "source": [
    "* NumPyのarrayからデータフレームを作成"
   ]
  },
  {
   "cell_type": "code",
   "execution_count": 6,
   "metadata": {
    "colab": {
     "base_uri": "https://localhost:8080/",
     "height": 300
    },
    "executionInfo": {
     "elapsed": 18,
     "status": "ok",
     "timestamp": 1726206765442,
     "user": {
      "displayName": "赤井一郎",
      "userId": "14970386652069821665"
     },
     "user_tz": -540
    },
    "id": "DHRH_azPQxJE",
    "outputId": "f3734293-5223-4bf3-e597-b1e8a5f4abf1"
   },
   "outputs": [
    {
     "data": {
      "text/html": [
       "<div>\n",
       "<style scoped>\n",
       "    .dataframe tbody tr th:only-of-type {\n",
       "        vertical-align: middle;\n",
       "    }\n",
       "\n",
       "    .dataframe tbody tr th {\n",
       "        vertical-align: top;\n",
       "    }\n",
       "\n",
       "    .dataframe thead th {\n",
       "        text-align: right;\n",
       "    }\n",
       "</style>\n",
       "<table border=\"1\" class=\"dataframe\">\n",
       "  <thead>\n",
       "    <tr style=\"text-align: right;\">\n",
       "      <th></th>\n",
       "      <th>x_i</th>\n",
       "      <th>sigma_xi</th>\n",
       "      <th>y_i</th>\n",
       "      <th>sigma_yi</th>\n",
       "    </tr>\n",
       "  </thead>\n",
       "  <tbody>\n",
       "    <tr>\n",
       "      <th>0</th>\n",
       "      <td>0.0419</td>\n",
       "      <td>0.0084</td>\n",
       "      <td>0.074</td>\n",
       "      <td>0.067</td>\n",
       "    </tr>\n",
       "    <tr>\n",
       "      <th>1</th>\n",
       "      <td>0.0628</td>\n",
       "      <td>0.0094</td>\n",
       "      <td>0.105</td>\n",
       "      <td>0.025</td>\n",
       "    </tr>\n",
       "    <tr>\n",
       "      <th>2</th>\n",
       "      <td>0.0898</td>\n",
       "      <td>0.0105</td>\n",
       "      <td>0.089</td>\n",
       "      <td>0.031</td>\n",
       "    </tr>\n",
       "    <tr>\n",
       "      <th>3</th>\n",
       "      <td>0.1014</td>\n",
       "      <td>0.0046</td>\n",
       "      <td>0.140</td>\n",
       "      <td>0.047</td>\n",
       "    </tr>\n",
       "    <tr>\n",
       "      <th>4</th>\n",
       "      <td>0.1429</td>\n",
       "      <td>0.0070</td>\n",
       "      <td>0.160</td>\n",
       "      <td>0.011</td>\n",
       "    </tr>\n",
       "    <tr>\n",
       "      <th>5</th>\n",
       "      <td>0.1445</td>\n",
       "      <td>0.0079</td>\n",
       "      <td>0.182</td>\n",
       "      <td>0.010</td>\n",
       "    </tr>\n",
       "    <tr>\n",
       "      <th>6</th>\n",
       "      <td>0.1698</td>\n",
       "      <td>0.0112</td>\n",
       "      <td>0.214</td>\n",
       "      <td>0.011</td>\n",
       "    </tr>\n",
       "    <tr>\n",
       "      <th>7</th>\n",
       "      <td>0.1841</td>\n",
       "      <td>0.0049</td>\n",
       "      <td>0.234</td>\n",
       "      <td>0.010</td>\n",
       "    </tr>\n",
       "  </tbody>\n",
       "</table>\n",
       "</div>"
      ],
      "text/plain": [
       "      x_i  sigma_xi    y_i  sigma_yi\n",
       "0  0.0419    0.0084  0.074     0.067\n",
       "1  0.0628    0.0094  0.105     0.025\n",
       "2  0.0898    0.0105  0.089     0.031\n",
       "3  0.1014    0.0046  0.140     0.047\n",
       "4  0.1429    0.0070  0.160     0.011\n",
       "5  0.1445    0.0079  0.182     0.010\n",
       "6  0.1698    0.0112  0.214     0.011\n",
       "7  0.1841    0.0049  0.234     0.010"
      ]
     },
     "execution_count": 6,
     "metadata": {},
     "output_type": "execute_result"
    }
   ],
   "source": [
    "############################################\n",
    "# NumPyのarrayからデータフレームを作成\n",
    "df_New = pd.DataFrame( { 'x_i':       x_i,\n",
    "                         'sigma_xi':  sigma_xi,\n",
    "                         'y_i':       y_i,\n",
    "                         'sigma_yi':  sigma_yi } )\n",
    "df_New"
   ]
  },
  {
   "cell_type": "markdown",
   "metadata": {
    "id": "qeMfWjmdSNCy"
   },
   "source": [
    "出力先のフォルダ(ディレクトリ)を準備"
   ]
  },
  {
   "cell_type": "code",
   "execution_count": 7,
   "metadata": {
    "colab": {
     "base_uri": "https://localhost:8080/"
    },
    "executionInfo": {
     "elapsed": 15,
     "status": "ok",
     "timestamp": 1726206765442,
     "user": {
      "displayName": "赤井一郎",
      "userId": "14970386652069821665"
     },
     "user_tz": -540
    },
    "id": "Vvo9lSqDSCzL",
    "outputId": "715f91dc-9000-4bae-a513-8e5e2334bd98"
   },
   "outputs": [
    {
     "name": "stdout",
     "output_type": "stream",
     "text": [
      "FilePath = d:\\home\\iakai\\CY\\Docs\\Kuma3Curriculum\\2025森北出版\\GitHubIntroDDSJpn\\IntroDDSJpn\\Chap00/0Python-pandas/\n",
      "  making d:\\home\\iakai\\CY\\Docs\\Kuma3Curriculum\\2025森北出版\\GitHubIntroDDSJpn\\IntroDDSJpn\\Chap00/0Python-pandas/\n"
     ]
    }
   ],
   "source": [
    "############################################\n",
    "# 出力先のフォルダ(ディレクトリ)を準備\n",
    "FilePath = IpynbDir + OutputDir\n",
    "print( 'FilePath = %s' % FilePath )\n",
    "#\n",
    "if( True != os.path.isdir(FilePath) ):\n",
    "    print('  making %s' % FilePath )\n",
    "    os.mkdir(FilePath)\n",
    "else:\n",
    "    print(' %s is exist.' % FilePath )"
   ]
  },
  {
   "cell_type": "markdown",
   "metadata": {
    "id": "EtbJgVijSjsz"
   },
   "source": [
    "* NumPyのarrayからデータフレームを作成"
   ]
  },
  {
   "cell_type": "code",
   "execution_count": 8,
   "metadata": {
    "colab": {
     "base_uri": "https://localhost:8080/"
    },
    "executionInfo": {
     "elapsed": 323,
     "status": "ok",
     "timestamp": 1726206765755,
     "user": {
      "displayName": "赤井一郎",
      "userId": "14970386652069821665"
     },
     "user_tz": -540
    },
    "id": "QT2YgKSiSlWE",
    "outputId": "107c6b32-6ac9-479b-8366-280e88799dca"
   },
   "outputs": [
    {
     "name": "stdout",
     "output_type": "stream",
     "text": [
      "      x_i  sigma_xi    y_i  sigma_yi\n",
      "0  0.0419    0.0084  0.074     0.067\n",
      "1  0.0628    0.0094  0.105     0.025\n",
      "2  0.0898    0.0105  0.089     0.031\n",
      "3  0.1014    0.0046  0.140     0.047\n",
      "4  0.1429    0.0070  0.160     0.011\n",
      "5  0.1445    0.0079  0.182     0.010\n",
      "6  0.1698    0.0112  0.214     0.011\n",
      "7  0.1841    0.0049  0.234     0.010\n"
     ]
    }
   ],
   "source": [
    "############################################\n",
    "# NumPyのarrayからデータフレームを作成\n",
    "df_New = pd.DataFrame( { 'x_i':       x_i,\n",
    "                         'sigma_xi':  sigma_xi,\n",
    "                         'y_i':       y_i,\n",
    "                         'sigma_yi':  sigma_yi } )\n",
    "print( df_New )\n",
    "############################################\n",
    "# データフレームをxlsxに出力\n",
    "df_New.to_excel( FilePath + 'Python-pandas-01.xlsx', sheet_name='new_sheet')"
   ]
  }
 ],
 "metadata": {
  "colab": {
   "authorship_tag": "ABX9TyNx38pbpB/rugvZwbhtofxm",
   "provenance": []
  },
  "kernelspec": {
   "display_name": "Python 3",
   "name": "python3"
  },
  "language_info": {
   "codemirror_mode": {
    "name": "ipython",
    "version": 3
   },
   "file_extension": ".py",
   "mimetype": "text/x-python",
   "name": "python",
   "nbconvert_exporter": "python",
   "pygments_lexer": "ipython3",
   "version": "3.12.4"
  }
 },
 "nbformat": 4,
 "nbformat_minor": 0
}
