{
 "cells": [
  {
   "cell_type": "markdown",
   "metadata": {
    "id": "KLnG5ctQBlWS"
   },
   "source": [
    "*   ベースディレクトリと、出力ディレクトリを設定します。"
   ]
  },
  {
   "cell_type": "code",
   "execution_count": 1,
   "metadata": {
    "executionInfo": {
     "elapsed": 11,
     "status": "ok",
     "timestamp": 1723464637957,
     "user": {
      "displayName": "赤井一郎",
      "userId": "14970386652069821665"
     },
     "user_tz": -540
    },
    "id": "V81OPmEvBhfD"
   },
   "outputs": [],
   "source": [
    "############################################\n",
    "BaseDir      = 'IntroDDSJpn/Chap01/'\n",
    "OutputDir    = '1Error-0112numpy-average/'\n",
    "FileBaseName = '1Error-0112numpy-average'"
   ]
  },
  {
   "cell_type": "markdown",
   "metadata": {
    "id": "FJJ7wvTjBuIr"
   },
   "source": [
    "*   Google Colabかどうかを判別し、このJupyter Notebookのあるディレクトリを特定します。"
   ]
  },
  {
   "cell_type": "code",
   "execution_count": 2,
   "metadata": {
    "colab": {
     "base_uri": "https://localhost:8080/"
    },
    "executionInfo": {
     "elapsed": 18521,
     "status": "ok",
     "timestamp": 1723464656469,
     "user": {
      "displayName": "赤井一郎",
      "userId": "14970386652069821665"
     },
     "user_tz": -540
    },
    "id": "itZSg4MwBv60",
    "outputId": "ab1732af-2ef2-486f-8aac-74f70633efc1"
   },
   "outputs": [
    {
     "name": "stdout",
     "output_type": "stream",
     "text": [
      "ipynb file path = d:\\home\\iakai\\CY\\Docs\\Kuma3Curriculum\\2025森北出版\\GitHubIntroDDSJpn\\IntroDDSJpn\\Chap01/\n"
     ]
    }
   ],
   "source": [
    "############################################\n",
    "import sys\n",
    "import os\n",
    "############################################\n",
    "def IsGoogleColab():\n",
    "  if 'google.colab' in sys.modules:\n",
    "    return True\n",
    "  else:\n",
    "    return False\n",
    "############################################\n",
    "if IsGoogleColab():\n",
    "  #\n",
    "  from google.colab import drive\n",
    "  drive.mount('/content/drive')\n",
    "  #\n",
    "  IpynbDir = 'drive/My Drive/Colab Notebooks/' + BaseDir\n",
    "else:\n",
    "  #\n",
    "  IpynbDir =  os.getcwd() + '/'\n",
    "############################################\n",
    "print( 'ipynb file path = %s' % IpynbDir )"
   ]
  },
  {
   "cell_type": "markdown",
   "metadata": {
    "id": "EpkRB629FOkO"
   },
   "source": [
    "*   必要なパッケージを読み込み、ファイルの出力先のディレクトリを用意します。"
   ]
  },
  {
   "cell_type": "code",
   "execution_count": 3,
   "metadata": {
    "colab": {
     "base_uri": "https://localhost:8080/"
    },
    "executionInfo": {
     "elapsed": 650,
     "status": "ok",
     "timestamp": 1723464657107,
     "user": {
      "displayName": "赤井一郎",
      "userId": "14970386652069821665"
     },
     "user_tz": -540
    },
    "id": "bAPd2Csfee74",
    "outputId": "53a01caf-c4cb-4c05-8327-790ac8d9f7a5"
   },
   "outputs": [
    {
     "name": "stdout",
     "output_type": "stream",
     "text": [
      "matplotlib Ver. 3.9.2\n",
      "numpy      Ver. 1.26.4\n",
      "FilePath = d:\\home\\iakai\\CY\\Docs\\Kuma3Curriculum\\2025森北出版\\GitHubIntroDDSJpn\\IntroDDSJpn\\Chap01/1Error-0112numpy-average/\n",
      "  making d:\\home\\iakai\\CY\\Docs\\Kuma3Curriculum\\2025森北出版\\GitHubIntroDDSJpn\\IntroDDSJpn\\Chap01/1Error-0112numpy-average/\n"
     ]
    }
   ],
   "source": [
    "############################################\n",
    "import matplotlib as mpl\n",
    "import matplotlib.pyplot as plt\n",
    "%matplotlib inline\n",
    "print('matplotlib Ver.', mpl.__version__)\n",
    "#\n",
    "############################################\n",
    "import numpy as np\n",
    "print('numpy      Ver.', np.__version__)\n",
    "#\n",
    "############################################\n",
    "FilePath = IpynbDir + OutputDir\n",
    "print( 'FilePath = %s' % FilePath )\n",
    "#\n",
    "if( True != os.path.isdir(FilePath) ):\n",
    "    print('  making %s' % FilePath )\n",
    "    os.mkdir(FilePath)\n",
    "else:\n",
    "    print(' %s is exist.' % FilePath )"
   ]
  },
  {
   "cell_type": "markdown",
   "metadata": {
    "id": "lvuiBtDXUkSV"
   },
   "source": [
    "最確値を書式化して文字列として返す関数\n",
    "\n",
    "Format_MostProbableValue( v_mean, v_std, s_unit, std_2digits=True, latex=False )\n",
    "*   返値: 書式化された文字列を返す。\n",
    "*   v_mean: 平均値\n",
    "*   v_std:  標準偏差\n",
    "*   s_unit: 値の単位(文字列)\n",
    "*   std_2digit=True: 標準偏差を2桁表示。Falseにすると1桁表示\n",
    "*   latex=False: テキスト文字列として出力。Trueでは、図などでlatex表示できる文字列で出力。"
   ]
  },
  {
   "cell_type": "code",
   "execution_count": 4,
   "metadata": {
    "executionInfo": {
     "elapsed": 14,
     "status": "ok",
     "timestamp": 1723464657108,
     "user": {
      "displayName": "赤井一郎",
      "userId": "14970386652069821665"
     },
     "user_tz": -540
    },
    "id": "qLR9rmiNQsKh"
   },
   "outputs": [],
   "source": [
    "def Format_MostProbableValue( v_mean, v_std, s_unit, std_2digits=True, latex=False ):\n",
    "  #\n",
    "  # 平均値の冪数\n",
    "  order_mean = np.floor( np.log10(v_mean) )\n",
    "  # print( 'order_mean=', order_mean )\n",
    "  #\n",
    "  # 標準偏差の冪数\n",
    "  if std_2digits:\n",
    "    # 標準偏差を有効2桁表示\n",
    "    order_std  = np.floor( np.log10(v_std) - 1.0 )\n",
    "  else:\n",
    "    # 標準偏差を有効1桁表示\n",
    "    order_std  = np.floor( np.log10(v_std) - 0.0 )\n",
    "  # print( 'order_std=', order_std )\n",
    "  #\n",
    "  # 平均値の冪数と標準偏差の冪数の符号が同じか?\n",
    "  if order_mean * order_std > 0.0:\n",
    "    # 例1\n",
    "    # v_mean = 4.60572E5\n",
    "    # v_std  = 8.96E3\n",
    "    # 例2\n",
    "    # v_mean = 4.605723E-2\n",
    "    # v_std  = 8.96E-5\n",
    "    multi_order = order_std+1\n",
    "    #\n",
    "    # 共通する冪数\n",
    "    multi = 10.0**multi_order\n",
    "    #\n",
    "    # 共通する冪数で規格化\n",
    "    v_mean = v_mean / multi\n",
    "    v_std  = v_std  / multi\n",
    "    #\n",
    "    # 共通した冪数で指数をくくって、係数は少数第1位\n",
    "    if latex:\n",
    "      out_str = r'(%+.1f $\\pm$ %.1f)$\\times10^{%+d}$ ' % (v_mean, v_std, multi_order) + s_unit\n",
    "    else:\n",
    "      out_str = '(%+.1f +/- %.1f)x10^(%+d) ' % (v_mean, v_std, multi_order) + s_unit\n",
    "    #\n",
    "  else:\n",
    "    # 平均値の冪数と標準偏差の冪数の符号が異なる\n",
    "    # 例2\n",
    "    # v_mean = 4.605723\n",
    "    # v_std  = 0.0896\n",
    "    fmt_std1 = r'$%%+.%df$' % -order_std\n",
    "    fmt_std2 = r'$%%.%df$'  % -order_std\n",
    "    if latex:\n",
    "      fmt_str = fmt_std1 + r' $\\pm$ ' + fmt_std2 + ' ' + s_unit\n",
    "    else:\n",
    "      fmt_str = fmt_std1 + ' +/- ' + fmt_std2 + ' ' + s_unit\n",
    "    #\n",
    "    out_str = fmt_str % (v_mean, v_std)\n",
    "  #\n",
    "  return out_str"
   ]
  },
  {
   "cell_type": "markdown",
   "metadata": {
    "id": "yTsMok2mCDKq"
   },
   "source": [
    "1.1.11 荷重平均(加重平均)\n",
    "\n",
    "  以下の計測データを用いる\n",
    "  *   887.6 ±3.0 sec\n",
    "  *   893.5 ±5.3 sec\n",
    "  *   882.6 ±2.7 sec\n",
    "\n",
    "1.1.11 (1)荷重平均\n",
    "$$\n",
    "      \\overline{x}\n",
    "      =\n",
    "      \\frac{\n",
    "        \\displaystyle\n",
    "        \\;\\;\n",
    "        \\sum^{M}\n",
    "        w_{m}\\,x_{m}\n",
    "        \\;\\;\n",
    "      }{\n",
    "        \\displaystyle\n",
    "        \\sum^{M}\n",
    "        w_{m}\n",
    "      }\n",
    "$$\n",
    "\n",
    "1.1.11 (2)荷重平均の重み\n",
    "$$\n",
    "      w_i\n",
    "      \\propto\n",
    "      \\frac{1}{\\varepsilon_{\\textrm{m}:m}^2}\n",
    "      \\propto\n",
    "      \\frac{1}{\\sigma_{\\textrm{m}:m}^2}\n",
    "$$\n",
    "\n",
    "1.1.11 (3)荷重平均値の標準偏差\n",
    "\n",
    "  荷重平均値の標準偏差$\\sigma_\\textrm{m}$は次式で得られる。\n",
    "$$\n",
    "      \\frac{\n",
    "        1\n",
    "      }{\n",
    "        \\sigma_\\textrm{m}\n",
    "      }\n",
    "      =\n",
    "      \\sqrt{\n",
    "        \\sum^{M}\n",
    "        \\frac{1}{\\sigma_{\\textrm{m}:m}^2}\n",
    "      }\n",
    "$$"
   ]
  },
  {
   "cell_type": "code",
   "execution_count": 5,
   "metadata": {
    "colab": {
     "base_uri": "https://localhost:8080/"
    },
    "executionInfo": {
     "elapsed": 12,
     "status": "ok",
     "timestamp": 1723464657108,
     "user": {
      "displayName": "赤井一郎",
      "userId": "14970386652069821665"
     },
     "user_tz": -540
    },
    "id": "29Jwhz9Ii9U8",
    "outputId": "07aeb120-84d2-4a76-87f0-f53f992bb5ed"
   },
   "outputs": [
    {
     "name": "stdout",
     "output_type": "stream",
     "text": [
      "平均値   = 885.9 sec\n",
      "標準偏差 = 1.9 sec\n",
      "最確値   = $+885.9$ +/- $1.9$ sec\n"
     ]
    }
   ],
   "source": [
    "############################################\n",
    "# 計測データ\n",
    "# 887.6 ±3.0 sec 893.5 ±5.3 sec 882.6 ±2.7 sec\n",
    "Taudata = np.array( [ [887.6, 3.0], [893.5, 5.3], [882.6, 2.7] ] )\n",
    "#\n",
    "Tau_values = Taudata[:,0]\n",
    "Tau_std    = Taudata[:,1]\n",
    "#\n",
    "# 荷重として逆分散を用いる\n",
    "Tau_weight = Tau_std**(-2)\n",
    "#\n",
    "# returned=Trueを指定して、荷重の和も得る。\n",
    "Tau_wmean, Tau_weights = np.average( Tau_values, weights=Tau_weight, returned=True )\n",
    "#\n",
    "# 荷重の和から、荷重平均の標準偏差を求める。\n",
    "Tau_wmean_std = Tau_weights**(-1/2)\n",
    "#\n",
    "print( '平均値   = %.1f sec' % Tau_wmean )\n",
    "print( '標準偏差 = %.1f sec' % Tau_wmean_std )\n",
    "print( '最確値   = %s' % Format_MostProbableValue( Tau_wmean, Tau_wmean_std, 'sec' ) )"
   ]
  },
  {
   "cell_type": "code",
   "execution_count": 6,
   "metadata": {
    "colab": {
     "base_uri": "https://localhost:8080/",
     "height": 0
    },
    "executionInfo": {
     "elapsed": 1154,
     "status": "ok",
     "timestamp": 1723464658255,
     "user": {
      "displayName": "赤井一郎",
      "userId": "14970386652069821665"
     },
     "user_tz": -540
    },
    "id": "RVYUk4Wm7-97",
    "outputId": "b322a978-7376-4f5b-a3b0-47740d3f8215"
   },
   "outputs": [
    {
     "name": "stderr",
     "output_type": "stream",
     "text": [
      "C:\\Users\\iakai\\AppData\\Local\\Temp\\ipykernel_23084\\1475363603.py:28: UserWarning: set_ticklabels() should only be used with a fixed number of ticks, i.e. after set_ticks() or using a FixedLocator.\n",
      "  ax1.set_xticklabels( xx_ticks )\n"
     ]
    },
    {
     "data": {
      "image/png": "[encoded data removed]",
      "text/plain": [
       "<Figure size 800x600 with 1 Axes>"
      ]
     },
     "metadata": {},
     "output_type": "display_data"
    }
   ],
   "source": [
    "########################################\n",
    "label_Tau_wmean = Format_MostProbableValue( Tau_wmean, Tau_wmean_std, 'sec', latex=True )\n",
    "########################################\n",
    "xx       = [1,2,3]\n",
    "xx_ticks = ['', 'data1', 'data2', 'data3', 'w-mean']\n",
    "########################################\n",
    "plt.rcParams['font.size'] = 24\n",
    "#\n",
    "fig = plt.figure( figsize=(8,6) )\n",
    "#\n",
    "# グラフのmarginの調整\n",
    "fig.subplots_adjust(left=0.15, right=0.95, top=0.95, bottom=0.3)\n",
    "#\n",
    "# 1つ目のグラフの軸を生成する\n",
    "ax1 = fig.add_subplot(1,1,1)\n",
    "#\n",
    "ax1.set_ylabel( r'$\\overline{x}\\pm\\sigma_{\\rm{}m}$' )\n",
    "ax1.set_xlim( 0.5, 4.5 )\n",
    "#\n",
    "ax1.errorbar( xx, Tau_values, yerr=Tau_std, capsize=5, fmt='o', markersize=10, ecolor='black', markeredgecolor = \"black\", color='w' )\n",
    "ax1.errorbar( 4, Tau_wmean, yerr=Tau_wmean_std, label=label_Tau_wmean, capsize=5, fmt='o', markersize=10, ecolor='red', markeredgecolor = \"red\", color='w' )\n",
    "#\n",
    "(y_bot,y_top) = ax1.set_ylim()\n",
    "#\n",
    "y_top = y_bot + 1.2*(y_top-y_bot)\n",
    "ax1.set_ylim(y_bot,y_top)\n",
    "#\n",
    "ax1.set_xticklabels( xx_ticks )\n",
    "ax1.axhline( Tau_wmean, color='red', linestyle='solid' )\n",
    "ax1.axhline( Tau_wmean + Tau_wmean_std, color='red', linestyle='dotted' )\n",
    "ax1.axhline( Tau_wmean - Tau_wmean_std, color='red', linestyle='dotted' )\n",
    "#\n",
    "# 横軸の目盛り数値が重ならないように、90度回転させる\n",
    "plt.xticks(rotation=90)\n",
    "#\n",
    "plt.legend()\n",
    "#\n",
    "#\n",
    "# 図をpdfに保存\n",
    "pdf_path = FilePath + FileBaseName + '.pdf'\n",
    "fig.savefig( pdf_path )"
   ]
  }
 ],
 "metadata": {
  "colab": {
   "provenance": []
  },
  "kernelspec": {
   "display_name": "Python 3",
   "language": "python",
   "name": "python3"
  },
  "language_info": {
   "codemirror_mode": {
    "name": "ipython",
    "version": 3
   },
   "file_extension": ".py",
   "mimetype": "text/x-python",
   "name": "python",
   "nbconvert_exporter": "python",
   "pygments_lexer": "ipython3",
   "version": "3.12.4"
  }
 },
 "nbformat": 4,
 "nbformat_minor": 0
}
