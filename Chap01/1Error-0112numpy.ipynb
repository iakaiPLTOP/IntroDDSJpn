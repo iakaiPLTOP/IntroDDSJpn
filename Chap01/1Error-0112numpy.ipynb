{
 "cells": [
  {
   "cell_type": "markdown",
   "metadata": {
    "id": "EpkRB629FOkO"
   },
   "source": [
    "numpyを読み込む"
   ]
  },
  {
   "cell_type": "code",
   "execution_count": 1,
   "metadata": {
    "colab": {
     "base_uri": "https://localhost:8080/"
    },
    "executionInfo": {
     "elapsed": 22,
     "status": "ok",
     "timestamp": 1723464075681,
     "user": {
      "displayName": "赤井一郎",
      "userId": "14970386652069821665"
     },
     "user_tz": -540
    },
    "id": "bAPd2Csfee74",
    "outputId": "c7fb6b66-0003-4d69-d7ec-b9ace6f60dcf"
   },
   "outputs": [
    {
     "name": "stdout",
     "output_type": "stream",
     "text": [
      "numpy      Ver. 1.26.4\n"
     ]
    }
   ],
   "source": [
    "############################################\n",
    "import numpy as np\n",
    "print('numpy      Ver.', np.__version__)"
   ]
  },
  {
   "cell_type": "markdown",
   "metadata": {
    "id": "lvuiBtDXUkSV"
   },
   "source": [
    "最確値を書式化して文字列として返す関数\n",
    "\n",
    "Format_MostProbableValue( v_mean, v_std, s_unit, std_2digits=True, latex=False )\n",
    "*   返値: 書式化された文字列を返す。\n",
    "*   v_mean: 平均値\n",
    "*   v_std:  標準偏差\n",
    "*   s_unit: 値の単位(文字列)\n",
    "*   std_2digit=True: 標準偏差を2桁表示。Falseにすると1桁表示\n",
    "*   latex=False: テキスト文字列として出力。Trueでは、図などでlatex表示できる文字列で出力。"
   ]
  },
  {
   "cell_type": "code",
   "execution_count": 2,
   "metadata": {
    "executionInfo": {
     "elapsed": 17,
     "status": "ok",
     "timestamp": 1723464075682,
     "user": {
      "displayName": "赤井一郎",
      "userId": "14970386652069821665"
     },
     "user_tz": -540
    },
    "id": "qLR9rmiNQsKh"
   },
   "outputs": [],
   "source": [
    "def Format_MostProbableValue( v_mean, v_std, s_unit, std_2digits=True, latex=False ):\n",
    "  #\n",
    "  # 平均値の冪数\n",
    "  order_mean = np.floor( np.log10(v_mean) )\n",
    "  # print( 'order_mean=', order_mean )\n",
    "  #\n",
    "  # 標準偏差の冪数\n",
    "  if std_2digits:\n",
    "    # 標準偏差を有効2桁表示\n",
    "    order_std  = np.floor( np.log10(v_std) - 1.0 )\n",
    "  else:\n",
    "    # 標準偏差を有効1桁表示\n",
    "    order_std  = np.floor( np.log10(v_std) - 0.0 )\n",
    "  # print( 'order_std=', order_std )\n",
    "  #\n",
    "  # 平均値の冪数と標準偏差の冪数の符号が同じか?\n",
    "  if order_mean * order_std > 0.0:\n",
    "    # 例1\n",
    "    # v_mean = 4.60572E5\n",
    "    # v_std  = 8.96E3\n",
    "    # 例2\n",
    "    # v_mean = 4.605723E-2\n",
    "    # v_std  = 8.96E-5\n",
    "    multi_order = order_std+1\n",
    "    #\n",
    "    # 共通する冪数\n",
    "    multi = 10.0**multi_order\n",
    "    #\n",
    "    # 共通する冪数で規格化\n",
    "    v_mean = v_mean / multi\n",
    "    v_std  = v_std  / multi\n",
    "    #\n",
    "    # 共通した冪数で指数をくくって、係数は少数第1位\n",
    "    if latex:\n",
    "      out_str = r'(%+.1f $\\pm$ %.1f)$\\times10^{%+d}$ ' % (v_mean, v_std, multi_order) + s_unit\n",
    "    else:\n",
    "      out_str = '(%+.1f +/- %.1f)x10^(%+d) ' % (v_mean, v_std, multi_order) + s_unit\n",
    "    #\n",
    "  else:\n",
    "    # 平均値の冪数と標準偏差の冪数の符号が異なる\n",
    "    # 例2\n",
    "    # v_mean = 4.605723\n",
    "    # v_std  = 0.0896\n",
    "    fmt_std1 = r'$%%+.%df$' % -order_std\n",
    "    fmt_std2 = r'$%%.%df$'  % -order_std\n",
    "    if latex:\n",
    "      fmt_str = fmt_std1 + r' $\\pm$ ' + fmt_std2 + ' ' + s_unit\n",
    "    else:\n",
    "      fmt_str = fmt_std1 + ' +/- ' + fmt_std2 + ' ' + s_unit\n",
    "    #\n",
    "    out_str = fmt_str % (v_mean, v_std)\n",
    "  #\n",
    "  return out_str"
   ]
  },
  {
   "cell_type": "code",
   "execution_count": 3,
   "metadata": {
    "colab": {
     "base_uri": "https://localhost:8080/"
    },
    "executionInfo": {
     "elapsed": 16,
     "status": "ok",
     "timestamp": 1723464075682,
     "user": {
      "displayName": "赤井一郎",
      "userId": "14970386652069821665"
     },
     "user_tz": -540
    },
    "id": "gXXm72KnC433",
    "outputId": "d54cf9cd-479f-4673-8bff-888006c6afad"
   },
   "outputs": [
    {
     "name": "stdout",
     "output_type": "stream",
     "text": [
      "測定値の個数     = 9\n",
      "母集団の標準偏差 = 0.0176 Ω\n",
      "平均値           = 4.6236 Ω\n",
      "平均値の標準偏差 = 0.0059 Ω\n",
      "最確値           = $+4.6236$ +/- $0.0059$ Ω\n"
     ]
    }
   ],
   "source": [
    "############################################\n",
    "# 計測データ\n",
    "Rdata = [4.605, 4.628, 4.652, 4.624, 4.603, 4.613, 4.649, 4.613, 4.625]\n",
    "Rdata_N = len( Rdata )\n",
    "#\n",
    "Rdata_mean     = np.mean( Rdata )\n",
    "Rdata_std      = np.std( Rdata, ddof=1 )\n",
    "Rdata_mean_std = Rdata_std / np.sqrt( Rdata_N )\n",
    "#\n",
    "print( '測定値の個数     = %d' % Rdata_N )\n",
    "print( '母集団の標準偏差 = %.4f Ω' % Rdata_std )\n",
    "print( '平均値           = %.4f Ω' % Rdata_mean )\n",
    "print( '平均値の標準偏差 = %.4f Ω' % Rdata_mean_std )\n",
    "print( '最確値           = %s' % Format_MostProbableValue( Rdata_mean, Rdata_mean_std, 'Ω' ) )"
   ]
  },
  {
   "cell_type": "code",
   "execution_count": 4,
   "metadata": {
    "colab": {
     "base_uri": "https://localhost:8080/"
    },
    "executionInfo": {
     "elapsed": 12,
     "status": "ok",
     "timestamp": 1723464075683,
     "user": {
      "displayName": "赤井一郎",
      "userId": "14970386652069821665"
     },
     "user_tz": -540
    },
    "id": "_SYmn6nuGVOM",
    "outputId": "d6599960-cc9e-4741-915a-90c38bcaebb0"
   },
   "outputs": [
    {
     "name": "stdout",
     "output_type": "stream",
     "text": [
      "$+4.61$ $\\pm$ $0.09$ Ω\n",
      "$+4.61$ +/- $0.09$ Ω\n",
      "$+4.606$ $\\pm$ $0.090$ Ω\n",
      "$+4.606$ +/- $0.090$ Ω\n",
      "(+46.1 $\\pm$ 0.9)$\\times10^{+4}$ Ω\n",
      "(+46.1 +/- 0.9)x10^(+4) Ω\n",
      "(+460.6 $\\pm$ 9.0)$\\times10^{+3}$ Ω\n",
      "(+460.6 +/- 9.0)x10^(+3) Ω\n",
      "(+460.6 $\\pm$ 0.9)$\\times10^{-4}$ Ω\n",
      "(+460.6 +/- 0.9)x10^(-4) Ω\n",
      "(+4605.7 $\\pm$ 9.0)$\\times10^{-5}$ Ω\n",
      "(+4605.7 +/- 9.0)x10^(-5) Ω\n"
     ]
    }
   ],
   "source": [
    "############################################\n",
    "# Format_MostProbableValue( v_mean, v_std, s_unit, std_2digits=True, latex=False )\n",
    "# の動作確認コード\n",
    "#\n",
    "s_unit = 'Ω'\n",
    "#\n",
    "v_mean = 4.605723\n",
    "v_std  = 0.0896\n",
    "print( Format_MostProbableValue( v_mean, v_std, s_unit, std_2digits=False, latex=True ) )\n",
    "print( Format_MostProbableValue( v_mean, v_std, s_unit, std_2digits=False, latex=False) )\n",
    "print( Format_MostProbableValue( v_mean, v_std, s_unit, std_2digits=True,  latex=True ) )\n",
    "print( Format_MostProbableValue( v_mean, v_std, s_unit, std_2digits=True,  latex=False) )\n",
    "#\n",
    "v_mean = 4.60572E5\n",
    "v_std  = 8.96E3\n",
    "print( Format_MostProbableValue( v_mean, v_std, s_unit, std_2digits=False, latex=True ) )\n",
    "print( Format_MostProbableValue( v_mean, v_std, s_unit, std_2digits=False, latex=False) )\n",
    "print( Format_MostProbableValue( v_mean, v_std, s_unit, std_2digits=True,  latex=True ) )\n",
    "print( Format_MostProbableValue( v_mean, v_std, s_unit, std_2digits=True,  latex=False) )\n",
    "#\n",
    "v_mean = 4.605723E-2\n",
    "v_std  = 8.96E-5\n",
    "print( Format_MostProbableValue( v_mean, v_std, s_unit, std_2digits=False, latex=True ) )\n",
    "print( Format_MostProbableValue( v_mean, v_std, s_unit, std_2digits=False, latex=False) )\n",
    "print( Format_MostProbableValue( v_mean, v_std, s_unit, std_2digits=True,  latex=True ) )\n",
    "print( Format_MostProbableValue( v_mean, v_std, s_unit, std_2digits=True,  latex=False) )\n",
    "#"
   ]
  }
 ],
 "metadata": {
  "colab": {
   "provenance": []
  },
  "kernelspec": {
   "display_name": "Python 3",
   "language": "python",
   "name": "python3"
  },
  "language_info": {
   "codemirror_mode": {
    "name": "ipython",
    "version": 3
   },
   "file_extension": ".py",
   "mimetype": "text/x-python",
   "name": "python",
   "nbconvert_exporter": "python",
   "pygments_lexer": "ipython3",
   "version": "3.12.4"
  }
 },
 "nbformat": 4,
 "nbformat_minor": 0
}
