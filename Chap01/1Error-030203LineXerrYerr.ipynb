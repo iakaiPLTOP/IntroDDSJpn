{
 "cells": [
  {
   "cell_type": "markdown",
   "metadata": {
    "id": "vrtNjk7S5AYx"
   },
   "source": [
    "*   ベースディレクトリと、出力ディレクトリを設定します。"
   ]
  },
  {
   "cell_type": "code",
   "execution_count": 1,
   "metadata": {
    "executionInfo": {
     "elapsed": 11,
     "status": "ok",
     "timestamp": 1723512965445,
     "user": {
      "displayName": "赤井一郎",
      "userId": "14970386652069821665"
     },
     "user_tz": -540
    },
    "id": "Zeo1H-F949eP"
   },
   "outputs": [],
   "source": [
    "############################################\n",
    "BaseDir      = 'IntroDDSJpn/Chap01/'\n",
    "OutputDir    = '1Error-030203LineXerrYerr/'\n",
    "FileBaseName = '1Error-030203LineXerrYerr'"
   ]
  },
  {
   "cell_type": "markdown",
   "metadata": {
    "id": "EjbHBLZy5Fcx"
   },
   "source": [
    "*   Google Colabかどうかを判別し、このJupyter Notebookのあるディレクトリを特定します。"
   ]
  },
  {
   "cell_type": "code",
   "execution_count": 2,
   "metadata": {
    "colab": {
     "base_uri": "https://localhost:8080/"
    },
    "executionInfo": {
     "elapsed": 18012,
     "status": "ok",
     "timestamp": 1723512983448,
     "user": {
      "displayName": "赤井一郎",
      "userId": "14970386652069821665"
     },
     "user_tz": -540
    },
    "id": "ucDzCOOR5HMG",
    "outputId": "41720a56-088f-4ce4-be03-30dd79135e14"
   },
   "outputs": [
    {
     "name": "stdout",
     "output_type": "stream",
     "text": [
      "ipynb file path = d:\\home\\iakai\\CY\\Docs\\Kuma3Curriculum\\2025森北出版\\GitHubIntroDDSJpn\\IntroDDSJpn\\Chap01/\n"
     ]
    }
   ],
   "source": [
    "############################################\n",
    "import sys\n",
    "import os\n",
    "############################################\n",
    "def IsGoogleColab():\n",
    "  if 'google.colab' in sys.modules:\n",
    "    return True\n",
    "  else:\n",
    "    return False\n",
    "############################################\n",
    "if IsGoogleColab():\n",
    "  #\n",
    "  from google.colab import drive\n",
    "  drive.mount('/content/drive')\n",
    "  #\n",
    "  IpynbDir = 'drive/My Drive/Colab Notebooks/' + BaseDir\n",
    "else:\n",
    "  #\n",
    "  IpynbDir =  os.getcwd() + '/'\n",
    "############################################\n",
    "print( 'ipynb file path = %s' % IpynbDir )"
   ]
  },
  {
   "cell_type": "markdown",
   "metadata": {
    "id": "EpkRB629FOkO"
   },
   "source": [
    "*   必要なパッケージを読み込み、ファイルの出力先のディレクトリを用意します。"
   ]
  },
  {
   "cell_type": "code",
   "execution_count": 3,
   "metadata": {
    "colab": {
     "base_uri": "https://localhost:8080/"
    },
    "executionInfo": {
     "elapsed": 857,
     "status": "ok",
     "timestamp": 1723512984299,
     "user": {
      "displayName": "赤井一郎",
      "userId": "14970386652069821665"
     },
     "user_tz": -540
    },
    "id": "bAPd2Csfee74",
    "outputId": "48cab221-f6c3-48f8-e964-371ca5671212"
   },
   "outputs": [
    {
     "name": "stdout",
     "output_type": "stream",
     "text": [
      "matplotlib Ver. 3.9.2\n",
      "numpy      Ver. 1.26.4\n",
      "pandas     Ver. 2.2.3\n",
      "FilePath = d:\\home\\iakai\\CY\\Docs\\Kuma3Curriculum\\2025森北出版\\GitHubIntroDDSJpn\\IntroDDSJpn\\Chap01/1Error-030203LineXerrYerr/\n",
      "  making d:\\home\\iakai\\CY\\Docs\\Kuma3Curriculum\\2025森北出版\\GitHubIntroDDSJpn\\IntroDDSJpn\\Chap01/1Error-030203LineXerrYerr/\n"
     ]
    }
   ],
   "source": [
    "############################################\n",
    "import matplotlib as mpl\n",
    "import matplotlib.pyplot as plt\n",
    "%matplotlib inline\n",
    "print('matplotlib Ver.', mpl.__version__)\n",
    "#\n",
    "############################################\n",
    "import numpy as np\n",
    "print('numpy      Ver.', np.__version__)\n",
    "#\n",
    "############################################\n",
    "import pandas as pd\n",
    "print('pandas     Ver.', pd.__version__)\n",
    "#\n",
    "############################################\n",
    "FilePath = IpynbDir + OutputDir\n",
    "print( 'FilePath = %s' % FilePath )\n",
    "#\n",
    "if( True != os.path.isdir(FilePath) ):\n",
    "    print('  making %s' % FilePath )\n",
    "    os.mkdir(FilePath)\n",
    "else:\n",
    "    print(' %s is exist.' % FilePath )"
   ]
  },
  {
   "cell_type": "markdown",
   "metadata": {
    "id": "lvuiBtDXUkSV"
   },
   "source": [
    "最確値を書式化して文字列として返す関数\n",
    "```\n",
    "Format_MostProbableValue( v_mean, v_std, s_unit, std_2digits=True, latex=False )\n",
    "```\n",
    "*   返値: 書式化された文字列を返す。\n",
    "*   v_mean: 平均値\n",
    "*   v_std:  標準偏差\n",
    "*   s_unit: 値の単位(文字列)\n",
    "*   std_2digit=True: 標準偏差を2桁表示。Falseにすると1桁表示\n",
    "*   latex=False: テキスト文字列として出力。Trueでは、図などでlatex表示できる文字列で出力。"
   ]
  },
  {
   "cell_type": "code",
   "execution_count": 4,
   "metadata": {
    "executionInfo": {
     "elapsed": 8,
     "status": "ok",
     "timestamp": 1723512984299,
     "user": {
      "displayName": "赤井一郎",
      "userId": "14970386652069821665"
     },
     "user_tz": -540
    },
    "id": "qLR9rmiNQsKh"
   },
   "outputs": [],
   "source": [
    "def Format_MostProbableValue( v_mean, v_std, s_unit, std_2digits=True, latex=False ):\n",
    "  #\n",
    "  # 平均値の冪数\n",
    "  order_mean = np.floor( np.log10(v_mean) )\n",
    "  # print( 'order_mean=', order_mean )\n",
    "  #\n",
    "  # 標準偏差の冪数\n",
    "  if std_2digits:\n",
    "    # 標準偏差を有効2桁表示\n",
    "    order_std  = np.floor( np.log10(v_std) - 1.0 )\n",
    "  else:\n",
    "    # 標準偏差を有効1桁表示\n",
    "    order_std  = np.floor( np.log10(v_std) - 0.0 )\n",
    "  # print( 'order_std=', order_std )\n",
    "  #\n",
    "  # 平均値の冪数と標準偏差の冪数の符号が同じか?\n",
    "  if order_mean * order_std > 0.0:\n",
    "    # 例1\n",
    "    # v_mean = 4.60572E5\n",
    "    # v_std  = 8.96E3\n",
    "    # 例2\n",
    "    # v_mean = 4.605723E-2\n",
    "    # v_std  = 8.96E-5\n",
    "    multi_order = order_std+1\n",
    "    #\n",
    "    # 共通する冪数\n",
    "    multi = 10.0**multi_order\n",
    "    #\n",
    "    # 共通する冪数で規格化\n",
    "    v_mean = v_mean / multi\n",
    "    v_std  = v_std  / multi\n",
    "    #\n",
    "    # 共通した冪数で指数をくくって、係数は少数第1位\n",
    "    if latex:\n",
    "      out_str = r'(%+.1f $\\pm$ %.1f)$\\times10^{%+d}$ ' % (v_mean, v_std, multi_order) + s_unit\n",
    "    else:\n",
    "      out_str = '(%+.1f +/- %.1f)x10^(%+d) ' % (v_mean, v_std, multi_order) + s_unit\n",
    "    #\n",
    "  else:\n",
    "    # 平均値の冪数と標準偏差の冪数の符号が異なる\n",
    "    # 例2\n",
    "    # v_mean = 4.605723\n",
    "    # v_std  = 0.0896\n",
    "    fmt_std1 = r'$%%+.%df$' % -order_std\n",
    "    fmt_std2 = r'$%%.%df$'  % -order_std\n",
    "    if latex:\n",
    "      fmt_str = fmt_std1 + r' $\\pm$ ' + fmt_std2 + ' ' + s_unit\n",
    "    else:\n",
    "      fmt_str = fmt_std1 + ' +/- ' + fmt_std2 + ' ' + s_unit\n",
    "    #\n",
    "    out_str = fmt_str % (v_mean, v_std)\n",
    "  #\n",
    "  return out_str"
   ]
  },
  {
   "cell_type": "markdown",
   "metadata": {
    "id": "pExhPyeCJb2M"
   },
   "source": [
    "解析対象のデータをExcelファイルから読み込む"
   ]
  },
  {
   "cell_type": "code",
   "execution_count": 5,
   "metadata": {
    "executionInfo": {
     "elapsed": 955,
     "status": "ok",
     "timestamp": 1723512985249,
     "user": {
      "displayName": "赤井一郎",
      "userId": "14970386652069821665"
     },
     "user_tz": -540
    },
    "id": "s2B2wD5LZ4pI"
   },
   "outputs": [],
   "source": [
    "############################################\n",
    "# Excelファイルからデータを読み込み、arrayに\n",
    "# 変換する\n",
    "#\n",
    "df_Rdata = pd.read_excel(IpynbDir + FileBaseName + '-LSQMdata05.xlsx' )\n",
    "#\n",
    "x_i      = np.array( df_Rdata['x_length'    ] )\n",
    "sigma_xi = np.array( df_Rdata['x_sigma'     ] )\n",
    "x_set    = [ x_i, sigma_xi ]\n",
    "#\n",
    "y_i      = np.array( df_Rdata['y_resistance'] )\n",
    "sigma_yi = np.array( df_Rdata['y_sigma'     ] )\n",
    "#"
   ]
  },
  {
   "cell_type": "markdown",
   "metadata": {
    "id": "j_4v6FXlJnYZ"
   },
   "source": [
    "データと解析結果を描く関数"
   ]
  },
  {
   "cell_type": "code",
   "execution_count": 6,
   "metadata": {
    "executionInfo": {
     "elapsed": 14,
     "status": "ok",
     "timestamp": 1723512985255,
     "user": {
      "displayName": "赤井一郎",
      "userId": "14970386652069821665"
     },
     "user_tz": -540
    },
    "id": "sTKvB5p3IZCL"
   },
   "outputs": [],
   "source": [
    "############################################\n",
    "def GrfLineXerrYerr( Data_sets, label_x=r'$x$', label_y=r'$y$', title=r'$y=ax+b$' ):\n",
    "  #\n",
    "  plt.rcParams['font.size'] = 24\n",
    "  #\n",
    "  fig = plt.figure( figsize=(12,8) )\n",
    "  #\n",
    "  fig.subplots_adjust(left=0.12, right=0.65, top=0.90, bottom=0.12)\n",
    "  #\n",
    "  ax1 = fig.add_subplot(1,1,1)\n",
    "  ax1.set_xlabel( label_x )\n",
    "  ax1.set_ylabel( label_y )\n",
    "  #\n",
    "  for Data_set in Data_sets:\n",
    "    #\n",
    "    Xdata  = Data_set[0]\n",
    "    Xsigma = Data_set[1]\n",
    "    #\n",
    "    Ydata  = Data_set[2]\n",
    "    Ysigma = Data_set[3]\n",
    "    Ylabel = Data_set[4]\n",
    "    Ymode  = Data_set[5]\n",
    "    Ycolor = Data_set[6]\n",
    "    #\n",
    "    if Ysigma is not None:\n",
    "        if Xsigma is not None:\n",
    "          # plot / errorbar\n",
    "          ax1.errorbar( Xdata, Ydata, xerr=Xsigma, yerr=Ysigma, color=Ycolor, fmt='o', markersize=10, capsize=5, label=Ylabel )\n",
    "        else:\n",
    "          # plot / errorbar\n",
    "          ax1.errorbar( Xdata, Ydata, yerr=Ysigma, color=Ycolor, fmt='o', markersize=10, capsize=5, label=Ylabel )\n",
    "    else:\n",
    "      if Ymode == 1:\n",
    "        # plot / solid line\n",
    "        ax1.plot( Xdata, Ydata, color=Ycolor, linewidth=2.0, linestyle='solid', label=Ylabel )\n",
    "      elif  Ymode == 2:\n",
    "        # plot / dashed\n",
    "        ax1.plot( Xdata, Ydata, color=Ycolor, linewidth=2.0, linestyle='dashed', label=Ylabel )\n",
    "      elif  Ymode == 3:\n",
    "        # plot / dotted\n",
    "        ax1.plot( Xdata, Ydata, color=Ycolor, linewidth=2.0, linestyle='dotted', label=Ylabel )\n",
    "      else:\n",
    "        # scatter\n",
    "        ax1.scatter( Xdata, Ydata, color=Ycolor, s=20.0, label=Ylabel )\n",
    "    #\n",
    "  #\n",
    "  # # x_mean\n",
    "  # ax1.axvline( x_mean, 0, 1.0, color='black', linestyle='dotted', label=r'$\\overline{x}$' )\n",
    "  # #\n",
    "  # # y_mean\n",
    "  # ax1.axhline( y_mean, 0, 1.0, color='black', linestyle='dotted', label=r'$\\overline{y}$' )\n",
    "  #\n",
    "  plt.title( title )\n",
    "  plt.legend( fontsize=16,bbox_to_anchor=(1.05, 1), loc='upper left', borderaxespad=0 )\n",
    "  #\n",
    "  plt.show()\n",
    "  #\n",
    "  return fig\n",
    "\n",
    "############################################\n",
    "def GrfLineWeight( Xdata, Ysets, x_mean, y_mean, label_x=r'$x$', label_y=r'$y$', title=r'$y=ax+b$' ):\n",
    "  #\n",
    "  plt.rcParams['font.size'] = 24\n",
    "  #\n",
    "  fig = plt.figure( figsize=(12,8) )\n",
    "  #\n",
    "  fig.subplots_adjust(left=0.12, right=0.65, top=0.90, bottom=0.12)\n",
    "  #\n",
    "  ax1 = fig.add_subplot(1,1,1)\n",
    "  ax1.set_xlabel( label_x )\n",
    "  ax1.set_ylabel( label_y )\n",
    "  #\n",
    "  for Yset in Ysets:\n",
    "    #\n",
    "    Ydata  = Yset[0]\n",
    "    Ysigma = Yset[1]\n",
    "    Ylabel = Yset[2]\n",
    "    Ymode  = Yset[3]\n",
    "    Ycolor = Yset[4]\n",
    "    #\n",
    "    if Ysigma is not None:\n",
    "        # plot / errorbar\n",
    "        ax1.errorbar( Xdata, Ydata, yerr=Ysigma, color=Ycolor, fmt='o', markersize=10, capsize=5, label=Ylabel )\n",
    "    else:\n",
    "      if Ymode == 1:\n",
    "        # plot / solid line\n",
    "        ax1.plot( Xdata, Ydata, color=Ycolor, linewidth=2.0, linestyle='solid', label=Ylabel )\n",
    "      elif  Ymode == 2:\n",
    "        # plot / dashed\n",
    "        ax1.plot( Xdata, Ydata, color=Ycolor, linewidth=2.0, linestyle='dashed', label=Ylabel )\n",
    "      elif  Ymode == 3:\n",
    "        # plot / dotted\n",
    "        ax1.plot( Xdata, Ydata, color=Ycolor, linewidth=2.0, linestyle='dotted', label=Ylabel )\n",
    "      else:\n",
    "        # scatter\n",
    "        ax1.scatter( Xdata, Ydata, color=Ycolor, s=20.0, label=Ylabel )\n",
    "    #\n",
    "  #\n",
    "  # x_mean\n",
    "  ax1.axvline( x_mean, 0, 1.0, color='black', linestyle='dotted', label=r'$\\overline{x}$' )\n",
    "  #\n",
    "  # y_mean\n",
    "  ax1.axhline( y_mean, 0, 1.0, color='black', linestyle='dotted', label=r'$\\overline{y}$' )\n",
    "  #\n",
    "  plt.title( title )\n",
    "  plt.legend( fontsize=16,bbox_to_anchor=(1.05, 1), loc='upper left', borderaxespad=0 )\n",
    "  #\n",
    "  plt.show()\n",
    "  #\n",
    "  return fig\n",
    "\n",
    "############################################\n",
    "def GrfLine( Xdata, Ysets, x_mean, y_mean, title=r'$y=ax+b$' ):\n",
    "  #\n",
    "  plt.rcParams['font.size'] = 24\n",
    "  #\n",
    "  fig = plt.figure( figsize=(12,8) )\n",
    "  #\n",
    "  fig.subplots_adjust(left=0.12, right=0.65, top=0.90, bottom=0.12)\n",
    "  #\n",
    "  ax1 = fig.add_subplot(1,1,1)\n",
    "  ax1.set_xlabel( r'$x$' )\n",
    "  ax1.set_ylabel( r'$y$' )\n",
    "  #\n",
    "  for Yset in Ysets:\n",
    "    #\n",
    "    Ydata  = Yset[0]\n",
    "    Ysigma = Yset[1]\n",
    "    Ylabel = Yset[2]\n",
    "    Ymode  = Yset[3]\n",
    "    Ycolor = Yset[4]\n",
    "    #\n",
    "    if Ymode == 1:\n",
    "      # plot / solid line\n",
    "      ax1.plot( Xdata, Ydata, color=Ycolor, linewidth=2.0, linestyle='solid', label=Ylabel )\n",
    "    elif  Ymode == 2:\n",
    "      # plot / dashed\n",
    "      ax1.plot( Xdata, Ydata, color=Ycolor, linewidth=2.0, linestyle='dashed', label=Ylabel )\n",
    "    elif  Ymode == 3:\n",
    "      # plot / dotted\n",
    "      ax1.plot( Xdata, Ydata, color=Ycolor, linewidth=2.0, linestyle='dotted', label=Ylabel )\n",
    "    else:\n",
    "      # scatter\n",
    "      ax1.scatter( Xdata, Ydata, color=Ycolor, s=20.0, label=Ylabel )\n",
    "    #\n",
    "  #\n",
    "  # x_mean\n",
    "  ax1.axvline( x_mean, 0, 1.0, color='black', linestyle='dotted', label=r'$\\overline{x}$' )\n",
    "  #\n",
    "  # y_mean\n",
    "  ax1.axhline( y_mean, 0, 1.0, color='black', linestyle='dotted', label=r'$\\overline{y}$' )\n",
    "  #\n",
    "  plt.title( title )\n",
    "  plt.legend( fontsize=16,bbox_to_anchor=(1.05, 1), loc='upper left', borderaxespad=0 )\n",
    "  #\n",
    "  plt.show()\n",
    "  #\n",
    "  return fig"
   ]
  },
  {
   "cell_type": "markdown",
   "metadata": {
    "id": "lZd9tQJyDp-u"
   },
   "source": [
    "解析対象のデータのグラフを描画"
   ]
  },
  {
   "cell_type": "code",
   "execution_count": 7,
   "metadata": {
    "colab": {
     "base_uri": "https://localhost:8080/",
     "height": 785
    },
    "executionInfo": {
     "elapsed": 1372,
     "status": "ok",
     "timestamp": 1723512986615,
     "user": {
      "displayName": "赤井一郎",
      "userId": "14970386652069821665"
     },
     "user_tz": -540
    },
    "id": "O8yRUZsuChLm",
    "outputId": "485ab0c1-22a6-4e8b-83cd-57bf93c2583e"
   },
   "outputs": [
    {
     "data": {
      "image/png": "[encoded data removed]",
      "text/plain": [
       "<Figure size 1200x800 with 1 Axes>"
      ]
     },
     "metadata": {},
     "output_type": "display_data"
    }
   ],
   "source": [
    "############################################\n",
    "Rdatas = [ [ x_i, sigma_xi, y_i, sigma_yi, r'$R\\pm\\sigma~(\\Omega)$', 0, 'black' ] ]\n",
    "#\n",
    "fig = GrfLineXerrYerr( Rdatas, label_x=r'length (m)', label_y=r'Resistance ($\\Omega$)', title=r'$y=ax+b$' )\n",
    "#\n",
    "fig.savefig( FilePath + FileBaseName + '-01.pdf' )"
   ]
  },
  {
   "cell_type": "markdown",
   "metadata": {
    "id": "HzgAO530JvAJ"
   },
   "source": [
    "1.3.2\n",
    "\n",
    "(3) $x_{m}$, $y_{m}$の誤差が異なる場合の直線回帰\n",
    "\n",
    "* 各測定値の標準偏差の逆二乗を荷重として用いる\n",
    "* $x$軸の荷重\n",
    "  $$\n",
    "    w_{x1}:\\cdots:w_{xm}\n",
    "    =\n",
    "    \\frac{1}{\\sigma_{x1}^{2}}:\\cdots:\\frac{1}{\\sigma_{xm}^{2}},\n",
    "    \\quad\n",
    "    W_{x}\n",
    "    \\equiv\n",
    "    \\sum^{M}w_{xm}\n",
    "  $$\n",
    "* $y$軸の荷重\n",
    "  $$\n",
    "    w_{y1}:\\cdots:w_{ym}\n",
    "    =\n",
    "    \\frac{1}{\\sigma_{y1}^{2}}:\\cdots:\\frac{1}{\\sigma_{ym}^{2}},\n",
    "    \\quad\n",
    "    W_{y}\n",
    "    \\equiv\n",
    "    \\sum^{M}w_{ym}\n",
    "  $$\n",
    "* $y$軸値の荷重和\n",
    "  $$\n",
    "    \\overline{y} = \\sum^{M} w_{ym}\\,y_{m}\n",
    "  $$"
   ]
  },
  {
   "cell_type": "code",
   "execution_count": 8,
   "metadata": {
    "executionInfo": {
     "elapsed": 17,
     "status": "ok",
     "timestamp": 1723512986615,
     "user": {
      "displayName": "赤井一郎",
      "userId": "14970386652069821665"
     },
     "user_tz": -540
    },
    "id": "Ro6usVBwEjUW"
   },
   "outputs": [],
   "source": [
    "############################################\n",
    "# x軸 荷重\n",
    "w_xi = 1/(sigma_xi**2)\n",
    "#\n",
    "# x軸 荷重の和\n",
    "W_x = np.sum( w_xi )\n",
    "#\n",
    "# y軸 荷重\n",
    "w_yi = 1/(sigma_yi**2)\n",
    "#\n",
    "# x軸 荷重の和\n",
    "W_y = np.sum( w_yi )\n",
    "#\n",
    "############################################\n",
    "overline_y = np.sum( w_yi * y_i )"
   ]
  },
  {
   "cell_type": "markdown",
   "metadata": {
    "id": "NK3SD3keRj_z"
   },
   "source": [
    "【漸近法】\n",
    "\n",
    "まず$X_{i}$の初期値として測定値の$x_{i}$を用いる。\n",
    "\n",
    "1. 現在の$X_{i}$を用いて以下を計算する。\n",
    "  $$\n",
    "  \\overline{X}     = \\sum^{M}w_{ym}\\,X_{m},\\;\\;\\;\\;\\;\\;\n",
    "  \\overline{X^{2}} = \\sum^{M}w_{ym}\\,X_{m}^{2},\\;\\;\\;\\;\\;\\;\n",
    "  \\overline{Xy}    = \\sum^{M}w_{ym}X_{m}y_{m}\n",
    "  $$\n",
    "\n",
    "  $$\n",
    "  \\Delta = W_{y}\\overline{X^{2}} - (\\overline{X})^{2}\n",
    "  $$\n",
    "\n",
    "  これらを用いて$a$,$b$を計算する。\n",
    "  $$\n",
    "  a\n",
    "  =\n",
    "  \\frac{1}{\\Delta}\n",
    "  \\left(\n",
    "    W_y \\overline{Xy}-\\overline{X}\\overline{y}\n",
    "  \\right),\n",
    "  \\quad\n",
    "  b\n",
    "  =\n",
    "  \\frac{1}{\\Delta}\n",
    "  \\left(\n",
    "    \\overline{X^{2}}\\overline{y}-\\overline{X}\\,\\overline{Xy}\n",
    "  \\right)\n",
    "  $$\n",
    "\n",
    "2. $a$, $b$を次式に代入し、$X_{i}$を更新する。\n",
    "  $$\n",
    "  X_{m}\n",
    "  =\n",
    "  \\frac{\n",
    "    w_{xm}x_{m}+a(y_{m}-b)w_{ym}\n",
    "  }{\n",
    "    w_{xm}+a^{2}w_{ym}\n",
    "  }\n",
    "  $$\n",
    "\n",
    "3. $a$, $b$が収束するまで1., 2.を繰り返す。\n",
    "\n",
    "以下のプログラムでは、1回のループ$\\ell$での$a$, $b$値の更新において、以下の条件で収束判定をしている。\n",
    "$$\n",
    "\\frac{a_{\\ell}-a_{\\ell-1}}{a_{\\ell}},\\,\n",
    "\\frac{b_{\\ell}-a_{\\ell-1}}{b_{\\ell}}>1.0\\times10^{-6}\n",
    "$$"
   ]
  },
  {
   "cell_type": "code",
   "execution_count": 9,
   "metadata": {
    "colab": {
     "base_uri": "https://localhost:8080/"
    },
    "executionInfo": {
     "elapsed": 330,
     "status": "ok",
     "timestamp": 1723512986929,
     "user": {
      "displayName": "赤井一郎",
      "userId": "14970386652069821665"
     },
     "user_tz": -540
    },
    "id": "2GKMF6RIGUAN",
    "outputId": "a3853420-bdfe-406b-bb56-f22d876cc3c9"
   },
   "outputs": [
    {
     "name": "stdout",
     "output_type": "stream",
     "text": [
      "0000: X_i = [0.04190000 0.06280000 0.08980000 0.10140000 0.14290000 0.14450000 0.16980000 0.18410000 ], a=+1.24364060, b=-0.00047747, a_rerr=1.00E+00, b_rerr=1.00E+00\n",
      "0001: X_i = [0.04232689 0.06674977 0.08710974 0.10156872 0.13756168 0.14559453 0.17143787 0.18530263 ], a=+1.24543515, b=-0.00063059, a_rerr=1.44E-03, b_rerr=2.43E-01\n",
      "0002: X_i = [0.04232897 0.06675926 0.08710606 0.10156861 0.13752791 0.14555262 0.17136227 0.18526480 ], a=+1.24602798, b=-0.00066874, a_rerr=4.76E-04, b_rerr=5.71E-02\n",
      "0003: X_i = [0.04232942 0.06676060 0.08710333 0.10156843 0.13751290 0.14553386 0.17133115 0.18524959 ], a=+1.24624387, b=-0.00067930, a_rerr=1.73E-04, b_rerr=1.55E-02\n",
      "0004: X_i = [0.04232952 0.06676061 0.08710194 0.10156833 0.13750640 0.14552571 0.17131817 0.18524332 ], a=+1.24632785, b=-0.00068259, a_rerr=6.74E-05, b_rerr=4.82E-03\n",
      "0005: X_i = [0.04232954 0.06676049 0.08710129 0.10156828 0.13750362 0.14552222 0.17131272 0.18524070 ], a=+1.24636182, b=-0.00068373, a_rerr=2.73E-05, b_rerr=1.68E-03\n",
      "0006: X_i = [0.04232954 0.06676042 0.08710101 0.10156825 0.13750244 0.14552074 0.17131042 0.18523960 ], a=+1.24637587, b=-0.00068417, a_rerr=1.13E-05, b_rerr=6.33E-04\n",
      "0007: X_i = [0.04232955 0.06676038 0.08710089 0.10156824 0.13750194 0.14552011 0.17130945 0.18523914 ], a=+1.24638174, b=-0.00068434, a_rerr=4.71E-06, b_rerr=2.52E-04\n",
      "0008: X_i = [0.04232955 0.06676036 0.08710084 0.10156824 0.13750173 0.14551984 0.17130904 0.18523894 ], a=+1.24638421, b=-0.00068441, a_rerr=1.98E-06, b_rerr=1.03E-04\n",
      "0009: X_i = [0.04232955 0.06676036 0.08710082 0.10156824 0.13750164 0.14551973 0.17130887 0.18523886 ], a=+1.24638525, b=-0.00068444, a_rerr=8.35E-07, b_rerr=4.29E-05\n",
      "0010: X_i = [0.04232955 0.06676035 0.08710081 0.10156824 0.13750160 0.14551968 0.17130879 0.18523882 ], a=+1.24638569, b=-0.00068445, a_rerr=3.53E-07, b_rerr=1.80E-05\n",
      "0011: X_i = [0.04232955 0.06676035 0.08710080 0.10156824 0.13750158 0.14551966 0.17130876 0.18523881 ], a=+1.24638587, b=-0.00068446, a_rerr=1.49E-07, b_rerr=7.57E-06\n",
      "0012: X_i = [0.04232955 0.06676035 0.08710080 0.10156824 0.13750158 0.14551965 0.17130875 0.18523880 ], a=+1.24638595, b=-0.00068446, a_rerr=6.30E-08, b_rerr=3.20E-06\n",
      "0013: X_i = [0.04232955 0.06676035 0.08710080 0.10156824 0.13750157 0.14551965 0.17130874 0.18523880 ], a=+1.24638599, b=-0.00068446, a_rerr=2.66E-08, b_rerr=1.35E-06\n",
      "0014: X_i = [0.04232955 0.06676035 0.08710080 0.10156824 0.13750157 0.14551964 0.17130874 0.18523880 ], a=+1.24638600, b=-0.00068446, a_rerr=1.13E-08, b_rerr=5.71E-07\n"
     ]
    }
   ],
   "source": [
    "############################################\n",
    "X_i = np.copy( x_i )\n",
    "#\n",
    "loops    = 0\n",
    "max_loop = 100\n",
    "#\n",
    "a_prev  = 0.0\n",
    "b_prev  = 0.0\n",
    "a_rerr  = 1.0\n",
    "b_rerr  = 1.0\n",
    "#\n",
    "rel_err = 1.0E-6\n",
    "#\n",
    "while (loops < max_loop) & ( (a_rerr>rel_err) | (b_rerr>rel_err) ) :\n",
    "  #\n",
    "  overline_X  = np.sum( w_yi * X_i )\n",
    "  overline_X2 = np.sum( w_yi * X_i**2 )\n",
    "  overline_Xy = np.sum( w_yi * X_i * y_i )\n",
    "  #\n",
    "  Delta       = W_y * overline_X2 - overline_X**2\n",
    "  #\n",
    "  a = (W_y * overline_Xy - overline_X * overline_y) / Delta\n",
    "  b = (overline_X2 * overline_y - overline_X * overline_Xy) / Delta\n",
    "  a_rerr = np.abs( (a - a_prev) / a )\n",
    "  b_rerr = np.abs( (b - b_prev) / b )\n",
    "  #\n",
    "  X_i_str = '['\n",
    "  for XX_i in X_i:\n",
    "    X_i_str = X_i_str + '%.8f ' % XX_i\n",
    "  #\n",
    "  X_i_str = X_i_str + ']'\n",
    "  #\n",
    "  print( '%04d: X_i = %s, a=%+.8f, b=%+.8f, a_rerr=%.2E, b_rerr=%.2E' % (loops, X_i_str, a, b, a_rerr, b_rerr)  )\n",
    "  #\n",
    "  X_i = ( w_xi * x_i + a * (y_i - b) * w_yi ) / ( w_xi + a**2 * w_yi)\n",
    "  #\n",
    "  a_prev = a\n",
    "  b_prev = b\n",
    "  #\n",
    "  loops = loops + 1\n",
    "#\n",
    "Y_i = a * X_i + b"
   ]
  },
  {
   "cell_type": "markdown",
   "metadata": {
    "id": "GfK-bO_JWIBA"
   },
   "source": [
    "解析結果をグラフで描画"
   ]
  },
  {
   "cell_type": "code",
   "execution_count": null,
   "metadata": {
    "colab": {
     "base_uri": "https://localhost:8080/",
     "height": 0
    },
    "executionInfo": {
     "elapsed": 965,
     "status": "ok",
     "timestamp": 1723512987888,
     "user": {
      "displayName": "赤井一郎",
      "userId": "14970386652069821665"
     },
     "user_tz": -540
    },
    "id": "I3yMYVHmN8YD",
    "outputId": "ee2278b5-861b-4715-90f9-bcd69d414253"
   },
   "outputs": [
    {
     "data": {
      "image/png": "[encoded data removed]",
      "text/plain": [
       "<Figure size 1200x800 with 1 Axes>"
      ]
     },
     "metadata": {},
     "output_type": "display_data"
    }
   ],
   "source": [
    "############################################\n",
    "#\n",
    "lable_MLSQ = 'XerrYerr-MLSQ\\n  ' + r'$a=%+.6f~\\Omega/{\\rm{}m}$' % a + '\\n  ' + r'$b=%+.6f~\\Omega$' % b\n",
    "Rdatas = [ [ x_i, sigma_xi, y_i, sigma_yi, r'$R\\pm\\sigma~(\\Omega)$', 0, 'black' ],\n",
    "           [ X_i, None,     Y_i, None,     r'$X_{i}, Y_{i}$',        4, 'red'   ],\n",
    "           [ X_i, None,     Y_i, None,     lable_MLSQ,               1, 'red'   ]]\n",
    "#\n",
    "fig = GrfLineXerrYerr( Rdatas, label_x=r'length (m)', label_y=r'Resistance ($\\Omega$)', title=r'$y=ax+b$' )\n",
    "#\n",
    "fig.savefig( FilePath + FileBaseName + '-02.pdf' )"
   ]
  }
 ],
 "metadata": {
  "colab": {
   "provenance": [
    {
     "file_id": "1cPIsUNgf2DiWU-9qRA7vRKzSovG_uKLG",
     "timestamp": 1647235425978
    }
   ]
  },
  "kernelspec": {
   "display_name": "Python 3",
   "language": "python",
   "name": "python3"
  },
  "language_info": {
   "codemirror_mode": {
    "name": "ipython",
    "version": 3
   },
   "file_extension": ".py",
   "mimetype": "text/x-python",
   "name": "python",
   "nbconvert_exporter": "python",
   "pygments_lexer": "ipython3",
   "version": "3.12.4"
  }
 },
 "nbformat": 4,
 "nbformat_minor": 0
}
